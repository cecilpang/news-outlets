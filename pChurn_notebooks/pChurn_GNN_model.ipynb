{
 "cells": [
  {
   "cell_type": "code",
   "execution_count": 1,
   "id": "initial_id",
   "metadata": {},
   "outputs": [],
   "source": [
    "from google.cloud import bigquery\n",
    "import pandas as pd\n",
    "import numpy as np\n",
    "import matplotlib.pyplot as plt\n",
    "import os\n",
    "import torch\n",
    "import torch.nn as nn\n",
    "import torch.nn.functional as F\n",
    "import torch_geometric.transforms as T\n",
    "from torch_geometric.utils import to_undirected\n",
    "from torch_geometric.loader import LinkNeighborLoader\n",
    "from torch_geometric.nn import GraphSAGE\n",
    "from torch_geometric.data import Data\n",
    "import time\n",
    "from sklearn.decomposition import PCA\n",
    "import seaborn as sns\n",
    "from sklearn.cluster import KMeans\n",
    "\n",
    "from torch_geometric.nn.models.basic_gnn import BasicGNN\n",
    "from typing import Any, Callable, Dict, Final, List, Optional, Tuple, Union\n",
    "from torch_geometric.nn.conv import MessagePassing, GraphConv"
   ]
  },
  {
   "cell_type": "code",
   "execution_count": 2,
   "id": "85f5d9c6-abf0-4798-a759-04557e113572",
   "metadata": {},
   "outputs": [],
   "source": [
    "from helpers import *"
   ]
  },
  {
   "cell_type": "markdown",
   "id": "f828b001-75e7-4bfe-9433-3ac9714c71d6",
   "metadata": {},
   "source": [
    "# Load Nodes Data"
   ]
  },
  {
   "cell_type": "code",
   "execution_count": 35,
   "id": "71a6919a-3a91-44e6-b6dd-33edb7f726b4",
   "metadata": {},
   "outputs": [
    {
     "name": "stdout",
     "output_type": "stream",
     "text": [
      "Read from local csv files.\n"
     ]
    }
   ],
   "source": [
    "# BigQuery api client\n",
    "bq = bigquery.Client(location=\"US\")\n",
    "# load nodes tables into dataframes\n",
    "node_user, node_user_day, node_content, node_entities = load_nodes_tables(bq, local=True)"
   ]
  },
  {
   "cell_type": "code",
   "execution_count": 36,
   "id": "fb763bd0-8f96-4e28-b6af-40f768031c00",
   "metadata": {
    "collapsed": true,
    "jupyter": {
     "outputs_hidden": true,
     "source_hidden": true
    }
   },
   "outputs": [
    {
     "data": {
      "text/html": [
       "<div>\n",
       "<style scoped>\n",
       "    .dataframe tbody tr th:only-of-type {\n",
       "        vertical-align: middle;\n",
       "    }\n",
       "\n",
       "    .dataframe tbody tr th {\n",
       "        vertical-align: top;\n",
       "    }\n",
       "\n",
       "    .dataframe thead th {\n",
       "        text-align: right;\n",
       "    }\n",
       "</style>\n",
       "<table border=\"1\" class=\"dataframe\">\n",
       "  <thead>\n",
       "    <tr style=\"text-align: right;\">\n",
       "      <th></th>\n",
       "      <th>user_node_id</th>\n",
       "      <th>nodeType</th>\n",
       "      <th>subId</th>\n",
       "      <th>E1_Code</th>\n",
       "      <th>TenureDays</th>\n",
       "      <th>churned</th>\n",
       "    </tr>\n",
       "  </thead>\n",
       "  <tbody>\n",
       "    <tr>\n",
       "      <th>0</th>\n",
       "      <td>197</td>\n",
       "      <td>U</td>\n",
       "      <td>74442728887200EE</td>\n",
       "      <td>53</td>\n",
       "      <td>365</td>\n",
       "      <td>0</td>\n",
       "    </tr>\n",
       "    <tr>\n",
       "      <th>1</th>\n",
       "      <td>1660</td>\n",
       "      <td>U</td>\n",
       "      <td>74442789887200EE</td>\n",
       "      <td>2</td>\n",
       "      <td>365</td>\n",
       "      <td>1</td>\n",
       "    </tr>\n",
       "    <tr>\n",
       "      <th>2</th>\n",
       "      <td>653</td>\n",
       "      <td>U</td>\n",
       "      <td>74443467887200EE</td>\n",
       "      <td>8</td>\n",
       "      <td>365</td>\n",
       "      <td>0</td>\n",
       "    </tr>\n",
       "    <tr>\n",
       "      <th>3</th>\n",
       "      <td>928</td>\n",
       "      <td>U</td>\n",
       "      <td>74444999887200EE</td>\n",
       "      <td>8</td>\n",
       "      <td>365</td>\n",
       "      <td>0</td>\n",
       "    </tr>\n",
       "    <tr>\n",
       "      <th>4</th>\n",
       "      <td>1156</td>\n",
       "      <td>U</td>\n",
       "      <td>74445750887200EE</td>\n",
       "      <td>6</td>\n",
       "      <td>365</td>\n",
       "      <td>0</td>\n",
       "    </tr>\n",
       "    <tr>\n",
       "      <th>...</th>\n",
       "      <td>...</td>\n",
       "      <td>...</td>\n",
       "      <td>...</td>\n",
       "      <td>...</td>\n",
       "      <td>...</td>\n",
       "      <td>...</td>\n",
       "    </tr>\n",
       "    <tr>\n",
       "      <th>1676</th>\n",
       "      <td>1651</td>\n",
       "      <td>U</td>\n",
       "      <td>75488017887200EE</td>\n",
       "      <td>6</td>\n",
       "      <td>6</td>\n",
       "      <td>0</td>\n",
       "    </tr>\n",
       "    <tr>\n",
       "      <th>1677</th>\n",
       "      <td>241</td>\n",
       "      <td>U</td>\n",
       "      <td>75488251887200EE</td>\n",
       "      <td>9</td>\n",
       "      <td>359</td>\n",
       "      <td>0</td>\n",
       "    </tr>\n",
       "    <tr>\n",
       "      <th>1678</th>\n",
       "      <td>69</td>\n",
       "      <td>U</td>\n",
       "      <td>75488461887200EE</td>\n",
       "      <td>6</td>\n",
       "      <td>5</td>\n",
       "      <td>1</td>\n",
       "    </tr>\n",
       "    <tr>\n",
       "      <th>1679</th>\n",
       "      <td>343</td>\n",
       "      <td>U</td>\n",
       "      <td>75488517887200EE</td>\n",
       "      <td>4</td>\n",
       "      <td>18</td>\n",
       "      <td>0</td>\n",
       "    </tr>\n",
       "    <tr>\n",
       "      <th>1680</th>\n",
       "      <td>226</td>\n",
       "      <td>U</td>\n",
       "      <td>75488552887200EE</td>\n",
       "      <td>9</td>\n",
       "      <td>359</td>\n",
       "      <td>0</td>\n",
       "    </tr>\n",
       "  </tbody>\n",
       "</table>\n",
       "<p>1681 rows × 6 columns</p>\n",
       "</div>"
      ],
      "text/plain": [
       "      user_node_id nodeType             subId  E1_Code  TenureDays  churned\n",
       "0              197        U  74442728887200EE       53         365        0\n",
       "1             1660        U  74442789887200EE        2         365        1\n",
       "2              653        U  74443467887200EE        8         365        0\n",
       "3              928        U  74444999887200EE        8         365        0\n",
       "4             1156        U  74445750887200EE        6         365        0\n",
       "...            ...      ...               ...      ...         ...      ...\n",
       "1676          1651        U  75488017887200EE        6           6        0\n",
       "1677           241        U  75488251887200EE        9         359        0\n",
       "1678            69        U  75488461887200EE        6           5        1\n",
       "1679           343        U  75488517887200EE        4          18        0\n",
       "1680           226        U  75488552887200EE        9         359        0\n",
       "\n",
       "[1681 rows x 6 columns]"
      ]
     },
     "execution_count": 36,
     "metadata": {},
     "output_type": "execute_result"
    }
   ],
   "source": [
    "node_user"
   ]
  },
  {
   "cell_type": "code",
   "execution_count": 5,
   "id": "ce57cca2-b896-49f5-8cd6-b3c0eeef7826",
   "metadata": {
    "collapsed": true,
    "jupyter": {
     "outputs_hidden": true,
     "source_hidden": true
    },
    "scrolled": true
   },
   "outputs": [
    {
     "data": {
      "image/png": "[encoded data removed]",
      "text/plain": [
       "<Figure size 800x500 with 2 Axes>"
      ]
     },
     "metadata": {},
     "output_type": "display_data"
    }
   ],
   "source": [
    "num_boxPlot_desc(node_user, 'TenureDays')"
   ]
  },
  {
   "cell_type": "code",
   "execution_count": 37,
   "id": "d4f7b5db-c324-4ef1-b02d-085198b1c5a3",
   "metadata": {},
   "outputs": [
    {
     "data": {
      "text/plain": [
       "0.09518143961927424"
      ]
     },
     "execution_count": 37,
     "metadata": {},
     "output_type": "execute_result"
    }
   ],
   "source": [
    "node_user[node_user.TenureDays<=365].churned.mean()  #.user_node_id.nunique() = 1681"
   ]
  },
  {
   "cell_type": "code",
   "execution_count": 14,
   "id": "79eb1682-2580-4e3a-8207-f9a54c5614cb",
   "metadata": {
    "collapsed": true,
    "jupyter": {
     "outputs_hidden": true,
     "source_hidden": true
    }
   },
   "outputs": [
    {
     "data": {
      "text/plain": [
       "0.04372373949579832"
      ]
     },
     "execution_count": 14,
     "metadata": {},
     "output_type": "execute_result"
    }
   ],
   "source": [
    "node_user[node_user.TenureDays>365].churned.mean()    #.user_node_id.nunique() = 7616"
   ]
  },
  {
   "cell_type": "code",
   "execution_count": 38,
   "id": "3fd081f4-c213-46a4-bf26-9cae7a49cdfc",
   "metadata": {},
   "outputs": [],
   "source": [
    "node_user = node_user.sort_values(by=['user_node_id'], ascending=True).reset_index(drop=True)\n",
    "node_user[['user_node_id', 'E1_Code', 'churned']] = node_user[['user_node_id', 'E1_Code', 'churned']].astype('int64')\n",
    "node_user_day = node_user_day.sort_values(by=['user_day_node_id'], ascending=True).reset_index(drop=True)\n",
    "node_user_day['user_day_node_id'] = node_user_day.user_day_node_id.astype('int64')\n",
    "node_content = node_content.sort_values(by=['content_node_id'], ascending=True).reset_index(drop=True)\n",
    "node_content['content_node_id'] = node_content.content_node_id.astype('int64')\n",
    "node_entities = node_entities.sort_values(by=['entity_node_id'], ascending=True).reset_index(drop=True)\n",
    "node_entities['entity_node_id'] = node_entities.entity_node_id.astype('int64')\n",
    "node_content = pd.get_dummies(data=node_content, columns=['content_type', 'content_protection_status'])"
   ]
  },
  {
   "cell_type": "code",
   "execution_count": 39,
   "id": "c3caa384-d992-4d6e-8afb-2f3ae06724bf",
   "metadata": {
    "scrolled": true
   },
   "outputs": [
    {
     "name": "stdout",
     "output_type": "stream",
     "text": [
      "Users 1681 UserDay 25479 Contents 8478 Entities 5099\n"
     ]
    },
    {
     "data": {
      "text/html": [
       "<div>\n",
       "<style scoped>\n",
       "    .dataframe tbody tr th:only-of-type {\n",
       "        vertical-align: middle;\n",
       "    }\n",
       "\n",
       "    .dataframe tbody tr th {\n",
       "        vertical-align: top;\n",
       "    }\n",
       "\n",
       "    .dataframe thead th {\n",
       "        text-align: right;\n",
       "    }\n",
       "</style>\n",
       "<table border=\"1\" class=\"dataframe\">\n",
       "  <thead>\n",
       "    <tr style=\"text-align: right;\">\n",
       "      <th></th>\n",
       "      <th>user_node_id</th>\n",
       "      <th>nodeType</th>\n",
       "      <th>subId</th>\n",
       "      <th>E1_Code</th>\n",
       "      <th>TenureDays</th>\n",
       "      <th>churned</th>\n",
       "    </tr>\n",
       "  </thead>\n",
       "  <tbody>\n",
       "    <tr>\n",
       "      <th>0</th>\n",
       "      <td>0</td>\n",
       "      <td>U</td>\n",
       "      <td>75276094887200EE</td>\n",
       "      <td>142</td>\n",
       "      <td>95</td>\n",
       "      <td>0</td>\n",
       "    </tr>\n",
       "    <tr>\n",
       "      <th>1</th>\n",
       "      <td>1</td>\n",
       "      <td>U</td>\n",
       "      <td>74739525887200EE</td>\n",
       "      <td>8</td>\n",
       "      <td>290</td>\n",
       "      <td>0</td>\n",
       "    </tr>\n",
       "    <tr>\n",
       "      <th>2</th>\n",
       "      <td>2</td>\n",
       "      <td>U</td>\n",
       "      <td>75405357887200EE</td>\n",
       "      <td>9</td>\n",
       "      <td>40</td>\n",
       "      <td>0</td>\n",
       "    </tr>\n",
       "  </tbody>\n",
       "</table>\n",
       "</div>"
      ],
      "text/plain": [
       "   user_node_id nodeType             subId  E1_Code  TenureDays  churned\n",
       "0             0        U  75276094887200EE      142          95        0\n",
       "1             1        U  74739525887200EE        8         290        0\n",
       "2             2        U  75405357887200EE        9          40        0"
      ]
     },
     "metadata": {},
     "output_type": "display_data"
    },
    {
     "data": {
      "text/html": [
       "<div>\n",
       "<style scoped>\n",
       "    .dataframe tbody tr th:only-of-type {\n",
       "        vertical-align: middle;\n",
       "    }\n",
       "\n",
       "    .dataframe tbody tr th {\n",
       "        vertical-align: top;\n",
       "    }\n",
       "\n",
       "    .dataframe thead th {\n",
       "        text-align: right;\n",
       "    }\n",
       "</style>\n",
       "<table border=\"1\" class=\"dataframe\">\n",
       "  <thead>\n",
       "    <tr style=\"text-align: right;\">\n",
       "      <th></th>\n",
       "      <th>user_day_node_id</th>\n",
       "      <th>nodeType</th>\n",
       "      <th>subDayId</th>\n",
       "    </tr>\n",
       "  </thead>\n",
       "  <tbody>\n",
       "    <tr>\n",
       "      <th>0</th>\n",
       "      <td>0</td>\n",
       "      <td>UT</td>\n",
       "      <td>75276094887200EE2023-11-29</td>\n",
       "    </tr>\n",
       "    <tr>\n",
       "      <th>1</th>\n",
       "      <td>1</td>\n",
       "      <td>UT</td>\n",
       "      <td>74739525887200EE2023-11-21</td>\n",
       "    </tr>\n",
       "    <tr>\n",
       "      <th>2</th>\n",
       "      <td>2</td>\n",
       "      <td>UT</td>\n",
       "      <td>75405357887200EE2023-12-15</td>\n",
       "    </tr>\n",
       "  </tbody>\n",
       "</table>\n",
       "</div>"
      ],
      "text/plain": [
       "   user_day_node_id nodeType                    subDayId\n",
       "0                 0       UT  75276094887200EE2023-11-29\n",
       "1                 1       UT  74739525887200EE2023-11-21\n",
       "2                 2       UT  75405357887200EE2023-12-15"
      ]
     },
     "metadata": {},
     "output_type": "display_data"
    },
    {
     "data": {
      "text/html": [
       "<div>\n",
       "<style scoped>\n",
       "    .dataframe tbody tr th:only-of-type {\n",
       "        vertical-align: middle;\n",
       "    }\n",
       "\n",
       "    .dataframe tbody tr th {\n",
       "        vertical-align: top;\n",
       "    }\n",
       "\n",
       "    .dataframe thead th {\n",
       "        text-align: right;\n",
       "    }\n",
       "</style>\n",
       "<table border=\"1\" class=\"dataframe\">\n",
       "  <thead>\n",
       "    <tr style=\"text-align: right;\">\n",
       "      <th></th>\n",
       "      <th>content_node_id</th>\n",
       "      <th>nodeType</th>\n",
       "      <th>content_id</th>\n",
       "      <th>content_length</th>\n",
       "      <th>content_type_article</th>\n",
       "      <th>content_type_video</th>\n",
       "      <th>content_protection_status_free</th>\n",
       "      <th>content_protection_status_metered</th>\n",
       "      <th>content_protection_status_premium</th>\n",
       "    </tr>\n",
       "  </thead>\n",
       "  <tbody>\n",
       "    <tr>\n",
       "      <th>0</th>\n",
       "      <td>0</td>\n",
       "      <td>C</td>\n",
       "      <td>3661891</td>\n",
       "      <td>523.0</td>\n",
       "      <td>1</td>\n",
       "      <td>0</td>\n",
       "      <td>1</td>\n",
       "      <td>0</td>\n",
       "      <td>0</td>\n",
       "    </tr>\n",
       "    <tr>\n",
       "      <th>1</th>\n",
       "      <td>1</td>\n",
       "      <td>C</td>\n",
       "      <td>9503357</td>\n",
       "      <td>1309.0</td>\n",
       "      <td>1</td>\n",
       "      <td>0</td>\n",
       "      <td>0</td>\n",
       "      <td>1</td>\n",
       "      <td>0</td>\n",
       "    </tr>\n",
       "    <tr>\n",
       "      <th>2</th>\n",
       "      <td>2</td>\n",
       "      <td>C</td>\n",
       "      <td>12546645</td>\n",
       "      <td>70.0</td>\n",
       "      <td>0</td>\n",
       "      <td>1</td>\n",
       "      <td>1</td>\n",
       "      <td>0</td>\n",
       "      <td>0</td>\n",
       "    </tr>\n",
       "  </tbody>\n",
       "</table>\n",
       "</div>"
      ],
      "text/plain": [
       "   content_node_id nodeType  content_id  content_length  content_type_article  \\\n",
       "0                0        C     3661891           523.0                     1   \n",
       "1                1        C     9503357          1309.0                     1   \n",
       "2                2        C    12546645            70.0                     0   \n",
       "\n",
       "   content_type_video  content_protection_status_free  \\\n",
       "0                   0                               1   \n",
       "1                   0                               0   \n",
       "2                   1                               1   \n",
       "\n",
       "   content_protection_status_metered  content_protection_status_premium  \n",
       "0                                  0                                  0  \n",
       "1                                  1                                  0  \n",
       "2                                  0                                  0  "
      ]
     },
     "metadata": {},
     "output_type": "display_data"
    },
    {
     "data": {
      "text/html": [
       "<div>\n",
       "<style scoped>\n",
       "    .dataframe tbody tr th:only-of-type {\n",
       "        vertical-align: middle;\n",
       "    }\n",
       "\n",
       "    .dataframe tbody tr th {\n",
       "        vertical-align: top;\n",
       "    }\n",
       "\n",
       "    .dataframe thead th {\n",
       "        text-align: right;\n",
       "    }\n",
       "</style>\n",
       "<table border=\"1\" class=\"dataframe\">\n",
       "  <thead>\n",
       "    <tr style=\"text-align: right;\">\n",
       "      <th></th>\n",
       "      <th>entity_node_id</th>\n",
       "      <th>nodeType</th>\n",
       "      <th>entities</th>\n",
       "    </tr>\n",
       "  </thead>\n",
       "  <tbody>\n",
       "    <tr>\n",
       "      <th>0</th>\n",
       "      <td>0</td>\n",
       "      <td>E</td>\n",
       "      <td>politicians</td>\n",
       "    </tr>\n",
       "    <tr>\n",
       "      <th>1</th>\n",
       "      <td>1</td>\n",
       "      <td>E</td>\n",
       "      <td>lyndon johnson</td>\n",
       "    </tr>\n",
       "    <tr>\n",
       "      <th>2</th>\n",
       "      <td>2</td>\n",
       "      <td>E</td>\n",
       "      <td>donald trump</td>\n",
       "    </tr>\n",
       "  </tbody>\n",
       "</table>\n",
       "</div>"
      ],
      "text/plain": [
       "   entity_node_id nodeType        entities\n",
       "0               0        E     politicians\n",
       "1               1        E  lyndon johnson\n",
       "2               2        E    donald trump"
      ]
     },
     "metadata": {},
     "output_type": "display_data"
    }
   ],
   "source": [
    "print('Users', node_user.shape[0], 'UserDay', node_user_day.shape[0], 'Contents', node_content.shape[0], 'Entities', node_entities.shape[0])\n",
    "display(node_user.head(3))\n",
    "display(node_user_day.head(3))\n",
    "display(node_content.head(3))\n",
    "display(node_entities.head(3))"
   ]
  },
  {
   "cell_type": "code",
   "execution_count": 40,
   "id": "936a9026-8711-4f40-8997-48d914e0f9d2",
   "metadata": {},
   "outputs": [
    {
     "name": "stdout",
     "output_type": "stream",
     "text": [
      "torch.Size([8478, 11])\n"
     ]
    },
    {
     "data": {
      "text/plain": [
       "tensor([[ 5.2300e+02,  1.0000e+00,  0.0000e+00,  1.0000e+00,  0.0000e+00,\n",
       "          0.0000e+00,  0.0000e+00,  0.0000e+00,  1.0000e+00,  0.0000e+00,\n",
       "         -9.9000e+01],\n",
       "        [ 1.3090e+03,  1.0000e+00,  0.0000e+00,  0.0000e+00,  1.0000e+00,\n",
       "          0.0000e+00,  0.0000e+00,  0.0000e+00,  1.0000e+00,  0.0000e+00,\n",
       "         -9.9000e+01],\n",
       "        [ 7.0000e+01,  0.0000e+00,  1.0000e+00,  1.0000e+00,  0.0000e+00,\n",
       "          0.0000e+00,  0.0000e+00,  0.0000e+00,  1.0000e+00,  0.0000e+00,\n",
       "         -9.9000e+01]])"
      ]
     },
     "execution_count": 40,
     "metadata": {},
     "output_type": "execute_result"
    }
   ],
   "source": [
    "content_fea = node_content[['content_length', 'content_type_article', 'content_type_video', 'content_protection_status_free', \n",
    "                            'content_protection_status_metered', 'content_protection_status_premium']].copy()\n",
    "                            # 'content_protection_status_registered']].copy()     # 7 features\n",
    "content_fea['node_type_u'], content_fea['node_type_ut'], content_fea['node_type_c'], content_fea['node_type_e'], content_fea['y'] = [0,0,1,0,-99]\n",
    "content_fea = torch.from_numpy(content_fea.values).to(torch.float)\n",
    "print(content_fea.shape)\n",
    "content_fea[:3]"
   ]
  },
  {
   "cell_type": "code",
   "execution_count": 41,
   "id": "54a17530-1af3-4bcc-a6d3-99bb26c5bbaa",
   "metadata": {},
   "outputs": [
    {
     "name": "stdout",
     "output_type": "stream",
     "text": [
      "torch.Size([1681, 11])\n"
     ]
    },
    {
     "data": {
      "text/plain": [
       "tensor([[  0.,   0.,   0.,   0.,   0., 142.,   1.,   0.,   0.,   0.,   0.],\n",
       "        [  0.,   0.,   0.,   0.,   0.,   8.,   1.,   0.,   0.,   0.,   0.],\n",
       "        [  0.,   0.,   0.,   0.,   0.,   9.,   1.,   0.,   0.,   0.,   0.]])"
      ]
     },
     "execution_count": 41,
     "metadata": {},
     "output_type": "execute_result"
    }
   ],
   "source": [
    "user_fea = pd.DataFrame(np.zeros((node_user.shape[0], 5), dtype=int), columns=['padding1', 'padding2','padding3','padding4','padding5']) #,'padding6'])\n",
    "user_fea['E1_Code']=node_user.E1_Code\n",
    "user_fea['node_type_u'], user_fea['node_type_ut'], user_fea['node_type_c'], user_fea['node_type_e'] = [1,0,0,0]\n",
    "user_fea['y']=node_user.churned\n",
    "user_fea = torch.from_numpy(user_fea.values).to(torch.float)\n",
    "print(user_fea.shape)\n",
    "user_fea[:3]"
   ]
  },
  {
   "cell_type": "code",
   "execution_count": 42,
   "id": "55d9928d-18f3-411a-a869-9a6f3314a50f",
   "metadata": {},
   "outputs": [
    {
     "name": "stdout",
     "output_type": "stream",
     "text": [
      "torch.Size([25479, 11])\n"
     ]
    },
    {
     "data": {
      "text/plain": [
       "tensor([[  0.,   0.,   0.,   0.,   0.,   0.,   0.,   1.,   0.,   0., -99.],\n",
       "        [  0.,   0.,   0.,   0.,   0.,   0.,   0.,   1.,   0.,   0., -99.],\n",
       "        [  0.,   0.,   0.,   0.,   0.,   0.,   0.,   1.,   0.,   0., -99.]])"
      ]
     },
     "execution_count": 42,
     "metadata": {},
     "output_type": "execute_result"
    }
   ],
   "source": [
    "ut_fea = pd.DataFrame(np.zeros((node_user_day.shape[0], 6), dtype=int), columns=['padding1', 'padding2','padding3','padding4','padding5','padding6']) #,'padding7'])\n",
    "ut_fea['node_type_u'], ut_fea['node_type_ut'], ut_fea['node_type_c'], ut_fea['node_type_e'], ut_fea['y'] = [0,1,0,0,-99]\n",
    "ut_fea = torch.from_numpy(ut_fea.values).to(torch.float)\n",
    "print(ut_fea.shape)\n",
    "ut_fea[:3]"
   ]
  },
  {
   "cell_type": "code",
   "execution_count": 43,
   "id": "2c4e135f-a12e-4d55-812c-69a9a3f5402a",
   "metadata": {},
   "outputs": [
    {
     "name": "stdout",
     "output_type": "stream",
     "text": [
      "torch.Size([5099, 11])\n"
     ]
    },
    {
     "data": {
      "text/plain": [
       "tensor([[  0.,   0.,   0.,   0.,   0.,   0.,   0.,   0.,   0.,   1., -99.],\n",
       "        [  0.,   0.,   0.,   0.,   0.,   0.,   0.,   0.,   0.,   1., -99.],\n",
       "        [  0.,   0.,   0.,   0.,   0.,   0.,   0.,   0.,   0.,   1., -99.]])"
      ]
     },
     "execution_count": 43,
     "metadata": {},
     "output_type": "execute_result"
    }
   ],
   "source": [
    "entity_fea = pd.DataFrame(np.zeros((node_entities.shape[0], 6), dtype=int), columns=['padding1', 'padding2','padding3','padding4','padding5','padding6']) #,'padding7'])\n",
    "entity_fea['node_type_u'], entity_fea['node_type_ut'], entity_fea['node_type_c'], entity_fea['node_type_e'], entity_fea['y'] = [0,0,0,1,-99]\n",
    "entity_fea = torch.from_numpy(entity_fea.values).to(torch.float)\n",
    "print(entity_fea.shape)\n",
    "entity_fea[:3]"
   ]
  },
  {
   "cell_type": "code",
   "execution_count": 44,
   "id": "d4a7703e-3e53-4e73-b08e-56c01dd237ca",
   "metadata": {},
   "outputs": [
    {
     "name": "stdout",
     "output_type": "stream",
     "text": [
      "torch.Size([40737, 11])\n"
     ]
    },
    {
     "data": {
      "text/plain": [
       "tensor([[  0.,   0.,   0.,   0.,   0., 142.,   1.,   0.,   0.,   0.,   0.],\n",
       "        [  0.,   0.,   0.,   0.,   0.,   8.,   1.,   0.,   0.,   0.,   0.],\n",
       "        [  0.,   0.,   0.,   0.,   0.,   9.,   1.,   0.,   0.,   0.,   0.]])"
      ]
     },
     "execution_count": 44,
     "metadata": {},
     "output_type": "execute_result"
    }
   ],
   "source": [
    "# Nodes combined\n",
    "combined_nodes_features = torch.cat((user_fea, ut_fea, content_fea, entity_fea), dim=0)\n",
    "print(combined_nodes_features.shape)\n",
    "combined_nodes_features[:3]"
   ]
  },
  {
   "cell_type": "markdown",
   "id": "f4b5c769-9f72-4201-84a3-5638dbab03d3",
   "metadata": {},
   "source": [
    "# Load Edge Indices data"
   ]
  },
  {
   "cell_type": "code",
   "execution_count": 45,
   "id": "a59162a3-1323-4f5d-90b9-e90661fda55f",
   "metadata": {},
   "outputs": [
    {
     "name": "stdout",
     "output_type": "stream",
     "text": [
      "Read from local csv files.\n",
      "(25479, 2) (87015, 2) (58596, 3) (4929, 2)\n"
     ]
    }
   ],
   "source": [
    "# load edge indices into dataframes\n",
    "u_to_ut, ut_to_c, c_to_e, e_to_e = load_edge_indices(bq, local=True)\n",
    "u_to_ut = u_to_ut.astype('int64')\n",
    "ut_to_c = ut_to_c.astype('int64')\n",
    "c_to_e = c_to_e.astype('float32')\n",
    "c_to_e[['edge_from', 'edge_to']] = c_to_e[['edge_from', 'edge_to']].astype('int64')\n",
    "e_to_e = e_to_e.astype('int64')\n",
    "print(u_to_ut.shape, ut_to_c.shape, c_to_e.shape, e_to_e.shape)"
   ]
  },
  {
   "cell_type": "code",
   "execution_count": 156,
   "id": "20efed23-1b1b-4561-a923-70ce4080c845",
   "metadata": {},
   "outputs": [
    {
     "data": {
      "text/plain": [
       "array([0.38031171, 0.19393099, 0.27301249, 0.18890813, 0.73454789,\n",
       "       0.30790954, 0.88246901, 0.72089034, 0.41111468, 0.47452485])"
      ]
     },
     "execution_count": 156,
     "metadata": {},
     "output_type": "execute_result"
    }
   ],
   "source": [
    "np.random.uniform(size=10)"
   ]
  },
  {
   "cell_type": "raw",
   "id": "8265e71c-a109-4606-a09c-74dcf1ee1be1",
   "metadata": {},
   "source": [
    "#set the lower and higher percentile range\n",
    "lower_percentile = 0.05\n",
    "higher_percentile = 0.95\n",
    "\n",
    "#returns values at the given quantile within the specified range\n",
    "\n",
    "low, high = c_to_e['relevanceScore'].quantile([lower_percentile, higher_percentile])\n",
    "print(low, high)"
   ]
  },
  {
   "cell_type": "code",
   "execution_count": null,
   "id": "ce99d467-768f-4c87-94b8-8b40ef4d4e1f",
   "metadata": {},
   "outputs": [],
   "source": []
  },
  {
   "cell_type": "code",
   "execution_count": null,
   "id": "85da84f0-5dfe-4bf9-bcb4-dc15b0ccd83d",
   "metadata": {},
   "outputs": [],
   "source": []
  },
  {
   "cell_type": "code",
   "execution_count": null,
   "id": "e4b11094-9522-4f4c-9b13-5c55fccf8501",
   "metadata": {},
   "outputs": [],
   "source": []
  },
  {
   "cell_type": "code",
   "execution_count": 47,
   "id": "177e78ab-6af5-4494-96f7-c37cb3d815c0",
   "metadata": {},
   "outputs": [
    {
     "name": "stdout",
     "output_type": "stream",
     "text": [
      "(176019, 3)\n"
     ]
    }
   ],
   "source": [
    "# Assign global node ids and combine the 2 edge index tables\n",
    "# This is necessary because PyG LinkNeighborLoader does not yet support graphs with multiple edge types.\n",
    "\n",
    "user_node_id_offset = node_user.shape[0]\n",
    "ut_node_id_offset = node_user.shape[0] + node_user_day.shape[0]\n",
    "content_node_id_offset = node_user.shape[0] + node_user_day.shape[0] + node_content.shape[0]\n",
    "\n",
    "u_to_ut['src'] = u_to_ut['edge_from']\n",
    "u_to_ut['trg'] = u_to_ut['edge_to'] + user_node_id_offset\n",
    "u_to_ut['weight'] = np.ones((u_to_ut.shape[0], 1), dtype=np.float32)\n",
    "u_to_ut = u_to_ut.drop(columns=['edge_from', 'edge_to'])\n",
    "\n",
    "ut_to_c['src'] = ut_to_c['edge_from'] + user_node_id_offset\n",
    "ut_to_c['trg'] = ut_to_c['edge_to'] + ut_node_id_offset\n",
    "ut_to_c['weight'] = np.ones((ut_to_c.shape[0], 1), dtype=np.float32)\n",
    "ut_to_c = ut_to_c.drop(columns=['edge_from', 'edge_to'])\n",
    "\n",
    "c_to_e['src'] = c_to_e['edge_from'] + ut_node_id_offset\n",
    "c_to_e['trg'] = c_to_e['edge_to'] + content_node_id_offset\n",
    "c_to_e['weight'] = c_to_e['relevanceScore'].clip(0., 1.)\n",
    "c_to_e = c_to_e.drop(columns=['edge_from', 'edge_to', 'relevanceScore'])\n",
    "\n",
    "e_to_e['src'] = e_to_e['edge_from'] + content_node_id_offset\n",
    "e_to_e['trg'] = e_to_e['edge_to'] + content_node_id_offset\n",
    "e_to_e['weight'] = np.ones((e_to_e.shape[0], 1), dtype=np.float32)\n",
    "e_to_e = e_to_e.drop(columns=['edge_from', 'edge_to'])\n",
    "\n",
    "# Combine the edges\n",
    "combined_edges = pd.concat([u_to_ut, ut_to_c, c_to_e, e_to_e])\n",
    "print(combined_edges.shape)\n",
    "assert max(combined_edges['trg'].values) == node_user.shape[0] + node_user_day.shape[0] + node_content.shape[0] + node_entities.shape[0] - 1"
   ]
  },
  {
   "cell_type": "code",
   "execution_count": 48,
   "id": "869fa5c3-f59a-4c0c-ae3f-15089b8f9d77",
   "metadata": {},
   "outputs": [
    {
     "name": "stdout",
     "output_type": "stream",
     "text": [
      "torch.Size([2, 176019])\n"
     ]
    }
   ],
   "source": [
    "# construct `edge_index` in COO format\n",
    "src = torch.from_numpy(combined_edges['src'].values)\n",
    "trg = torch.from_numpy(combined_edges['trg'].values)\n",
    "edge_index = torch.stack([src, trg], dim=0)\n",
    "edge_weight = torch.from_numpy(combined_edges['weight'].values)\n",
    "print(edge_index.shape)\n",
    "assert edge_index.size() == (2, u_to_ut.shape[0]+ut_to_c.shape[0]+c_to_e.shape[0]+e_to_e.shape[0])\n",
    "assert edge_index.size()[1] == edge_weight.size()[0]"
   ]
  },
  {
   "cell_type": "code",
   "execution_count": 49,
   "id": "3e677223-5619-4cd3-b511-6086521d12f6",
   "metadata": {},
   "outputs": [],
   "source": [
    "edge_index, edge_weight = to_undirected(edge_index, edge_weight)"
   ]
  },
  {
   "cell_type": "markdown",
   "id": "686f7d1f-59bf-4e1c-9d60-f6ec9bec96bc",
   "metadata": {},
   "source": [
    "# Train test split"
   ]
  },
  {
   "cell_type": "code",
   "execution_count": 111,
   "id": "0c261122-f31e-4e3b-b345-382e0798393e",
   "metadata": {},
   "outputs": [
    {
     "name": "stdout",
     "output_type": "stream",
     "text": [
      "total num users 1681 test set users 168\n"
     ]
    }
   ],
   "source": [
    "total_user = node_user.shape[0]\n",
    "test_user = int(total_user*0.1)\n",
    "y_col = 10\n",
    "print('total num users', total_user, 'test set users', test_user)"
   ]
  },
  {
   "cell_type": "code",
   "execution_count": 112,
   "id": "58aff62b-8991-4027-b4e0-08ca552bc3cd",
   "metadata": {},
   "outputs": [
    {
     "name": "stdout",
     "output_type": "stream",
     "text": [
      "Churn rate before split 0.09518144279718399\n"
     ]
    },
    {
     "data": {
      "text/plain": [
       "tensor([0., 1.])"
      ]
     },
     "execution_count": 112,
     "metadata": {},
     "output_type": "execute_result"
    }
   ],
   "source": [
    "print('Churn rate before split', combined_nodes_features[:total_user, y_col].mean().item())\n",
    "combined_nodes_features[:total_user, y_col].unique()    # original user labels, just 0, 1"
   ]
  },
  {
   "cell_type": "code",
   "execution_count": 113,
   "id": "9fd44ac3-4ba0-4410-8e5f-7ededaacf33c",
   "metadata": {},
   "outputs": [
    {
     "name": "stdout",
     "output_type": "stream",
     "text": [
      "168\n"
     ]
    }
   ],
   "source": [
    "# reserve 10% users as test set. Keep global user_node_id in test_idx\n",
    "test_idx = torch.randperm(total_user)[:test_user]         # ramdom permutation then 10% node_id\n",
    "print(len(test_idx))\n",
    "test_set = combined_nodes_features[test_idx, :]"
   ]
  },
  {
   "cell_type": "code",
   "execution_count": 114,
   "id": "f74860db-2921-466c-9acc-dd47b9fc86ef",
   "metadata": {},
   "outputs": [
    {
     "name": "stdout",
     "output_type": "stream",
     "text": [
      "test set num_users:  torch.Size([168, 11]) \n",
      "churn rate:  tensor(0.0952) \n",
      "total num_users:  torch.Size([1681, 11]) \n",
      "churn rate:  tensor(0.0952)\n"
     ]
    }
   ],
   "source": [
    "print('test set num_users: ', test_set.size(), \n",
    "      '\\nchurn rate: ', test_set[:,y_col].mean(), \n",
    "      '\\ntotal num_users: ', combined_nodes_features[:total_user].size(),\n",
    "      '\\nchurn rate: ', combined_nodes_features[:total_user, y_col].mean())"
   ]
  },
  {
   "cell_type": "code",
   "execution_count": 115,
   "id": "7e369887-8341-4a13-928d-ae91129fdc94",
   "metadata": {},
   "outputs": [
    {
     "data": {
      "text/plain": [
       "tensor([-99.,   0.,   1.])"
      ]
     },
     "execution_count": 115,
     "metadata": {},
     "output_type": "execute_result"
    }
   ],
   "source": [
    "# mask original user labels to be -99. for test set\n",
    "combined_nodes_features[test_idx, 10] = -99.    \n",
    "combined_nodes_features[:node_user.shape[0], 10].unique()    # after mask, test set users are labeled as -99."
   ]
  },
  {
   "cell_type": "markdown",
   "id": "3cff91e5-3f3b-4cc0-85c6-676f6de04b83",
   "metadata": {},
   "source": [
    "# Modeling"
   ]
  },
  {
   "cell_type": "markdown",
   "id": "ed4d51b6-7600-48e2-a0fa-c646c8c00192",
   "metadata": {},
   "source": [
    "## Data Loader"
   ]
  },
  {
   "cell_type": "code",
   "execution_count": 116,
   "id": "335f8b6f-1e6e-4c69-b7e7-7c5802b708a8",
   "metadata": {},
   "outputs": [
    {
     "name": "stdout",
     "output_type": "stream",
     "text": [
      "cuda\n",
      "True\n"
     ]
    },
    {
     "data": {
      "text/plain": [
       "Data(x=[40737, 10], edge_index=[2, 352038], y=[40737], edge_weight=[352038])"
      ]
     },
     "execution_count": 116,
     "metadata": {},
     "output_type": "execute_result"
    }
   ],
   "source": [
    "device = torch.device('cuda' if torch.cuda.is_available() else 'cpu')\n",
    "print(device)\n",
    "\n",
    "data = Data(x=combined_nodes_features[:, :10], y=combined_nodes_features[:, 10], #.to(torch.int64),\n",
    "            edge_index=edge_index, edge_weight=edge_weight)\n",
    "print(data.is_undirected())\n",
    "data = data.to(device)\n",
    "data"
   ]
  },
  {
   "cell_type": "code",
   "execution_count": 117,
   "id": "035cd7ff-8976-4694-bb2e-f209146ec95f",
   "metadata": {},
   "outputs": [
    {
     "data": {
      "text/plain": [
       "tensor([1.1658e-05, 1.1659e-05, 1.5543e-05,  ..., 9.9956e-01, 9.9992e-01,\n",
       "        1.0000e+00], device='cuda:0')"
      ]
     },
     "execution_count": 117,
     "metadata": {},
     "output_type": "execute_result"
    }
   ],
   "source": [
    "data.edge_weight.unique()"
   ]
  },
  {
   "cell_type": "code",
   "execution_count": 118,
   "id": "5fd4ad16-2736-45be-8ef0-6fe8e52966ab",
   "metadata": {},
   "outputs": [],
   "source": [
    "# for mini batch training\n",
    "train_loader = LinkNeighborLoader(\n",
    "    data,\n",
    "    batch_size=10000, \n",
    "    shuffle=True,\n",
    "    neg_sampling_ratio=1.0,\n",
    "    num_neighbors=[20, 20],\n",
    ")"
   ]
  },
  {
   "cell_type": "code",
   "execution_count": 119,
   "id": "6218b0ad-0743-42c0-b6e1-29f9b6a30d9b",
   "metadata": {},
   "outputs": [
    {
     "name": "stdout",
     "output_type": "stream",
     "text": [
      "Data(x=[39610, 10], edge_index=[2, 249348], y=[39610], edge_weight=[249348], n_id=[39610], e_id=[249348], num_sampled_nodes=[3], num_sampled_edges=[2], input_id=[10000], edge_label_index=[2, 20000], edge_label=[20000])\n"
     ]
    }
   ],
   "source": [
    "sample = next(iter(train_loader)).to(device)\n",
    "print(sample)"
   ]
  },
  {
   "cell_type": "markdown",
   "id": "2c96067a-eebd-4b8a-b269-9b223e0b8cec",
   "metadata": {},
   "source": [
    "## GraphSAGE + Fully Connect NN"
   ]
  },
  {
   "cell_type": "code",
   "execution_count": 120,
   "id": "b2bc560e-5595-4539-b06b-78bf36418128",
   "metadata": {},
   "outputs": [],
   "source": [
    "class GraphSAGE(BasicGNN):\n",
    "    supports_edge_weight: Final[bool] = False\n",
    "    supports_edge_attr: Final[bool] = False\n",
    "    supports_norm_batch: Final[bool]\n",
    "\n",
    "    def init_conv(self, in_channels: Union[int, Tuple[int, int]],\n",
    "                  out_channels: int, **kwargs) -> MessagePassing:\n",
    "        return GraphConv(in_channels, out_channels, aggr='add', **kwargs)    "
   ]
  },
  {
   "cell_type": "code",
   "execution_count": 121,
   "id": "3d13966b-d71f-4fe9-a78a-f1d3a5cb2764",
   "metadata": {},
   "outputs": [],
   "source": [
    "class FullyConnectNN(nn.Module):\n",
    "  def __init__(self):\n",
    "    super().__init__()\n",
    "\n",
    "    input_size = 64          # same as SAGE hidden_channels 64\n",
    "    hidden_sizes = [64, 64]  # 1st and 2nd hidden layer size\n",
    "    output_size = 1          # binary classifier, so output layer size is 1\n",
    "    self.net = nn.Sequential(\n",
    "          nn.Linear(input_size, hidden_sizes[0]),       # layer 1\n",
    "          nn.ReLU(),\n",
    "          nn.Linear(hidden_sizes[0], hidden_sizes[1]),   # layer 2\n",
    "          nn.ReLU(),\n",
    "          nn.Linear(hidden_sizes[1], output_size))\n",
    "          # nn.Sigmoid())      # Output                   \n",
    "\n",
    "\n",
    "  def forward(self, x):\n",
    "    return self.net(x)"
   ]
  },
  {
   "cell_type": "markdown",
   "id": "686d81dc-2f35-4fac-b7bf-a2309a27cf25",
   "metadata": {},
   "source": [
    "## Train-Val-Test"
   ]
  },
  {
   "cell_type": "code",
   "execution_count": 122,
   "id": "94e642fc-573a-4e98-b7e5-a04a966f47ae",
   "metadata": {},
   "outputs": [],
   "source": [
    "def train(model1, model2, optimizer, train_loader, device, loss_weight=(0.5, 0.5)):  # user_node_id_offset, data,\n",
    "\n",
    "    model1.train()\n",
    "    model2.train()\n",
    "    num_batches = 0\n",
    "    ep_loss1, ep_loss2 = 0.0, 0.0\n",
    "    ep_pred_sage = torch.empty((0), dtype=torch.float32).to(device)\n",
    "    ep_pred = torch.empty((0), dtype=torch.float32).to(device)\n",
    "    ep_label = torch.empty((0), dtype=torch.int64).to(device)\n",
    "    \n",
    "    for batch in train_loader:\n",
    "        loss1, loss2 = 0.0, 0.0\n",
    "        batch = batch.to(device)\n",
    "        optimizer.zero_grad()\n",
    "    \n",
    "        # SAGE\n",
    "        h = model1(batch.x, batch.edge_index) #, batch.edge_weight)\n",
    "        h_src = h[batch.edge_label_index[0]]\n",
    "        h_dst = h[batch.edge_label_index[1]]\n",
    "        pred = (h_src * h_dst).sum(dim=-1)\n",
    "        loss1 = F.binary_cross_entropy_with_logits(pred, batch.edge_label)/10000.0\n",
    "    \n",
    "        # user nodes embeddings and y in the batch \n",
    "        mask = batch.y != -99.                          # only train set user nodes in the batch\n",
    "        mask = torch.reshape(mask.nonzero(), (-1,))\n",
    "        fea = h[mask, :]                                # user nodes' embeddings\n",
    "        label = batch.y[mask]                           # labels of users\n",
    "        assert fea.size()[0] == label.size()[0]\n",
    "        assert label.max() == 1\n",
    "        \n",
    "        if mask.shape[0] > 0:                           # loss2 when message passing involves user nodes\n",
    "            # Fully Connect NN\n",
    "            train_pred = model2(fea)\n",
    "            train_pred = torch.reshape(train_pred, (-1,))\n",
    "            loss2 = F.binary_cross_entropy_with_logits(train_pred, label, pos_weight=torch.Tensor([1.5]).to(device))\n",
    "            loss = loss_weight[0] * loss1 + loss_weight[1] * loss2\n",
    "            # loss = loss2\n",
    "        else:                                           # no loss2 when message passing involve none user nodes\n",
    "            loss = loss1\n",
    "            # continue\n",
    "    \n",
    "        loss.backward()\n",
    "        optimizer.step()\n",
    "\n",
    "        num_batches += 1\n",
    "        ep_loss1 += loss1\n",
    "        ep_loss2 += loss2\n",
    "        # ep_pred_sage = torch.cat((ep_pred_sage, pred))\n",
    "        # ep_pred = torch.cat((ep_pred, train_pred))\n",
    "        # ep_label = torch.cat((ep_label, label.to(torch.int64)))\n",
    "\n",
    "    return ep_loss1/num_batches, ep_loss2/num_batches, ep_pred  # loss  # total_loss / data.num_nodes   ep_pred_sage, "
   ]
  },
  {
   "cell_type": "code",
   "execution_count": 124,
   "id": "c0b9f047-3685-4f15-b3f1-73dbe310eba9",
   "metadata": {},
   "outputs": [
    {
     "name": "stdout",
     "output_type": "stream",
     "text": [
      "Epoch: 001, AvgLoss1: 3316.5947, AvgLoss2: 10.4074\n",
      "Epoch: 002, AvgLoss1: 192.5896, AvgLoss2: 1.8819\n",
      "Epoch: 003, AvgLoss1: 81.1322, AvgLoss2: 0.8282\n",
      "Epoch: 004, AvgLoss1: 43.9975, AvgLoss2: 0.5798\n",
      "Epoch: 005, AvgLoss1: 7.6443, AvgLoss2: 0.6276\n",
      "Epoch: 006, AvgLoss1: 8.4146, AvgLoss2: 0.4742\n",
      "Epoch: 007, AvgLoss1: 9.4371, AvgLoss2: 0.4935\n",
      "Epoch: 008, AvgLoss1: 10.7102, AvgLoss2: 0.5639\n",
      "Epoch: 009, AvgLoss1: 4.8506, AvgLoss2: 0.4412\n",
      "Epoch: 010, AvgLoss1: 0.7200, AvgLoss2: 0.4124\n",
      "Epoch: 011, AvgLoss1: 0.4455, AvgLoss2: 0.4101\n",
      "Epoch: 012, AvgLoss1: 0.3727, AvgLoss2: 0.4088\n",
      "Epoch: 013, AvgLoss1: 0.3424, AvgLoss2: 0.4069\n",
      "Epoch: 014, AvgLoss1: 0.3204, AvgLoss2: 0.4073\n",
      "Epoch: 015, AvgLoss1: 0.3004, AvgLoss2: 0.4070\n",
      "Epoch: 016, AvgLoss1: 0.2828, AvgLoss2: 0.4062\n",
      "Epoch: 017, AvgLoss1: 0.2702, AvgLoss2: 0.4076\n",
      "Epoch: 018, AvgLoss1: 0.2651, AvgLoss2: 0.4073\n",
      "Epoch: 019, AvgLoss1: 0.2541, AvgLoss2: 0.4068\n",
      "Epoch: 020, AvgLoss1: 0.2368, AvgLoss2: 0.4050\n",
      "Epoch: 021, AvgLoss1: 0.2297, AvgLoss2: 0.4093\n",
      "Epoch: 022, AvgLoss1: 1.4336, AvgLoss2: 0.4228\n",
      "Epoch: 023, AvgLoss1: 0.4900, AvgLoss2: 0.4095\n",
      "Epoch: 024, AvgLoss1: 0.2537, AvgLoss2: 0.4066\n",
      "Epoch: 025, AvgLoss1: 0.2187, AvgLoss2: 0.4048\n",
      "Epoch: 026, AvgLoss1: 0.2065, AvgLoss2: 0.4033\n",
      "Epoch: 027, AvgLoss1: 0.2070, AvgLoss2: 0.4048\n",
      "Epoch: 028, AvgLoss1: 0.2041, AvgLoss2: 0.4030\n",
      "Epoch: 029, AvgLoss1: 0.1914, AvgLoss2: 0.4037\n",
      "Epoch: 030, AvgLoss1: 0.1908, AvgLoss2: 0.4015\n",
      "Epoch: 031, AvgLoss1: 0.2273, AvgLoss2: 0.4069\n",
      "Epoch: 032, AvgLoss1: 0.1852, AvgLoss2: 0.4008\n",
      "Epoch: 033, AvgLoss1: 0.1775, AvgLoss2: 0.3986\n",
      "Epoch: 034, AvgLoss1: 0.1678, AvgLoss2: 0.3990\n",
      "Epoch: 035, AvgLoss1: 0.1641, AvgLoss2: 0.3992\n",
      "Epoch: 036, AvgLoss1: 0.1698, AvgLoss2: 0.4031\n",
      "Epoch: 037, AvgLoss1: 0.2694, AvgLoss2: 0.4068\n",
      "Epoch: 038, AvgLoss1: 0.2012, AvgLoss2: 0.4032\n",
      "Epoch: 039, AvgLoss1: 0.1660, AvgLoss2: 0.3977\n",
      "Epoch: 040, AvgLoss1: 0.1680, AvgLoss2: 0.3994\n",
      "Epoch: 041, AvgLoss1: 0.5765, AvgLoss2: 0.4164\n",
      "Epoch: 042, AvgLoss1: 30.4107, AvgLoss2: 0.7848\n",
      "Epoch: 043, AvgLoss1: 1.5037, AvgLoss2: 0.4119\n",
      "Epoch: 044, AvgLoss1: 0.4069, AvgLoss2: 0.4101\n",
      "Epoch: 045, AvgLoss1: 0.2692, AvgLoss2: 0.4084\n",
      "Epoch: 046, AvgLoss1: 0.1970, AvgLoss2: 0.4075\n",
      "Epoch: 047, AvgLoss1: 0.1500, AvgLoss2: 0.4058\n",
      "Epoch: 048, AvgLoss1: 0.1157, AvgLoss2: 0.4058\n",
      "Epoch: 049, AvgLoss1: 0.0898, AvgLoss2: 0.4066\n",
      "Epoch: 050, AvgLoss1: 0.0726, AvgLoss2: 0.4053\n",
      "Epoch: 051, AvgLoss1: 0.0596, AvgLoss2: 0.4057\n",
      "Epoch: 052, AvgLoss1: 0.0508, AvgLoss2: 0.4064\n",
      "Epoch: 053, AvgLoss1: 0.0431, AvgLoss2: 0.4050\n",
      "Epoch: 054, AvgLoss1: 0.0374, AvgLoss2: 0.4049\n",
      "Epoch: 055, AvgLoss1: 0.0327, AvgLoss2: 0.4055\n",
      "Epoch: 056, AvgLoss1: 0.0301, AvgLoss2: 0.4051\n",
      "Epoch: 057, AvgLoss1: 0.0272, AvgLoss2: 0.4051\n",
      "Epoch: 058, AvgLoss1: 0.0250, AvgLoss2: 0.4035\n",
      "Epoch: 059, AvgLoss1: 0.0233, AvgLoss2: 0.4037\n",
      "Epoch: 060, AvgLoss1: 0.0211, AvgLoss2: 0.4050\n",
      "Epoch: 061, AvgLoss1: 0.0198, AvgLoss2: 0.4031\n",
      "Epoch: 062, AvgLoss1: 0.0186, AvgLoss2: 0.4048\n",
      "Epoch: 063, AvgLoss1: 0.0175, AvgLoss2: 0.4033\n",
      "Epoch: 064, AvgLoss1: 0.0168, AvgLoss2: 0.4035\n",
      "Epoch: 065, AvgLoss1: 0.0161, AvgLoss2: 0.4026\n",
      "Epoch: 066, AvgLoss1: 0.0156, AvgLoss2: 0.4029\n",
      "Epoch: 067, AvgLoss1: 0.0151, AvgLoss2: 0.4037\n",
      "Epoch: 068, AvgLoss1: 0.0145, AvgLoss2: 0.4023\n",
      "Epoch: 069, AvgLoss1: 0.0142, AvgLoss2: 0.4021\n",
      "Epoch: 070, AvgLoss1: 0.0141, AvgLoss2: 0.4035\n",
      "Epoch: 071, AvgLoss1: 0.0135, AvgLoss2: 0.4026\n",
      "Epoch: 072, AvgLoss1: 0.0131, AvgLoss2: 0.4012\n",
      "Epoch: 073, AvgLoss1: 0.0129, AvgLoss2: 0.4010\n",
      "Epoch: 074, AvgLoss1: 0.0123, AvgLoss2: 0.4035\n",
      "Epoch: 075, AvgLoss1: 0.0120, AvgLoss2: 0.4014\n",
      "Epoch: 076, AvgLoss1: 0.0120, AvgLoss2: 0.4018\n",
      "Epoch: 077, AvgLoss1: 0.0115, AvgLoss2: 0.4015\n",
      "Epoch: 078, AvgLoss1: 0.0114, AvgLoss2: 0.4004\n",
      "Epoch: 079, AvgLoss1: 0.0113, AvgLoss2: 0.3994\n",
      "Epoch: 080, AvgLoss1: 0.0111, AvgLoss2: 0.4002\n",
      "Epoch: 081, AvgLoss1: 0.0111, AvgLoss2: 0.4004\n",
      "Epoch: 082, AvgLoss1: 0.0109, AvgLoss2: 0.4009\n",
      "Epoch: 083, AvgLoss1: 0.0105, AvgLoss2: 0.3996\n",
      "Epoch: 084, AvgLoss1: 0.0105, AvgLoss2: 0.4003\n",
      "Epoch: 085, AvgLoss1: 0.0102, AvgLoss2: 0.3995\n",
      "Epoch: 086, AvgLoss1: 0.0103, AvgLoss2: 0.4000\n",
      "Epoch: 087, AvgLoss1: 0.0101, AvgLoss2: 0.3994\n",
      "Epoch: 088, AvgLoss1: 0.0104, AvgLoss2: 0.3995\n",
      "Epoch: 089, AvgLoss1: 0.0102, AvgLoss2: 0.3996\n",
      "Epoch: 090, AvgLoss1: 0.0104, AvgLoss2: 0.3988\n",
      "Epoch: 091, AvgLoss1: 0.0102, AvgLoss2: 0.3987\n",
      "Epoch: 092, AvgLoss1: 0.0100, AvgLoss2: 0.3982\n",
      "Epoch: 093, AvgLoss1: 0.0103, AvgLoss2: 0.3984\n",
      "Epoch: 094, AvgLoss1: 0.0100, AvgLoss2: 0.3982\n",
      "Epoch: 095, AvgLoss1: 0.0101, AvgLoss2: 0.3983\n",
      "Epoch: 096, AvgLoss1: 0.0103, AvgLoss2: 0.3971\n",
      "Epoch: 097, AvgLoss1: 0.0102, AvgLoss2: 0.3965\n",
      "Epoch: 098, AvgLoss1: 0.0110, AvgLoss2: 0.3972\n",
      "Epoch: 099, AvgLoss1: 0.0109, AvgLoss2: 0.3947\n",
      "Median time per epoch: 0.7517s\n"
     ]
    }
   ],
   "source": [
    "model1 = GraphSAGE(\n",
    "    data.num_node_features,\n",
    "    hidden_channels=64,\n",
    "    num_layers=2,\n",
    ").to(device)\n",
    "model2 = FullyConnectNN().to(device)\n",
    "optimizer = torch.optim.Adam(model1.parameters(), lr=0.01)\n",
    "last_layer = nn.Sigmoid()\n",
    "\n",
    "# Training loop\n",
    "times = []\n",
    "for epoch in range(1, 100):\n",
    "    start = time.time()\n",
    "    ep_loss1, ep_loss2, ep_pred = train(model1, model2, optimizer, train_loader, device, loss_weight=(0.01, 0.99))   # ep_pred_sage, \n",
    "    print(f'Epoch: {epoch:03d}, AvgLoss1: {ep_loss1:.4f}, AvgLoss2: {ep_loss2:.4f}')\n",
    "    # ep_pred_sage = last_layer(ep_pred_sage)\n",
    "    # ep_pred = last_layer(ep_pred)\n",
    "    # print(f'\\tSage pred min: {ep_pred_sage.min().item():.4f}, max: {ep_pred_sage.max().item():.4f}, mean: {ep_pred_sage.mean().item():.4f}')\n",
    "    # print(f'\\tFC pred min: {ep_pred.min().item():.4f}, max: {ep_pred.max().item():.4f}, mean: {ep_pred.mean().item():.4f}\\n')\n",
    "    # val process\n",
    "    times.append(time.time() - start)\n",
    "    \n",
    "print(f\"Median time per epoch: {torch.tensor(times).median():.4f}s\")"
   ]
  },
  {
   "cell_type": "code",
   "execution_count": 125,
   "id": "2ab4ad51-7890-4457-a1cd-4f834c7ac6f6",
   "metadata": {},
   "outputs": [],
   "source": [
    "# Save the trained model\n",
    "save_model(model1, 'gnn_model.pt')\n",
    "save_model(model2, 'fcnn_model.pt')"
   ]
  },
  {
   "cell_type": "code",
   "execution_count": 126,
   "id": "b931ba2f-951b-473b-81b4-dad4c000abc2",
   "metadata": {},
   "outputs": [],
   "source": [
    "load_model(model1, 'gnn_model.pt')\n",
    "load_model(model2, 'fcnn_model.pt')"
   ]
  },
  {
   "cell_type": "code",
   "execution_count": 127,
   "id": "58f93a44-67ea-4201-a0d0-3a6409299dc6",
   "metadata": {},
   "outputs": [],
   "source": [
    "model1.eval()\n",
    "ht = model1(data.x, data.edge_index, data.edge_weight)\n",
    "\n",
    "fea_t = ht[test_idx, :]           # test set user nodes' embeddings\n",
    "label_t = test_set[:, 10]         # test set original labels"
   ]
  },
  {
   "cell_type": "code",
   "execution_count": 128,
   "id": "ecd912f6-ec82-4a29-b3e3-49aa4d329162",
   "metadata": {},
   "outputs": [],
   "source": [
    "model2.eval()\n",
    "test_pred = model2(fea_t)\n",
    "\n",
    "last_layer = nn.Sigmoid()\n",
    "test_pred = last_layer(test_pred)\n",
    "test_pred = torch.reshape(test_pred, (-1,)).to('cpu')"
   ]
  },
  {
   "cell_type": "code",
   "execution_count": 129,
   "id": "dfb5e21c-af45-4d0c-8f4c-7207ff1a9dd3",
   "metadata": {},
   "outputs": [
    {
     "name": "stdout",
     "output_type": "stream",
     "text": [
      "Test set Loss2: 0.7438\n",
      "Test set churn predition min: 0.0012, max: 0.3954, mean: 0.1203\n"
     ]
    }
   ],
   "source": [
    "print(f'Test set Loss2: {F.binary_cross_entropy_with_logits(test_pred, label_t).item():.4f}')\n",
    "        \n",
    "print(f'Test set churn predition min: {test_pred.min().item():.4f}, max: {test_pred.max().item():.4f}, mean: {test_pred.mean().item():.4f}')"
   ]
  },
  {
   "cell_type": "code",
   "execution_count": 152,
   "id": "3c296970-b7dd-4cbf-86bb-3948790263c1",
   "metadata": {},
   "outputs": [
    {
     "name": "stdout",
     "output_type": "stream",
     "text": [
      "Accuracy: 67 , TP: 12 , TN: 55\n",
      "tensor([[55, 97],\n",
      "        [ 4, 12]])\n",
      "Test set F1: 0.1920\n"
     ]
    }
   ],
   "source": [
    "#threshold = 0.00000010\n",
    "threshold = 0.09\n",
    "\n",
    "print('Accuracy:' , ((test_pred>threshold) == label_t).sum().item(),\n",
    "      ', TP:', torch.logical_and((test_pred>threshold) == label_t, label_t==1).sum().item(),\n",
    "      ', TN:', torch.logical_and((test_pred>threshold) == label_t, label_t==0).sum().item())   \n",
    "label_t = label_t.to(torch.int64)\n",
    "print(binary_confusion_matrix(test_pred, label_t, threshold=threshold))\n",
    "print(f'Test set F1: {binary_f1_score(test_pred, label_t, threshold=threshold).item():.4f}')"
   ]
  },
  {
   "cell_type": "code",
   "execution_count": 154,
   "id": "99d730d3-9129-428e-9fc1-b6eba9ad0305",
   "metadata": {},
   "outputs": [
    {
     "name": "stdout",
     "output_type": "stream",
     "text": [
      "Random prediction F1: 0.1603\n"
     ]
    }
   ],
   "source": [
    "threshold = 0.5\n",
    "f1 = 0.0\n",
    "for i in range(10000):\n",
    "    ran_pred = torch.rand(len(label_t))     # random prediction\n",
    "    \n",
    "    # print('Accuracy:' , ((ran_pred>threshold) == label_t).sum().item(),\n",
    "    #       ', TP:', torch.logical_and((ran_pred>threshold) == label_t, label_t==1).sum().item(),\n",
    "    #       ', TN:', torch.logical_and((ran_pred>threshold) == label_t, label_t==0).sum().item())   \n",
    "\n",
    "    # print(binary_confusion_matrix(ran_pred, label_t, threshold=threshold))\n",
    "    f1 += binary_f1_score(ran_pred, label_t, threshold=threshold).item()\n",
    "\n",
    "print(f'Random prediction F1: {f1/10000:.4f}')"
   ]
  },
  {
   "cell_type": "code",
   "execution_count": null,
   "id": "a2a09399-623d-4bd3-8ca0-2f7103c19c56",
   "metadata": {},
   "outputs": [],
   "source": []
  },
  {
   "cell_type": "code",
   "execution_count": null,
   "id": "07613d55-00aa-43bc-8a64-8f09c29585fb",
   "metadata": {},
   "outputs": [],
   "source": []
  }
 ],
 "metadata": {
  "kernelspec": {
   "display_name": "Python 3 (ipykernel)",
   "language": "python",
   "name": "python3"
  },
  "language_info": {
   "codemirror_mode": {
    "name": "ipython",
    "version": 3
   },
   "file_extension": ".py",
   "mimetype": "text/x-python",
   "name": "python",
   "nbconvert_exporter": "python",
   "pygments_lexer": "ipython3",
   "version": "3.11.8"
  }
 },
 "nbformat": 4,
 "nbformat_minor": 5
}
