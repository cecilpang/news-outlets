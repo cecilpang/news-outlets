{
 "cells": [
  {
   "cell_type": "code",
   "execution_count": 1,
   "id": "95d4e527-b266-4637-a164-d63671bac030",
   "metadata": {
    "ExecuteTime": {
     "end_time": "2023-12-03T20:08:48.560708Z",
     "start_time": "2023-12-03T20:08:43.351084Z"
    }
   },
   "outputs": [],
   "source": [
    "import os.path as osp\n",
    "import time\n",
    "\n",
    "import torch\n",
    "import torch.nn.functional as F\n",
    "from sklearn.linear_model import LogisticRegression\n",
    "\n",
    "import torch_geometric.transforms as T\n",
    "from torch_geometric.datasets import Planetoid\n",
    "from torch_geometric.loader import LinkNeighborLoader\n",
    "from torch_geometric.nn import GraphSAGE"
   ]
  },
  {
   "cell_type": "code",
   "execution_count": 2,
   "id": "3695f8d7-9a58-4365-8cec-1502f4773be1",
   "metadata": {},
   "outputs": [
    {
     "name": "stdout",
     "output_type": "stream",
     "text": [
      "True\n"
     ]
    }
   ],
   "source": [
    "import torch_geometric\n",
    "print(torch_geometric.typing.WITH_PYG_LIB)"
   ]
  },
  {
   "cell_type": "code",
   "execution_count": null,
   "id": "a68e5056-4243-469f-aa36-3a9bf4400af3",
   "metadata": {},
   "outputs": [],
   "source": [
    "import pyg_lib"
   ]
  },
  {
   "cell_type": "code",
   "execution_count": 3,
   "id": "ebaaef64-0dcb-452f-aba6-a7ee5e0f2b27",
   "metadata": {
    "ExecuteTime": {
     "end_time": "2023-12-03T20:08:51.518809Z",
     "start_time": "2023-12-03T20:08:51.485406Z"
    }
   },
   "outputs": [
    {
     "name": "stderr",
     "output_type": "stream",
     "text": [
      "Downloading https://github.com/kimiyoung/planetoid/raw/master/data/ind.cora.x\n",
      "Downloading https://github.com/kimiyoung/planetoid/raw/master/data/ind.cora.tx\n",
      "Downloading https://github.com/kimiyoung/planetoid/raw/master/data/ind.cora.allx\n",
      "Downloading https://github.com/kimiyoung/planetoid/raw/master/data/ind.cora.y\n",
      "Downloading https://github.com/kimiyoung/planetoid/raw/master/data/ind.cora.ty\n",
      "Downloading https://github.com/kimiyoung/planetoid/raw/master/data/ind.cora.ally\n",
      "Downloading https://github.com/kimiyoung/planetoid/raw/master/data/ind.cora.graph\n",
      "Downloading https://github.com/kimiyoung/planetoid/raw/master/data/ind.cora.test.index\n",
      "Processing...\n",
      "Done!\n"
     ]
    }
   ],
   "source": [
    "dataset = 'Cora'\n",
    "path = osp.join(osp.dirname(osp.realpath('__file__')), '..', 'data', dataset)\n",
    "dataset = Planetoid(path, dataset, transform=T.NormalizeFeatures())\n",
    "data = dataset[0]"
   ]
  },
  {
   "cell_type": "code",
   "execution_count": 7,
   "id": "1e3cbe4a-8a68-4eda-96df-b6a181b6a941",
   "metadata": {
    "ExecuteTime": {
     "end_time": "2023-12-03T20:09:12.377920Z",
     "start_time": "2023-12-03T20:09:12.356345Z"
    }
   },
   "outputs": [],
   "source": [
    "train_loader = LinkNeighborLoader(\n",
    "    data,\n",
    "    batch_size=256,\n",
    "    shuffle=True,\n",
    "    neg_sampling_ratio=1.0,\n",
    "    num_neighbors=[10, 10],\n",
    ")\n",
    "\n",
    "device = torch.device('cuda' if torch.cuda.is_available() else 'cpu')\n",
    "data = data.to(device, 'x', 'edge_index')\n",
    "\n",
    "model = GraphSAGE(\n",
    "    data.num_node_features,\n",
    "    hidden_channels=64,\n",
    "    num_layers=2,\n",
    ").to(device)\n",
    "\n",
    "optimizer = torch.optim.Adam(model.parameters(), lr=0.01)"
   ]
  },
  {
   "cell_type": "code",
   "execution_count": null,
   "id": "0b040e41-c06b-4ea6-87d8-b268953cd03e",
   "metadata": {},
   "outputs": [],
   "source": [
    "def train():\n",
    "    model.train()\n",
    "\n",
    "    total_loss = 0\n",
    "    for batch in train_loader:\n",
    "        batch = batch.to(device)\n",
    "        optimizer.zero_grad()\n",
    "        h = model(batch.x, batch.edge_index)\n",
    "        h_src = h[batch.edge_label_index[0]]\n",
    "        h_dst = h[batch.edge_label_index[1]]\n",
    "        pred = (h_src * h_dst).sum(dim=-1)\n",
    "        loss = F.binary_cross_entropy_with_logits(pred, batch.edge_label)\n",
    "        loss.backward()\n",
    "        optimizer.step()\n",
    "        total_loss += float(loss) * pred.size(0)\n",
    "\n",
    "    return total_loss / data.num_nodes\n",
    "\n",
    "\n",
    "@torch.no_grad()\n",
    "def test():\n",
    "    model.eval()\n",
    "    out = model(data.x, data.edge_index).cpu()\n",
    "\n",
    "    clf = LogisticRegression()\n",
    "    clf.fit(out[data.train_mask], data.y[data.train_mask])\n",
    "\n",
    "    val_acc = clf.score(out[data.val_mask], data.y[data.val_mask])\n",
    "    test_acc = clf.score(out[data.test_mask], data.y[data.test_mask])\n",
    "\n",
    "    return val_acc, test_acc\n",
    "\n",
    "\n",
    "times = []\n",
    "for epoch in range(1, 51):\n",
    "    start = time.time()\n",
    "    loss = train()\n",
    "    val_acc, test_acc = test()\n",
    "    print(f'Epoch: {epoch:03d}, Loss: {loss:.4f}, '\n",
    "          f'Val: {val_acc:.4f}, Test: {test_acc:.4f}')\n",
    "    times.append(time.time() - start)\n",
    "print(f\"Median time per epoch: {torch.tensor(times).median():.4f}s\")"
   ]
  }
 ],
 "metadata": {
  "kernelspec": {
   "display_name": "Python 3 (ipykernel)",
   "language": "python",
   "name": "python3"
  },
  "language_info": {
   "codemirror_mode": {
    "name": "ipython",
    "version": 3
   },
   "file_extension": ".py",
   "mimetype": "text/x-python",
   "name": "python",
   "nbconvert_exporter": "python",
   "pygments_lexer": "ipython3",
   "version": "3.11.8"
  }
 },
 "nbformat": 4,
 "nbformat_minor": 5
}
