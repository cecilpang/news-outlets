{
 "cells": [
  {
   "cell_type": "code",
   "execution_count": 1,
   "id": "94ca0572-c500-43f8-9ec2-04d1cb5d0bc8",
   "metadata": {
    "ExecuteTime": {
     "end_time": "2023-12-02T22:44:28.289575Z",
     "start_time": "2023-12-02T22:44:24.477273Z"
    }
   },
   "outputs": [],
   "source": [
    "from google.cloud import bigquery\n",
    "import pandas as pd\n",
    "import numpy as np\n",
    "import matplotlib.pyplot as plt\n",
    "import os"
   ]
  },
  {
   "cell_type": "code",
   "execution_count": 2,
   "outputs": [],
   "source": [
    "def read_geg_from_bq(dataset='week'):\n",
    "    bq = bigquery.Client(location=\"US\")\n",
    "    dataset_1_month = \"\"\"  \n",
    "        SELECT * \n",
    "        FROM `gannett-datarevenue.zz_test_pang.geg_with_mid` \n",
    "        WHERE date between TIMESTAMP(\"2023-11-01\") and TIMESTAMP(\"2023-11-30\")\n",
    "        \"\"\"\n",
    "    dataset_1_week = \"\"\"  \n",
    "        SELECT * \n",
    "        FROM `gannett-datarevenue.zz_test_pang.geg_with_mid` \n",
    "        WHERE date between TIMESTAMP(\"2023-11-19\") and TIMESTAMP(\"2023-11-25\")\n",
    "        \"\"\"\n",
    "    \n",
    "    query = dataset_1_month if dataset == 'month' else dataset_1_week\n",
    "\n",
    "    query_job = bq.query(query, location=\"US\") \n",
    "    df = query_job.to_dataframe() \n",
    "    return df\n",
    "    "
   ],
   "metadata": {
    "collapsed": false,
    "ExecuteTime": {
     "end_time": "2023-12-02T22:44:29.116619Z",
     "start_time": "2023-12-02T22:44:29.111835Z"
    }
   },
   "id": "9760a597ecc5d594"
  },
  {
   "cell_type": "code",
   "execution_count": 3,
   "outputs": [],
   "source": [
    "def load_one_week_data():\n",
    "    df = None\n",
    "    exists = os.path.isfile('data/geg_1_week.csv')\n",
    "    if exists:\n",
    "        print(\"read from local file data/geg_1_week.csv\")\n",
    "        df = pd.read_csv('data/geg_1_week.csv')\n",
    "    else:\n",
    "        print(\"read from BigQuery\")\n",
    "        df = read_geg_from_bq('week')\n",
    "        df.to_csv('data/geg_1_week.csv')\n",
    "    \n",
    "    return df\n",
    "    "
   ],
   "metadata": {
    "collapsed": false,
    "ExecuteTime": {
     "end_time": "2023-12-02T22:44:30.406737Z",
     "start_time": "2023-12-02T22:44:30.402346Z"
    }
   },
   "id": "b008b1081552d671"
  },
  {
   "cell_type": "code",
   "execution_count": 4,
   "outputs": [
    {
     "name": "stdout",
     "output_type": "stream",
     "text": [
      "read from local file data/geg_1_week.csv\n",
      "(11453707, 13)\n"
     ]
    }
   ],
   "source": [
    "geg = load_one_week_data()\n",
    "\n",
    "print(geg.shape)"
   ],
   "metadata": {
    "collapsed": false,
    "ExecuteTime": {
     "end_time": "2023-12-02T22:45:17.029365Z",
     "start_time": "2023-12-02T22:44:32.493076Z"
    }
   },
   "id": "6efeeea195fccb3e"
  },
  {
   "cell_type": "code",
   "execution_count": 9,
   "outputs": [
    {
     "data": {
      "text/plain": "Index(['Unnamed: 0', 'host', 'date', 'url', 'lang', 'magnitude', 'score',\n       'name', 'type', 'mid', 'wikipediaUrl', 'numMentions', 'avgSalience'],\n      dtype='object')"
     },
     "execution_count": 9,
     "metadata": {},
     "output_type": "execute_result"
    }
   ],
   "source": [
    "geg.columns"
   ],
   "metadata": {
    "collapsed": false,
    "ExecuteTime": {
     "end_time": "2023-12-02T22:49:38.476286Z",
     "start_time": "2023-12-02T22:49:38.468478Z"
    }
   },
   "id": "7ab5e9f1c7ddb417"
  },
  {
   "cell_type": "code",
   "execution_count": 10,
   "outputs": [],
   "source": [
    "usa_today = geg[geg['host'].str.contains('usatoday')]\n"
   ],
   "metadata": {
    "collapsed": false,
    "ExecuteTime": {
     "end_time": "2023-12-02T22:50:32.425156Z",
     "start_time": "2023-12-02T22:50:29.353449Z"
    }
   },
   "id": "4b9882a7d1516f8"
  },
  {
   "cell_type": "code",
   "execution_count": 12,
   "outputs": [
    {
     "data": {
      "text/plain": "(4311, 13)"
     },
     "execution_count": 12,
     "metadata": {},
     "output_type": "execute_result"
    }
   ],
   "source": [
    "usa_today.shape"
   ],
   "metadata": {
    "collapsed": false,
    "ExecuteTime": {
     "end_time": "2023-12-02T22:50:57.024685Z",
     "start_time": "2023-12-02T22:50:57.017491Z"
    }
   },
   "id": "861f6102bfd776d5"
  },
  {
   "cell_type": "code",
   "execution_count": null,
   "outputs": [],
   "source": [],
   "metadata": {
    "collapsed": false
   },
   "id": "36c3c799288834eb"
  }
 ],
 "metadata": {
  "kernelspec": {
   "display_name": "Python 3 (ipykernel)",
   "language": "python",
   "name": "python3"
  },
  "language_info": {
   "codemirror_mode": {
    "name": "ipython",
    "version": 3
   },
   "file_extension": ".py",
   "mimetype": "text/x-python",
   "name": "python",
   "nbconvert_exporter": "python",
   "pygments_lexer": "ipython3",
   "version": "3.11.6"
  }
 },
 "nbformat": 4,
 "nbformat_minor": 5
}
