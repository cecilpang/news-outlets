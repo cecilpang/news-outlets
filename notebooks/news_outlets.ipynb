{
 "cells": [
  {
   "cell_type": "code",
   "execution_count": 2,
   "id": "94ca0572-c500-43f8-9ec2-04d1cb5d0bc8",
   "metadata": {
    "ExecuteTime": {
     "end_time": "2023-12-02T22:44:28.289575Z",
     "start_time": "2023-12-02T22:44:24.477273Z"
    }
   },
   "outputs": [],
   "source": [
    "from google.cloud import bigquery\n",
    "import pandas as pd\n",
    "import numpy as np\n",
    "import matplotlib.pyplot as plt\n",
    "import os\n",
    "import torch\n",
    "import torch.nn.functional as F\n",
    "import torch_geometric.transforms as T\n",
    "from torch_geometric.loader import LinkNeighborLoader\n",
    "from torch_geometric.nn import GraphSAGE\n",
    "from torch_geometric.data import Data\n",
    "import time"
   ]
  },
  {
   "cell_type": "markdown",
   "id": "c0851016-f23d-458a-a286-a85ee222d9f3",
   "metadata": {},
   "source": [
    "# 1. Data pre-processing in BigQuery\n",
    "1. Get one week of data from this public available BiqQuery table: gdelt-bq.gdeltv2.geg_gcnlapi\n",
    "2. Create hosts table, articles table and entities table, with node ids assigned\n",
    "3. Create 2 edge index tables: host to article and article to entity\n",
    "\n",
    "TODO: Describe GDELT and GEG dataset, and the time range selected  \n",
    "TODO: List tools to use: BigQuery, PyTorch, PyG"
   ]
  },
  {
   "cell_type": "markdown",
   "id": "fd8f99d2-d26f-4bb9-95da-2a2cb5facfa9",
   "metadata": {},
   "source": [
    "# 2. Read pre-processed data from BigQuery into Dataframes\n",
    "Hosts table, article table, entities table, and edge indices between them.\n",
    "\n",
    "TODO: Describe the graph: 3 types of nodes + 2 type of edges"
   ]
  },
  {
   "cell_type": "code",
   "execution_count": 3,
   "id": "5d48edd0-830c-4764-b82d-90f0ae20c79c",
   "metadata": {},
   "outputs": [],
   "source": [
    "# BigQuery api client\n",
    "bq = bigquery.Client(location=\"US\")\n"
   ]
  },
  {
   "cell_type": "code",
   "execution_count": 4,
   "id": "4160f0eb-1035-48d2-8eb1-97a23807c365",
   "metadata": {},
   "outputs": [],
   "source": [
    "def nodes_tables_from_bq(bq):\n",
    "    host_query = \"\"\"  \n",
    "        SELECT * \n",
    "        FROM `gannett-datarevenue.zz_test_pang.hosts_table` \n",
    "        \"\"\"\n",
    "    article_query = \"\"\"  \n",
    "        SELECT * \n",
    "        FROM `gannett-datarevenue.zz_test_pang.articles_table` \n",
    "        \"\"\"\n",
    "    entity_query = \"\"\"  \n",
    "        SELECT * \n",
    "        FROM `gannett-datarevenue.zz_test_pang.entities_table` \n",
    "        \"\"\"\n",
    "    query_job = bq.query(host_query, location=\"US\") \n",
    "    hosts = query_job.to_dataframe() \n",
    "    query_job = bq.query(article_query, location=\"US\") \n",
    "    articles = query_job.to_dataframe() \n",
    "    query_job = bq.query(entity_query, location=\"US\") \n",
    "    entities = query_job.to_dataframe() \n",
    "    return hosts, articles, entities"
   ]
  },
  {
   "cell_type": "code",
   "execution_count": 5,
   "id": "bb793a18-daba-4ea7-b4fd-f3ea65a05017",
   "metadata": {},
   "outputs": [],
   "source": [
    "# use local csv files when possible \n",
    "def load_nodes_tables(bq):\n",
    "    exists_hosts = os.path.isfile('data/hosts_table.csv')\n",
    "    exists_articles = os.path.isfile('data/articles_table.csv')\n",
    "    exists_entities = os.path.isfile('data/entities_table.csv')\n",
    "    if exists_hosts and exists_articles and exists_entities:\n",
    "        print(\"Read from local csv files.\")\n",
    "        hosts = pd.read_csv('data/hosts_table.csv')\n",
    "        articles = pd.read_csv('data/articles_table.csv')\n",
    "        entities = pd.read_csv('data/entities_table.csv')\n",
    "    else:\n",
    "        print(\"Read from BigQuery.\")\n",
    "        hosts, articles, entities = nodes_tables_from_bq(bq)\n",
    "        hosts.to_csv('data/hosts_table.csv')\n",
    "        articles.to_csv('data/articles_table.csv')\n",
    "        entities.to_csv('data/entities_table.csv')\n",
    "    \n",
    "    return hosts, articles, entities"
   ]
  },
  {
   "cell_type": "code",
   "execution_count": 6,
   "id": "d1e4e4fb-f4c3-4756-a984-38d2647ba909",
   "metadata": {},
   "outputs": [
    {
     "name": "stdout",
     "output_type": "stream",
     "text": [
      "Read from local csv files.\n",
      "(20033, 3) (1048852, 7) (1289112, 4)\n"
     ]
    },
    {
     "data": {
      "text/html": [
       "<div>\n",
       "<style scoped>\n",
       "    .dataframe tbody tr th:only-of-type {\n",
       "        vertical-align: middle;\n",
       "    }\n",
       "\n",
       "    .dataframe tbody tr th {\n",
       "        vertical-align: top;\n",
       "    }\n",
       "\n",
       "    .dataframe thead th {\n",
       "        text-align: right;\n",
       "    }\n",
       "</style>\n",
       "<table border=\"1\" class=\"dataframe\">\n",
       "  <thead>\n",
       "    <tr style=\"text-align: right;\">\n",
       "      <th></th>\n",
       "      <th>Unnamed: 0</th>\n",
       "      <th>host_node_id</th>\n",
       "      <th>host</th>\n",
       "    </tr>\n",
       "  </thead>\n",
       "  <tbody>\n",
       "    <tr>\n",
       "      <th>0</th>\n",
       "      <td>3605</td>\n",
       "      <td>0</td>\n",
       "      <td>www.berchtesgadener-anzeiger.de</td>\n",
       "    </tr>\n",
       "    <tr>\n",
       "      <th>1</th>\n",
       "      <td>18421</td>\n",
       "      <td>1</td>\n",
       "      <td>www.toponline.ch</td>\n",
       "    </tr>\n",
       "    <tr>\n",
       "      <th>2</th>\n",
       "      <td>14060</td>\n",
       "      <td>2</td>\n",
       "      <td>news.yahoo.com</td>\n",
       "    </tr>\n",
       "  </tbody>\n",
       "</table>\n",
       "</div>"
      ],
      "text/plain": [
       "   Unnamed: 0  host_node_id                             host\n",
       "0        3605             0  www.berchtesgadener-anzeiger.de\n",
       "1       18421             1                 www.toponline.ch\n",
       "2       14060             2                   news.yahoo.com"
      ]
     },
     "metadata": {},
     "output_type": "display_data"
    },
    {
     "data": {
      "text/html": [
       "<div>\n",
       "<style scoped>\n",
       "    .dataframe tbody tr th:only-of-type {\n",
       "        vertical-align: middle;\n",
       "    }\n",
       "\n",
       "    .dataframe tbody tr th {\n",
       "        vertical-align: top;\n",
       "    }\n",
       "\n",
       "    .dataframe thead th {\n",
       "        text-align: right;\n",
       "    }\n",
       "</style>\n",
       "<table border=\"1\" class=\"dataframe\">\n",
       "  <thead>\n",
       "    <tr style=\"text-align: right;\">\n",
       "      <th></th>\n",
       "      <th>Unnamed: 0</th>\n",
       "      <th>article_node_id</th>\n",
       "      <th>host</th>\n",
       "      <th>url</th>\n",
       "      <th>lang</th>\n",
       "      <th>magnitude</th>\n",
       "      <th>score</th>\n",
       "    </tr>\n",
       "  </thead>\n",
       "  <tbody>\n",
       "    <tr>\n",
       "      <th>0</th>\n",
       "      <td>63332</td>\n",
       "      <td>0</td>\n",
       "      <td>www.workersliberty.org</td>\n",
       "      <td>https://www.workersliberty.org/index.php/audio</td>\n",
       "      <td>en</td>\n",
       "      <td>15.9</td>\n",
       "      <td>0.0</td>\n",
       "    </tr>\n",
       "    <tr>\n",
       "      <th>1</th>\n",
       "      <td>695255</td>\n",
       "      <td>1</td>\n",
       "      <td>www.wkyc.com</td>\n",
       "      <td>https://www.wkyc.com/article/news/nation-world...</td>\n",
       "      <td>en</td>\n",
       "      <td>24.6</td>\n",
       "      <td>-0.4</td>\n",
       "    </tr>\n",
       "    <tr>\n",
       "      <th>2</th>\n",
       "      <td>678766</td>\n",
       "      <td>2</td>\n",
       "      <td>townhall.com</td>\n",
       "      <td>https://townhall.com/tipsheet/mattvespa/2023/1...</td>\n",
       "      <td>en</td>\n",
       "      <td>13.2</td>\n",
       "      <td>-0.4</td>\n",
       "    </tr>\n",
       "  </tbody>\n",
       "</table>\n",
       "</div>"
      ],
      "text/plain": [
       "   Unnamed: 0  article_node_id                    host  \\\n",
       "0       63332                0  www.workersliberty.org   \n",
       "1      695255                1            www.wkyc.com   \n",
       "2      678766                2            townhall.com   \n",
       "\n",
       "                                                 url lang  magnitude  score  \n",
       "0     https://www.workersliberty.org/index.php/audio   en       15.9    0.0  \n",
       "1  https://www.wkyc.com/article/news/nation-world...   en       24.6   -0.4  \n",
       "2  https://townhall.com/tipsheet/mattvespa/2023/1...   en       13.2   -0.4  "
      ]
     },
     "metadata": {},
     "output_type": "display_data"
    },
    {
     "data": {
      "text/html": [
       "<div>\n",
       "<style scoped>\n",
       "    .dataframe tbody tr th:only-of-type {\n",
       "        vertical-align: middle;\n",
       "    }\n",
       "\n",
       "    .dataframe tbody tr th {\n",
       "        vertical-align: top;\n",
       "    }\n",
       "\n",
       "    .dataframe thead th {\n",
       "        text-align: right;\n",
       "    }\n",
       "</style>\n",
       "<table border=\"1\" class=\"dataframe\">\n",
       "  <thead>\n",
       "    <tr style=\"text-align: right;\">\n",
       "      <th></th>\n",
       "      <th>Unnamed: 0</th>\n",
       "      <th>entity_node_id</th>\n",
       "      <th>mid</th>\n",
       "      <th>type</th>\n",
       "    </tr>\n",
       "  </thead>\n",
       "  <tbody>\n",
       "    <tr>\n",
       "      <th>0</th>\n",
       "      <td>710406</td>\n",
       "      <td>0</td>\n",
       "      <td>/m/0138vk</td>\n",
       "      <td>LOCATION</td>\n",
       "    </tr>\n",
       "    <tr>\n",
       "      <th>1</th>\n",
       "      <td>239295</td>\n",
       "      <td>1</td>\n",
       "      <td>/m/02phmc9</td>\n",
       "      <td>LOCATION</td>\n",
       "    </tr>\n",
       "    <tr>\n",
       "      <th>2</th>\n",
       "      <td>1224603</td>\n",
       "      <td>2</td>\n",
       "      <td>/m/04gsnk1</td>\n",
       "      <td>ORGANIZATION</td>\n",
       "    </tr>\n",
       "  </tbody>\n",
       "</table>\n",
       "</div>"
      ],
      "text/plain": [
       "   Unnamed: 0  entity_node_id         mid          type\n",
       "0      710406               0   /m/0138vk      LOCATION\n",
       "1      239295               1  /m/02phmc9      LOCATION\n",
       "2     1224603               2  /m/04gsnk1  ORGANIZATION"
      ]
     },
     "metadata": {},
     "output_type": "display_data"
    }
   ],
   "source": [
    "# load nodes tables into dataframes\n",
    "hosts_table, articles_table, entities_table = load_nodes_tables(bq=None)\n",
    "\n",
    "# sort the dataframes by node ids\n",
    "hosts_table = hosts_table.sort_values(by=['host_node_id'], ascending=True).reset_index(drop=True)\n",
    "articles_table = articles_table.sort_values(by=['article_node_id'], ascending=True).reset_index(drop=True)\n",
    "entities_table = entities_table.sort_values(by=['entity_node_id'], ascending=True).reset_index(drop=True)\n",
    "\n",
    "print(hosts_table.shape, articles_table.shape, entities_table.shape)\n",
    "\n",
    "# sort the dataframes by node ids, this is not necessary but makes a niceer view of the df\n",
    "hosts_table = hosts_table.sort_values(by=['host_node_id'], ascending=True).reset_index(drop=True)\n",
    "articles_table = articles_table.sort_values(by=['article_node_id'], ascending=True).reset_index(drop=True)\n",
    "entities_table = entities_table.sort_values(by=['entity_node_id'], ascending=True).reset_index(drop=True)\n",
    "\n",
    "# Display the first 3 rows\n",
    "display(hosts_table.head(3))\n",
    "display(articles_table.head(3))\n",
    "display(entities_table.head(3))\n"
   ]
  },
  {
   "cell_type": "markdown",
   "id": "d8ab4ce1-75b9-4935-92a6-f0da9c912d54",
   "metadata": {},
   "source": [
    "## 2.1 Nodes\n",
    "Nodes Features:\n",
    "1. Hosts (News Outlets) - News Outlet (identified by host) - use random node feature for host, because hosts do not have rich features\n",
    "2. Articles (identified by url) - lang, magnitude, score\n",
    "3. Entity (identified by mid) - type\n",
    "\n",
    "dim of node features = 12\n"
   ]
  },
  {
   "cell_type": "code",
   "execution_count": 7,
   "id": "6ad09e8b-bdde-45d3-9df4-f782918038c2",
   "metadata": {},
   "outputs": [
    {
     "data": {
      "text/plain": [
       "torch.Size([20033, 12])"
      ]
     },
     "execution_count": 7,
     "metadata": {},
     "output_type": "execute_result"
    }
   ],
   "source": [
    "# node feature dim\n",
    "node_feature_dim = 12\n",
    "\n",
    "# use random node feature for host, because hosts do not have rich features\n",
    "host_features = torch.randn(hosts_table.shape[0], node_feature_dim)  # Random features for each node\n",
    "host_features.shape"
   ]
  },
  {
   "cell_type": "code",
   "execution_count": 8,
   "id": "260f1a79-642a-458b-9b79-aabd9131101e",
   "metadata": {},
   "outputs": [
    {
     "data": {
      "text/plain": [
       "torch.Size([1048852, 12])"
      ]
     },
     "execution_count": 8,
     "metadata": {},
     "output_type": "execute_result"
    }
   ],
   "source": [
    "# features for article: lang, magnitude, score\n",
    "unique_langs, article_langs = np.unique(articles_table['lang'].values, return_inverse=True)\n",
    "article_features = pd.get_dummies(article_langs)\n",
    "article_features['magniture'] = articles_table['magnitude']\n",
    "article_features['score'] = articles_table['score']\n",
    "article_features = torch.from_numpy(article_features.values).to(torch.float)\n",
    "article_features.shape"
   ]
  },
  {
   "cell_type": "code",
   "execution_count": 9,
   "id": "d41edb64-da9c-4698-9a05-5cae2f7e96b5",
   "metadata": {},
   "outputs": [
    {
     "data": {
      "text/plain": [
       "torch.Size([1289112, 12])"
      ]
     },
     "execution_count": 9,
     "metadata": {},
     "output_type": "execute_result"
    }
   ],
   "source": [
    "# features for entities: type\n",
    "unique_types, entity_types = np.unique(entities_table['type'].values, return_inverse=True)\n",
    "entity_features = pd.get_dummies(entity_types)\n",
    "entity_features['padding1'] = 0\n",
    "entity_features['padding2'] = 0\n",
    "entity_features['padding3'] = 0\n",
    "entity_features['padding4'] = 0\n",
    "entity_features['padding5'] = 0\n",
    "entity_features = torch.from_numpy(entity_features.values).to(torch.float)\n",
    "entity_features.shape"
   ]
  },
  {
   "cell_type": "code",
   "execution_count": 10,
   "id": "b7d7d3cf-71d5-4638-b784-b796332c3e65",
   "metadata": {},
   "outputs": [
    {
     "data": {
      "text/plain": [
       "torch.Size([2357997, 12])"
      ]
     },
     "execution_count": 10,
     "metadata": {},
     "output_type": "execute_result"
    }
   ],
   "source": [
    "# Nodes combined\n",
    "combined_nodes_features = torch.cat((host_features, article_features, entity_features), dim=0)\n",
    "combined_nodes_features.shape"
   ]
  },
  {
   "cell_type": "markdown",
   "id": "e22efa36-2c2b-4ded-a8d8-10a41c985f6b",
   "metadata": {},
   "source": [
    "## 2.2 Edge Indices\n",
    "Two types of edges: \n",
    "1. host to article\n",
    "2. article to entity\n"
   ]
  },
  {
   "cell_type": "code",
   "execution_count": 11,
   "id": "8d06d1c4-64b7-45a3-b9d5-0a09285f5739",
   "metadata": {},
   "outputs": [],
   "source": [
    "def edge_indices_from_bq(bq):\n",
    "    host_article_query = \"\"\"  \n",
    "        SELECT * \n",
    "        FROM `gannett-datarevenue.zz_test_pang.edge_index_host_to_article` \n",
    "        \"\"\"\n",
    "    article_entity_query = \"\"\"  \n",
    "        SELECT * \n",
    "        FROM `gannett-datarevenue.zz_test_pang.edge_index_article_to_entity` \n",
    "        \"\"\"\n",
    "    query_job = bq.query(host_article_query, location=\"US\") \n",
    "    host_article = query_job.to_dataframe() \n",
    "    query_job = bq.query(article_entity_query, location=\"US\") \n",
    "    article_entity = query_job.to_dataframe() \n",
    "\n",
    "    return host_article, article_entity\n",
    "    "
   ]
  },
  {
   "cell_type": "code",
   "execution_count": 12,
   "id": "a638d667-ec21-4bf9-b0e9-9fbe07e21b26",
   "metadata": {},
   "outputs": [],
   "source": [
    "# use local csv files when possible \n",
    "def load_edge_indices(bq):\n",
    "    exists_host_article = os.path.isfile('data/edge_index_host_to_article.csv')\n",
    "    exists_article_entity = os.path.isfile('data/edge_index_article_to_entity.csv')\n",
    "\n",
    "    if exists_host_article and exists_article_entity:\n",
    "        print(\"Read from local csv files.\")\n",
    "        host_article = pd.read_csv('data/edge_index_host_to_article.csv')\n",
    "        article_entity = pd.read_csv('data/edge_index_article_to_entity.csv')\n",
    "    else:\n",
    "        print(\"Read from BigQuery.\")\n",
    "        host_article, article_entity = edge_indices_from_bq(bq)\n",
    "        host_article.to_csv('data/edge_index_host_to_article.csv')\n",
    "        article_entity.to_csv('data/edge_index_article_to_entity.csv')\n",
    "    \n",
    "    return host_article, article_entity"
   ]
  },
  {
   "cell_type": "code",
   "execution_count": 13,
   "id": "b66f0a35-e65c-48d3-9af6-6cc40d504e31",
   "metadata": {},
   "outputs": [
    {
     "name": "stdout",
     "output_type": "stream",
     "text": [
      "Read from local csv files.\n",
      "(1048852, 2) (39171153, 2)\n",
      "(40220005, 2)\n"
     ]
    }
   ],
   "source": [
    "# load edge indices into dataframes\n",
    "host_article, article_entity = load_edge_indices(bq=None)\n",
    "print(host_article.shape, article_entity.shape)\n",
    "\n",
    "# Assign global node ids to nodes\n",
    "article_node_id_offset = hosts_table.shape[0]\n",
    "entity_node_id_offset = hosts_table.shape[0] + articles_table.shape[0]\n",
    "\n",
    "host_article['src'] = host_article['host_node_id']\n",
    "host_article['trg'] = host_article['article_node_id'] + article_node_id_offset\n",
    "host_article = host_article.drop(columns=['host_node_id', 'article_node_id'])\n",
    "\n",
    "article_entity['src'] = article_entity['article_node_id'] + article_node_id_offset\n",
    "article_entity['trg'] = article_entity['entity_node_id'] + entity_node_id_offset\n",
    "article_entity = article_entity.drop(columns=['entity_node_id', 'article_node_id'])\n",
    "\n",
    "# Combine the edges\n",
    "combined_edges = pd.concat([host_article, article_entity])\n",
    "print(combined_edges.shape)\n",
    "assert max(combined_edges['trg'].values) == hosts_table.shape[0] + articles_table.shape[0] + entities_table.shape[0] - 1\n"
   ]
  },
  {
   "cell_type": "code",
   "execution_count": 14,
   "id": "26d7c28a-8f7e-47ed-ac1f-ae75b72eedb8",
   "metadata": {},
   "outputs": [
    {
     "name": "stdout",
     "output_type": "stream",
     "text": [
      "torch.Size([2, 40220005])\n"
     ]
    }
   ],
   "source": [
    "# construct `edge_index` in COO format\n",
    "\n",
    "src = torch.from_numpy(combined_edges['src'].values)\n",
    "trg = torch.from_numpy(combined_edges['trg'].values)\n",
    "edge_index = torch.stack([src, trg], dim=0)\n",
    "print(edge_index.shape)\n",
    "assert edge_index.size() == (2, host_article.shape[0] + article_entity.shape[0])\n"
   ]
  },
  {
   "cell_type": "markdown",
   "id": "b0acedc1-5a66-4afd-b917-72044ad934e9",
   "metadata": {},
   "source": [
    "# 3. Create Data object"
   ]
  },
  {
   "cell_type": "code",
   "execution_count": 15,
   "id": "da601f2c-d5da-4434-a8ad-1daa1246e295",
   "metadata": {},
   "outputs": [
    {
     "data": {
      "text/plain": [
       "Data(x=[2357997, 12], edge_index=[2, 40220005])"
      ]
     },
     "execution_count": 15,
     "metadata": {},
     "output_type": "execute_result"
    }
   ],
   "source": [
    "data = Data(x=combined_nodes_features, edge_index=edge_index)\n",
    "data"
   ]
  },
  {
   "cell_type": "markdown",
   "id": "06fa5368-24ba-487c-89ac-b94831fe032c",
   "metadata": {},
   "source": [
    "## 4. GraphSAGE Model\n",
    "\n",
    "TODO: add paper URL, briefly describe model architecture"
   ]
  },
  {
   "cell_type": "code",
   "execution_count": 16,
   "id": "3a052a00-467c-465e-b8cf-22c947eeddf6",
   "metadata": {},
   "outputs": [
    {
     "name": "stdout",
     "output_type": "stream",
     "text": [
      "cpu\n"
     ]
    }
   ],
   "source": [
    "train_loader = LinkNeighborLoader(\n",
    "    data,\n",
    "    batch_size=4096000,\n",
    "    shuffle=True,\n",
    "    neg_sampling_ratio=1.0,\n",
    "    num_neighbors=[10, 10],\n",
    ")\n",
    "\n",
    "device = torch.device('cuda' if torch.cuda.is_available() else 'cpu')\n",
    "print(device)\n",
    "data = data.to(device, 'x', 'edge_index')\n",
    "\n",
    "model = GraphSAGE(\n",
    "    data.num_node_features,\n",
    "    hidden_channels=64,\n",
    "    num_layers=2,\n",
    ").to(device)\n",
    "\n",
    "optimizer = torch.optim.Adam(model.parameters(), lr=0.01)"
   ]
  },
  {
   "cell_type": "code",
   "execution_count": 17,
   "id": "233cf2fc-59c6-4de5-bc86-60dcc4edcf06",
   "metadata": {},
   "outputs": [],
   "source": [
    "def train():\n",
    "    model.train()\n",
    "\n",
    "    total_loss = 0\n",
    "    for batch in train_loader:\n",
    "        batch = batch.to(device)\n",
    "        optimizer.zero_grad()\n",
    "        h = model(batch.x, batch.edge_index)\n",
    "        h_src = h[batch.edge_label_index[0]]\n",
    "        h_dst = h[batch.edge_label_index[1]]\n",
    "        pred = (h_src * h_dst).sum(dim=-1)\n",
    "        loss = F.binary_cross_entropy_with_logits(pred, batch.edge_label)\n",
    "        loss.backward()\n",
    "        optimizer.step()\n",
    "        total_loss += float(loss) * pred.size(0)\n",
    "\n",
    "    return total_loss / data.num_nodes"
   ]
  },
  {
   "cell_type": "code",
   "execution_count": null,
   "id": "4f4a3c18-1409-4fbe-bd1f-3de1bb339434",
   "metadata": {},
   "outputs": [],
   "source": [
    "times = []\n",
    "for epoch in range(1, 101):\n",
    "    start = time.time()\n",
    "    loss = train()\n",
    "    print(f'Epoch: {epoch:03d}, Loss: {loss:.4f}, ')\n",
    "    times.append(time.time() - start)\n",
    "print(f\"Median time per epoch: {torch.tensor(times).median():.4f}s\")"
   ]
  },
  {
   "cell_type": "markdown",
   "id": "00516efa-d5b4-4a60-8ab5-d181de66f345",
   "metadata": {},
   "source": [
    "TODO: get top 10 news outlets in the 5 different regions \n",
    "first visualize their postions in the reduced dim emb plots of all hosts\n",
    "and see if they are in the same clusters  \n",
    "https://pressgazette.co.uk/media-audience-and-business-data/media_metrics/most-popular-websites-news-world-monthly-2/  \n"
   ]
  },
  {
   "cell_type": "code",
   "execution_count": 18,
   "id": "3bc4c5e3-8262-4d26-9d9d-2010f9e88856",
   "metadata": {},
   "outputs": [],
   "source": [
    "# Hosts from the top 50 news sites\n",
    "def top_hosts_from_bq(bq):\n",
    "    top_host_query = \"\"\"  \n",
    "        SELECT * \n",
    "        FROM `gannett-datarevenue.zz_test_pang.top_hosts` \n",
    "        \"\"\"\n",
    "    query_job = bq.query(top_host_query, location=\"US\") \n",
    "    top_hosts = query_job.to_dataframe() \n",
    "\n",
    "    return top_hosts\n",
    "\n",
    "# use local csv files when possible \n",
    "def load_top_hosts(bq):\n",
    "    exists = os.path.isfile('data/top_hosts.csv')\n",
    "    if exists:\n",
    "        print(\"Read from local csv files.\")\n",
    "        top_hosts = pd.read_csv('data/top_hosts.csv')\n",
    "    else:\n",
    "        print(\"Read from BigQuery.\")\n",
    "        top_hosts = top_hosts_from_bq(bq)\n",
    "        top_hosts.to_csv('data/top_hosts.csv')\n",
    "    \n",
    "    return top_hosts\n",
    "    "
   ]
  },
  {
   "cell_type": "code",
   "execution_count": 26,
   "id": "4bc25c41-d641-44ea-bc7c-ae81e0d99885",
   "metadata": {},
   "outputs": [
    {
     "name": "stdout",
     "output_type": "stream",
     "text": [
      "Read from local csv files.\n"
     ]
    }
   ],
   "source": [
    "# hosts of the top 50 news sites\n",
    "top_hosts = load_top_hosts(bq)\n",
    "top_hosts = top_hosts.sort_values(by=['host_node_id'], ascending=True).reset_index(drop=True)\n"
   ]
  },
  {
   "cell_type": "code",
   "execution_count": 27,
   "id": "f2bd18fc-67c2-4351-8928-6378f65760cf",
   "metadata": {},
   "outputs": [
    {
     "data": {
      "text/html": [
       "<div>\n",
       "<style scoped>\n",
       "    .dataframe tbody tr th:only-of-type {\n",
       "        vertical-align: middle;\n",
       "    }\n",
       "\n",
       "    .dataframe tbody tr th {\n",
       "        vertical-align: top;\n",
       "    }\n",
       "\n",
       "    .dataframe thead th {\n",
       "        text-align: right;\n",
       "    }\n",
       "</style>\n",
       "<table border=\"1\" class=\"dataframe\">\n",
       "  <thead>\n",
       "    <tr style=\"text-align: right;\">\n",
       "      <th></th>\n",
       "      <th>Unnamed: 0</th>\n",
       "      <th>host_node_id</th>\n",
       "      <th>host</th>\n",
       "      <th>top_site</th>\n",
       "    </tr>\n",
       "  </thead>\n",
       "  <tbody>\n",
       "    <tr>\n",
       "      <th>0</th>\n",
       "      <td>123</td>\n",
       "      <td>2</td>\n",
       "      <td>news.yahoo.com</td>\n",
       "      <td>news.yahoo.com</td>\n",
       "    </tr>\n",
       "    <tr>\n",
       "      <th>1</th>\n",
       "      <td>105</td>\n",
       "      <td>3</td>\n",
       "      <td>abcnews.go.com</td>\n",
       "      <td>abcnews.go.com</td>\n",
       "    </tr>\n",
       "    <tr>\n",
       "      <th>2</th>\n",
       "      <td>24</td>\n",
       "      <td>7</td>\n",
       "      <td>www.foxnews.com</td>\n",
       "      <td>foxnews.com</td>\n",
       "    </tr>\n",
       "    <tr>\n",
       "      <th>3</th>\n",
       "      <td>107</td>\n",
       "      <td>8</td>\n",
       "      <td>bangaloremirror.indiatimes.com</td>\n",
       "      <td>indiatimes.com</td>\n",
       "    </tr>\n",
       "    <tr>\n",
       "      <th>4</th>\n",
       "      <td>34</td>\n",
       "      <td>125</td>\n",
       "      <td>www.huffpost.com</td>\n",
       "      <td>huffpost.com</td>\n",
       "    </tr>\n",
       "    <tr>\n",
       "      <th>...</th>\n",
       "      <td>...</td>\n",
       "      <td>...</td>\n",
       "      <td>...</td>\n",
       "      <td>...</td>\n",
       "    </tr>\n",
       "    <tr>\n",
       "      <th>146</th>\n",
       "      <td>81</td>\n",
       "      <td>19084</td>\n",
       "      <td>vikingswire.usatoday.com</td>\n",
       "      <td>usatoday.com</td>\n",
       "    </tr>\n",
       "    <tr>\n",
       "      <th>147</th>\n",
       "      <td>77</td>\n",
       "      <td>19335</td>\n",
       "      <td>ravenswire.usatoday.com</td>\n",
       "      <td>usatoday.com</td>\n",
       "    </tr>\n",
       "    <tr>\n",
       "      <th>148</th>\n",
       "      <td>136</td>\n",
       "      <td>19367</td>\n",
       "      <td>au.finance.yahoo.com</td>\n",
       "      <td>finance.yahoo.com</td>\n",
       "    </tr>\n",
       "    <tr>\n",
       "      <th>149</th>\n",
       "      <td>92</td>\n",
       "      <td>19590</td>\n",
       "      <td>raiderswire.usatoday.com</td>\n",
       "      <td>usatoday.com</td>\n",
       "    </tr>\n",
       "    <tr>\n",
       "      <th>150</th>\n",
       "      <td>48</td>\n",
       "      <td>19680</td>\n",
       "      <td>theeagleswire.usatoday.com</td>\n",
       "      <td>usatoday.com</td>\n",
       "    </tr>\n",
       "  </tbody>\n",
       "</table>\n",
       "<p>151 rows × 4 columns</p>\n",
       "</div>"
      ],
      "text/plain": [
       "     Unnamed: 0  host_node_id                            host  \\\n",
       "0           123             2                  news.yahoo.com   \n",
       "1           105             3                  abcnews.go.com   \n",
       "2            24             7                 www.foxnews.com   \n",
       "3           107             8  bangaloremirror.indiatimes.com   \n",
       "4            34           125                www.huffpost.com   \n",
       "..          ...           ...                             ...   \n",
       "146          81         19084        vikingswire.usatoday.com   \n",
       "147          77         19335         ravenswire.usatoday.com   \n",
       "148         136         19367            au.finance.yahoo.com   \n",
       "149          92         19590        raiderswire.usatoday.com   \n",
       "150          48         19680      theeagleswire.usatoday.com   \n",
       "\n",
       "              top_site  \n",
       "0       news.yahoo.com  \n",
       "1       abcnews.go.com  \n",
       "2          foxnews.com  \n",
       "3       indiatimes.com  \n",
       "4         huffpost.com  \n",
       "..                 ...  \n",
       "146       usatoday.com  \n",
       "147       usatoday.com  \n",
       "148  finance.yahoo.com  \n",
       "149       usatoday.com  \n",
       "150       usatoday.com  \n",
       "\n",
       "[151 rows x 4 columns]"
      ]
     },
     "execution_count": 27,
     "metadata": {},
     "output_type": "execute_result"
    }
   ],
   "source": [
    "top_hosts"
   ]
  },
  {
   "cell_type": "code",
   "execution_count": 21,
   "id": "c7a5f8f2-80cd-4697-8586-45daf0787fc6",
   "metadata": {},
   "outputs": [
    {
     "data": {
      "text/plain": [
       "tensor([[ 1.0724, -2.2048, -0.2910,  ...,  1.4194, -0.2917,  1.8048],\n",
       "        [ 0.3646, -0.0420, -0.5573,  ..., -0.8322, -0.5942,  0.6134],\n",
       "        [-1.0792,  0.6814, -1.1628,  ...,  1.1982, -0.8369, -1.4425],\n",
       "        ...,\n",
       "        [-0.6074, -1.4191,  1.1454,  ..., -1.4777, -0.1048,  1.2570],\n",
       "        [ 1.6267, -1.0371,  0.0356,  ..., -2.5519,  0.3613, -0.0524],\n",
       "        [ 0.7078, -0.2421,  0.2402,  ..., -0.9356,  0.3039,  1.6956]])"
      ]
     },
     "execution_count": 21,
     "metadata": {},
     "output_type": "execute_result"
    }
   ],
   "source": [
    "host_features"
   ]
  },
  {
   "cell_type": "code",
   "execution_count": 25,
   "id": "f9d6e693-9d34-40f4-b95b-3bd11b690504",
   "metadata": {},
   "outputs": [
    {
     "data": {
      "text/plain": [
       "torch.Size([151, 12])"
      ]
     },
     "execution_count": 25,
     "metadata": {},
     "output_type": "execute_result"
    }
   ],
   "source": [
    "host_features[top_hosts['host_node_id']].shape"
   ]
  },
  {
   "cell_type": "code",
   "execution_count": null,
   "id": "9d2decb1-8896-4687-bd19-90efbe985cca",
   "metadata": {},
   "outputs": [],
   "source": []
  }
 ],
 "metadata": {
  "kernelspec": {
   "display_name": "Python 3 (ipykernel)",
   "language": "python",
   "name": "python3"
  },
  "language_info": {
   "codemirror_mode": {
    "name": "ipython",
    "version": 3
   },
   "file_extension": ".py",
   "mimetype": "text/x-python",
   "name": "python",
   "nbconvert_exporter": "python",
   "pygments_lexer": "ipython3",
   "version": "3.10.8"
  }
 },
 "nbformat": 4,
 "nbformat_minor": 5
}
