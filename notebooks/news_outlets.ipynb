{
 "cells": [
  {
   "cell_type": "code",
   "execution_count": 18,
   "id": "94ca0572-c500-43f8-9ec2-04d1cb5d0bc8",
   "metadata": {
    "ExecuteTime": {
     "end_time": "2023-12-02T22:44:28.289575Z",
     "start_time": "2023-12-02T22:44:24.477273Z"
    }
   },
   "outputs": [],
   "source": [
    "from google.cloud import bigquery\n",
    "import pandas as pd\n",
    "import numpy as np\n",
    "import matplotlib.pyplot as plt\n",
    "import os\n",
    "import torch\n",
    "import torch_geometric.transforms as T\n",
    "from torch_geometric.loader import LinkNeighborLoader\n",
    "from torch_geometric.nn import GraphSAGE\n",
    "from torch_geometric.data import Data\n",
    "import time"
   ]
  },
  {
   "cell_type": "markdown",
   "id": "c0851016-f23d-458a-a286-a85ee222d9f3",
   "metadata": {},
   "source": [
    "# 1. Data pre-processing in BigQuery\n",
    "1. Get one week of data from this public available BiqQuery table: gdelt-bq.gdeltv2.geg_gcnlapi\n",
    "2. Create hosts table, articles table and entities table, with node ids assigned\n",
    "3. Create 2 edge index tables: host to article and article to entity\n"
   ]
  },
  {
   "cell_type": "markdown",
   "id": "fd8f99d2-d26f-4bb9-95da-2a2cb5facfa9",
   "metadata": {},
   "source": [
    "# 2. Read pre-processed data from BigQuery into Dataframes\n",
    "Hosts table, article table, entities table, and edge indices between them."
   ]
  },
  {
   "cell_type": "code",
   "execution_count": 2,
   "id": "5d48edd0-830c-4764-b82d-90f0ae20c79c",
   "metadata": {},
   "outputs": [],
   "source": [
    "# BigQuery api client\n",
    "bq = bigquery.Client(location=\"US\")\n"
   ]
  },
  {
   "cell_type": "code",
   "execution_count": 3,
   "id": "4160f0eb-1035-48d2-8eb1-97a23807c365",
   "metadata": {},
   "outputs": [],
   "source": [
    "def nodes_tables_from_bq(bq):\n",
    "    host_query = \"\"\"  \n",
    "        SELECT * \n",
    "        FROM `gannett-datarevenue.zz_test_pang.hosts_table` \n",
    "        \"\"\"\n",
    "    article_query = \"\"\"  \n",
    "        SELECT * \n",
    "        FROM `gannett-datarevenue.zz_test_pang.articles_table` \n",
    "        \"\"\"\n",
    "    entity_query = \"\"\"  \n",
    "        SELECT * \n",
    "        FROM `gannett-datarevenue.zz_test_pang.entities_table` \n",
    "        \"\"\"\n",
    "    query_job = bq.query(host_query, location=\"US\") \n",
    "    hosts = query_job.to_dataframe() \n",
    "    query_job = bq.query(article_query, location=\"US\") \n",
    "    articles = query_job.to_dataframe() \n",
    "    query_job = bq.query(entity_query, location=\"US\") \n",
    "    entities = query_job.to_dataframe() \n",
    "    return hosts, articles, entities"
   ]
  },
  {
   "cell_type": "code",
   "execution_count": 4,
   "id": "bb793a18-daba-4ea7-b4fd-f3ea65a05017",
   "metadata": {},
   "outputs": [],
   "source": [
    "# use local csv files when possible \n",
    "def load_nodes_tables(bq):\n",
    "    exists_hosts = os.path.isfile('data/hosts_table.csv')\n",
    "    exists_articles = os.path.isfile('data/articles_table.csv')\n",
    "    exists_entities = os.path.isfile('data/entities_table.csv')\n",
    "    if exists_hosts and exists_articles and exists_entities:\n",
    "        print(\"Read from local csv files.\")\n",
    "        hosts = pd.read_csv('data/hosts_table.csv')\n",
    "        articles = pd.read_csv('data/articles_table.csv')\n",
    "        entities = pd.read_csv('data/entities_table.csv')\n",
    "    else:\n",
    "        print(\"Read from BigQuery.\")\n",
    "        hosts, articles, entities = nodes_tables_from_bq(bq)\n",
    "        hosts.to_csv('data/hosts_table.csv')\n",
    "        articles.to_csv('data/articles_table.csv')\n",
    "        entities.to_csv('data/entities_table.csv')\n",
    "    \n",
    "    return hosts, articles, entities"
   ]
  },
  {
   "cell_type": "code",
   "execution_count": 5,
   "id": "d1e4e4fb-f4c3-4756-a984-38d2647ba909",
   "metadata": {},
   "outputs": [
    {
     "name": "stdout",
     "output_type": "stream",
     "text": [
      "Read from local csv files.\n",
      "(20033, 3) (1048852, 7) (1289112, 4)\n"
     ]
    },
    {
     "data": {
      "text/html": [
       "<div>\n",
       "<style scoped>\n",
       "    .dataframe tbody tr th:only-of-type {\n",
       "        vertical-align: middle;\n",
       "    }\n",
       "\n",
       "    .dataframe tbody tr th {\n",
       "        vertical-align: top;\n",
       "    }\n",
       "\n",
       "    .dataframe thead th {\n",
       "        text-align: right;\n",
       "    }\n",
       "</style>\n",
       "<table border=\"1\" class=\"dataframe\">\n",
       "  <thead>\n",
       "    <tr style=\"text-align: right;\">\n",
       "      <th></th>\n",
       "      <th>Unnamed: 0</th>\n",
       "      <th>host_node_id</th>\n",
       "      <th>host</th>\n",
       "    </tr>\n",
       "  </thead>\n",
       "  <tbody>\n",
       "    <tr>\n",
       "      <th>0</th>\n",
       "      <td>3605</td>\n",
       "      <td>0</td>\n",
       "      <td>www.berchtesgadener-anzeiger.de</td>\n",
       "    </tr>\n",
       "    <tr>\n",
       "      <th>1</th>\n",
       "      <td>18421</td>\n",
       "      <td>1</td>\n",
       "      <td>www.toponline.ch</td>\n",
       "    </tr>\n",
       "    <tr>\n",
       "      <th>2</th>\n",
       "      <td>14060</td>\n",
       "      <td>2</td>\n",
       "      <td>news.yahoo.com</td>\n",
       "    </tr>\n",
       "  </tbody>\n",
       "</table>\n",
       "</div>"
      ],
      "text/plain": [
       "   Unnamed: 0  host_node_id                             host\n",
       "0        3605             0  www.berchtesgadener-anzeiger.de\n",
       "1       18421             1                 www.toponline.ch\n",
       "2       14060             2                   news.yahoo.com"
      ]
     },
     "metadata": {},
     "output_type": "display_data"
    },
    {
     "data": {
      "text/html": [
       "<div>\n",
       "<style scoped>\n",
       "    .dataframe tbody tr th:only-of-type {\n",
       "        vertical-align: middle;\n",
       "    }\n",
       "\n",
       "    .dataframe tbody tr th {\n",
       "        vertical-align: top;\n",
       "    }\n",
       "\n",
       "    .dataframe thead th {\n",
       "        text-align: right;\n",
       "    }\n",
       "</style>\n",
       "<table border=\"1\" class=\"dataframe\">\n",
       "  <thead>\n",
       "    <tr style=\"text-align: right;\">\n",
       "      <th></th>\n",
       "      <th>Unnamed: 0</th>\n",
       "      <th>article_node_id</th>\n",
       "      <th>host</th>\n",
       "      <th>url</th>\n",
       "      <th>lang</th>\n",
       "      <th>magnitude</th>\n",
       "      <th>score</th>\n",
       "    </tr>\n",
       "  </thead>\n",
       "  <tbody>\n",
       "    <tr>\n",
       "      <th>0</th>\n",
       "      <td>63332</td>\n",
       "      <td>0</td>\n",
       "      <td>www.workersliberty.org</td>\n",
       "      <td>https://www.workersliberty.org/index.php/audio</td>\n",
       "      <td>en</td>\n",
       "      <td>15.9</td>\n",
       "      <td>0.0</td>\n",
       "    </tr>\n",
       "    <tr>\n",
       "      <th>1</th>\n",
       "      <td>695255</td>\n",
       "      <td>1</td>\n",
       "      <td>www.wkyc.com</td>\n",
       "      <td>https://www.wkyc.com/article/news/nation-world...</td>\n",
       "      <td>en</td>\n",
       "      <td>24.6</td>\n",
       "      <td>-0.4</td>\n",
       "    </tr>\n",
       "    <tr>\n",
       "      <th>2</th>\n",
       "      <td>678766</td>\n",
       "      <td>2</td>\n",
       "      <td>townhall.com</td>\n",
       "      <td>https://townhall.com/tipsheet/mattvespa/2023/1...</td>\n",
       "      <td>en</td>\n",
       "      <td>13.2</td>\n",
       "      <td>-0.4</td>\n",
       "    </tr>\n",
       "  </tbody>\n",
       "</table>\n",
       "</div>"
      ],
      "text/plain": [
       "   Unnamed: 0  article_node_id                    host  \\\n",
       "0       63332                0  www.workersliberty.org   \n",
       "1      695255                1            www.wkyc.com   \n",
       "2      678766                2            townhall.com   \n",
       "\n",
       "                                                 url lang  magnitude  score  \n",
       "0     https://www.workersliberty.org/index.php/audio   en       15.9    0.0  \n",
       "1  https://www.wkyc.com/article/news/nation-world...   en       24.6   -0.4  \n",
       "2  https://townhall.com/tipsheet/mattvespa/2023/1...   en       13.2   -0.4  "
      ]
     },
     "metadata": {},
     "output_type": "display_data"
    },
    {
     "data": {
      "text/html": [
       "<div>\n",
       "<style scoped>\n",
       "    .dataframe tbody tr th:only-of-type {\n",
       "        vertical-align: middle;\n",
       "    }\n",
       "\n",
       "    .dataframe tbody tr th {\n",
       "        vertical-align: top;\n",
       "    }\n",
       "\n",
       "    .dataframe thead th {\n",
       "        text-align: right;\n",
       "    }\n",
       "</style>\n",
       "<table border=\"1\" class=\"dataframe\">\n",
       "  <thead>\n",
       "    <tr style=\"text-align: right;\">\n",
       "      <th></th>\n",
       "      <th>Unnamed: 0</th>\n",
       "      <th>entity_node_id</th>\n",
       "      <th>mid</th>\n",
       "      <th>type</th>\n",
       "    </tr>\n",
       "  </thead>\n",
       "  <tbody>\n",
       "    <tr>\n",
       "      <th>0</th>\n",
       "      <td>710406</td>\n",
       "      <td>0</td>\n",
       "      <td>/m/0138vk</td>\n",
       "      <td>LOCATION</td>\n",
       "    </tr>\n",
       "    <tr>\n",
       "      <th>1</th>\n",
       "      <td>239295</td>\n",
       "      <td>1</td>\n",
       "      <td>/m/02phmc9</td>\n",
       "      <td>LOCATION</td>\n",
       "    </tr>\n",
       "    <tr>\n",
       "      <th>2</th>\n",
       "      <td>1224603</td>\n",
       "      <td>2</td>\n",
       "      <td>/m/04gsnk1</td>\n",
       "      <td>ORGANIZATION</td>\n",
       "    </tr>\n",
       "  </tbody>\n",
       "</table>\n",
       "</div>"
      ],
      "text/plain": [
       "   Unnamed: 0  entity_node_id         mid          type\n",
       "0      710406               0   /m/0138vk      LOCATION\n",
       "1      239295               1  /m/02phmc9      LOCATION\n",
       "2     1224603               2  /m/04gsnk1  ORGANIZATION"
      ]
     },
     "metadata": {},
     "output_type": "display_data"
    }
   ],
   "source": [
    "# load nodes tables into dataframes\n",
    "hosts_table, articles_table, entities_table = load_nodes_tables(bq)\n",
    "\n",
    "# sort the dataframes by node ids\n",
    "hosts_table = hosts_table.sort_values(by=['host_node_id'], ascending=True).reset_index(drop=True)\n",
    "articles_table = articles_table.sort_values(by=['article_node_id'], ascending=True).reset_index(drop=True)\n",
    "entities_table = entities_table.sort_values(by=['entity_node_id'], ascending=True).reset_index(drop=True)\n",
    "\n",
    "print(hosts_table.shape, articles_table.shape, entities_table.shape)\n",
    "\n",
    "# sort the dataframes by node ids, this is not necessary but makes a niceer view of the df\n",
    "hosts_table = hosts_table.sort_values(by=['host_node_id'], ascending=True).reset_index(drop=True)\n",
    "articles_table = articles_table.sort_values(by=['article_node_id'], ascending=True).reset_index(drop=True)\n",
    "entities_table = entities_table.sort_values(by=['entity_node_id'], ascending=True).reset_index(drop=True)\n",
    "\n",
    "# Display the first 3 rows\n",
    "display(hosts_table.head(3))\n",
    "display(articles_table.head(3))\n",
    "display(entities_table.head(3))\n"
   ]
  },
  {
   "cell_type": "markdown",
   "id": "d8ab4ce1-75b9-4935-92a6-f0da9c912d54",
   "metadata": {},
   "source": [
    "## 2.1 Nodes\n",
    "Nodes Features:\n",
    "1. Hosts (News Outlets) - News Outlet (identified by host) - use random node feature for host, because hosts do not have rich features\n",
    "2. Articles (identified by url) - lang, magnitude, score\n",
    "3. Entity (identified by mid) - type\n",
    "\n",
    "dim of node features = 12\n"
   ]
  },
  {
   "cell_type": "code",
   "execution_count": 6,
   "id": "6ad09e8b-bdde-45d3-9df4-f782918038c2",
   "metadata": {},
   "outputs": [
    {
     "data": {
      "text/plain": [
       "torch.Size([20033, 12])"
      ]
     },
     "execution_count": 6,
     "metadata": {},
     "output_type": "execute_result"
    }
   ],
   "source": [
    "# node feature dim\n",
    "node_feature_dim = 12\n",
    "\n",
    "# use random node feature for host, because hosts do not have rich features\n",
    "host_features = torch.randn(hosts_table.shape[0], node_feature_dim)  # Random features for each node\n",
    "host_features.shape"
   ]
  },
  {
   "cell_type": "code",
   "execution_count": 7,
   "id": "260f1a79-642a-458b-9b79-aabd9131101e",
   "metadata": {},
   "outputs": [
    {
     "data": {
      "text/plain": [
       "torch.Size([1048852, 12])"
      ]
     },
     "execution_count": 7,
     "metadata": {},
     "output_type": "execute_result"
    }
   ],
   "source": [
    "# features for article: lang, magnitude, score\n",
    "unique_langs, article_langs = np.unique(articles_table['lang'].values, return_inverse=True)\n",
    "article_features = pd.get_dummies(article_langs)\n",
    "article_features['magniture'] = articles_table['magnitude']\n",
    "article_features['score'] = articles_table['score']\n",
    "article_features = torch.from_numpy(article_features.values).to(torch.float)\n",
    "article_features.shape"
   ]
  },
  {
   "cell_type": "code",
   "execution_count": 8,
   "id": "d41edb64-da9c-4698-9a05-5cae2f7e96b5",
   "metadata": {},
   "outputs": [
    {
     "data": {
      "text/plain": [
       "torch.Size([1289112, 12])"
      ]
     },
     "execution_count": 8,
     "metadata": {},
     "output_type": "execute_result"
    }
   ],
   "source": [
    "# features for entities: type\n",
    "unique_types, entity_types = np.unique(entities_table['type'].values, return_inverse=True)\n",
    "entity_features = pd.get_dummies(entity_types)\n",
    "entity_features['padding1'] = 0\n",
    "entity_features['padding2'] = 0\n",
    "entity_features['padding3'] = 0\n",
    "entity_features['padding4'] = 0\n",
    "entity_features['padding5'] = 0\n",
    "entity_features = torch.from_numpy(entity_features.values).to(torch.float)\n",
    "entity_features.shape"
   ]
  },
  {
   "cell_type": "code",
   "execution_count": 9,
   "id": "b7d7d3cf-71d5-4638-b784-b796332c3e65",
   "metadata": {},
   "outputs": [
    {
     "data": {
      "text/plain": [
       "torch.Size([2357997, 12])"
      ]
     },
     "execution_count": 9,
     "metadata": {},
     "output_type": "execute_result"
    }
   ],
   "source": [
    "# Nodes combined\n",
    "combined_nodes_features = torch.cat((host_features, article_features, entity_features), dim=0)\n",
    "combined_nodes_features.shape"
   ]
  },
  {
   "cell_type": "markdown",
   "id": "e22efa36-2c2b-4ded-a8d8-10a41c985f6b",
   "metadata": {},
   "source": [
    "## 2.2 Edge Indices\n",
    "Two types of edges: \n",
    "1. host to article\n",
    "2. article to entity\n"
   ]
  },
  {
   "cell_type": "code",
   "execution_count": 10,
   "id": "8d06d1c4-64b7-45a3-b9d5-0a09285f5739",
   "metadata": {},
   "outputs": [],
   "source": [
    "def edge_indices_from_bq(bq):\n",
    "    host_article_query = \"\"\"  \n",
    "        SELECT * \n",
    "        FROM `gannett-datarevenue.zz_test_pang.edge_index_host_to_article` \n",
    "        \"\"\"\n",
    "    article_entity_query = \"\"\"  \n",
    "        SELECT * \n",
    "        FROM `gannett-datarevenue.zz_test_pang.edge_index_article_to_entity` \n",
    "        \"\"\"\n",
    "    query_job = bq.query(host_article_query, location=\"US\") \n",
    "    host_article = query_job.to_dataframe() \n",
    "    query_job = bq.query(article_entity_query, location=\"US\") \n",
    "    article_entity = query_job.to_dataframe() \n",
    "\n",
    "    return host_article, article_entity\n",
    "    "
   ]
  },
  {
   "cell_type": "code",
   "execution_count": 11,
   "id": "a638d667-ec21-4bf9-b0e9-9fbe07e21b26",
   "metadata": {},
   "outputs": [],
   "source": [
    "# use local csv files when possible \n",
    "def load_edge_indices(bq):\n",
    "    exists_host_article = os.path.isfile('data/edge_index_host_to_article.csv')\n",
    "    exists_article_entity = os.path.isfile('data/edge_index_article_to_entity.csv')\n",
    "\n",
    "    if exists_host_article and exists_article_entity:\n",
    "        print(\"Read from local csv files.\")\n",
    "        host_article = pd.read_csv('data/edge_index_host_to_article.csv')\n",
    "        article_entity = pd.read_csv('data/edge_index_article_to_entity.csv')\n",
    "    else:\n",
    "        print(\"Read from BigQuery.\")\n",
    "        host_article, article_entity = edge_indices_from_bq(bq)\n",
    "        host_article.to_csv('data/edge_index_host_to_article.csv')\n",
    "        article_entity.to_csv('data/edge_index_article_to_entity.csv')\n",
    "    \n",
    "    return host_article, article_entity"
   ]
  },
  {
   "cell_type": "code",
   "execution_count": 12,
   "id": "b66f0a35-e65c-48d3-9af6-6cc40d504e31",
   "metadata": {},
   "outputs": [
    {
     "name": "stdout",
     "output_type": "stream",
     "text": [
      "Read from local csv files.\n",
      "(1048852, 2) (39171153, 2)\n",
      "(40220005, 2)\n"
     ]
    }
   ],
   "source": [
    "# load edge indices into dataframes\n",
    "host_article, article_entity = load_edge_indices(bq)\n",
    "print(host_article.shape, article_entity.shape)\n",
    "\n",
    "# Assign global node ids to nodes\n",
    "article_node_id_offset = hosts_table.shape[0]\n",
    "entity_node_id_offset = hosts_table.shape[0] + articles_table.shape[0]\n",
    "\n",
    "host_article['src'] = host_article['host_node_id']\n",
    "host_article['trg'] = host_article['article_node_id'] + article_node_id_offset\n",
    "host_article = host_article.drop(columns=['host_node_id', 'article_node_id'])\n",
    "\n",
    "article_entity['src'] = article_entity['article_node_id'] + article_node_id_offset\n",
    "article_entity['trg'] = article_entity['entity_node_id'] + entity_node_id_offset\n",
    "article_entity = article_entity.drop(columns=['entity_node_id', 'article_node_id'])\n",
    "\n",
    "# Combine the edges\n",
    "combined_edges = pd.concat([host_article, article_entity])\n",
    "print(combined_edges.shape)\n",
    "assert max(combined_edges['trg'].values) == hosts_table.shape[0] + articles_table.shape[0] + entities_table.shape[0] - 1\n"
   ]
  },
  {
   "cell_type": "code",
   "execution_count": 13,
   "id": "26d7c28a-8f7e-47ed-ac1f-ae75b72eedb8",
   "metadata": {},
   "outputs": [
    {
     "name": "stdout",
     "output_type": "stream",
     "text": [
      "torch.Size([2, 40220005])\n"
     ]
    }
   ],
   "source": [
    "# construct `edge_index` in COO format\n",
    "\n",
    "src = torch.from_numpy(combined_edges['src'].values)\n",
    "trg = torch.from_numpy(combined_edges['trg'].values)\n",
    "edge_index = torch.stack([src, trg], dim=0)\n",
    "print(edge_index.shape)\n",
    "assert edge_index.size() == (2, host_article.shape[0] + article_entity.shape[0])\n"
   ]
  },
  {
   "cell_type": "markdown",
   "id": "b0acedc1-5a66-4afd-b917-72044ad934e9",
   "metadata": {},
   "source": [
    "# 3. Create Data object"
   ]
  },
  {
   "cell_type": "code",
   "execution_count": 14,
   "id": "da601f2c-d5da-4434-a8ad-1daa1246e295",
   "metadata": {},
   "outputs": [],
   "source": [
    "data = Data(x=combined_nodes_features, edge_index=edge_index)"
   ]
  },
  {
   "cell_type": "markdown",
   "id": "06fa5368-24ba-487c-89ac-b94831fe032c",
   "metadata": {},
   "source": [
    "## 4. GraphSAGE Model"
   ]
  },
  {
   "cell_type": "code",
   "execution_count": 15,
   "id": "3a052a00-467c-465e-b8cf-22c947eeddf6",
   "metadata": {},
   "outputs": [],
   "source": [
    "train_loader = LinkNeighborLoader(\n",
    "    data,\n",
    "    batch_size=256,\n",
    "    shuffle=True,\n",
    "    neg_sampling_ratio=1.0,\n",
    "    num_neighbors=[20, 10],\n",
    ")\n",
    "\n",
    "device = torch.device('cuda' if torch.cuda.is_available() else 'cpu')\n",
    "\n",
    "model = GraphSAGE(\n",
    "    data.num_node_features,\n",
    "    hidden_channels=64,\n",
    "    num_layers=2,\n",
    ").to(device)\n",
    "\n",
    "optimizer = torch.optim.Adam(model.parameters(), lr=0.01)"
   ]
  },
  {
   "cell_type": "code",
   "execution_count": 16,
   "id": "233cf2fc-59c6-4de5-bc86-60dcc4edcf06",
   "metadata": {},
   "outputs": [],
   "source": [
    "def train():\n",
    "    model.train()\n",
    "\n",
    "    total_loss = 0\n",
    "    for batch in train_loader:\n",
    "        batch = batch.to(device)\n",
    "        optimizer.zero_grad()\n",
    "        h = model(batch.x, batch.edge_index)\n",
    "        h_src = h[batch.edge_label_index[0]]\n",
    "        h_dst = h[batch.edge_label_index[1]]\n",
    "        pred = (h_src * h_dst).sum(dim=-1)\n",
    "        loss = F.binary_cross_entropy_with_logits(pred, batch.edge_label)\n",
    "        loss.backward()\n",
    "        optimizer.step()\n",
    "        total_loss += float(loss) * pred.size(0)\n",
    "\n",
    "    return total_loss / data.num_nodes"
   ]
  },
  {
   "cell_type": "code",
   "execution_count": 19,
   "id": "4f4a3c18-1409-4fbe-bd1f-3de1bb339434",
   "metadata": {},
   "outputs": [
    {
     "ename": "ImportError",
     "evalue": "'NeighborSampler' requires either 'pyg-lib' or 'torch-sparse'",
     "output_type": "error",
     "traceback": [
      "\u001b[0;31m---------------------------------------------------------------------------\u001b[0m",
      "\u001b[0;31mImportError\u001b[0m                               Traceback (most recent call last)",
      "Cell \u001b[0;32mIn[19], line 4\u001b[0m\n\u001b[1;32m      2\u001b[0m \u001b[38;5;28;01mfor\u001b[39;00m epoch \u001b[38;5;129;01min\u001b[39;00m \u001b[38;5;28mrange\u001b[39m(\u001b[38;5;241m1\u001b[39m, \u001b[38;5;241m5\u001b[39m):\n\u001b[1;32m      3\u001b[0m     start \u001b[38;5;241m=\u001b[39m time\u001b[38;5;241m.\u001b[39mtime()\n\u001b[0;32m----> 4\u001b[0m     loss \u001b[38;5;241m=\u001b[39m \u001b[43mtrain\u001b[49m\u001b[43m(\u001b[49m\u001b[43m)\u001b[49m\n\u001b[1;32m      5\u001b[0m     \u001b[38;5;28mprint\u001b[39m(\u001b[38;5;124mf\u001b[39m\u001b[38;5;124m'\u001b[39m\u001b[38;5;124mEpoch: \u001b[39m\u001b[38;5;132;01m{\u001b[39;00mepoch\u001b[38;5;132;01m:\u001b[39;00m\u001b[38;5;124m03d\u001b[39m\u001b[38;5;132;01m}\u001b[39;00m\u001b[38;5;124m, Loss: \u001b[39m\u001b[38;5;132;01m{\u001b[39;00mloss\u001b[38;5;132;01m:\u001b[39;00m\u001b[38;5;124m.4f\u001b[39m\u001b[38;5;132;01m}\u001b[39;00m\u001b[38;5;124m, \u001b[39m\u001b[38;5;124m'\u001b[39m)\n\u001b[1;32m      6\u001b[0m     times\u001b[38;5;241m.\u001b[39mappend(time\u001b[38;5;241m.\u001b[39mtime() \u001b[38;5;241m-\u001b[39m start)\n",
      "Cell \u001b[0;32mIn[16], line 5\u001b[0m, in \u001b[0;36mtrain\u001b[0;34m()\u001b[0m\n\u001b[1;32m      2\u001b[0m model\u001b[38;5;241m.\u001b[39mtrain()\n\u001b[1;32m      4\u001b[0m total_loss \u001b[38;5;241m=\u001b[39m \u001b[38;5;241m0\u001b[39m\n\u001b[0;32m----> 5\u001b[0m \u001b[38;5;28;01mfor\u001b[39;00m batch \u001b[38;5;129;01min\u001b[39;00m train_loader:\n\u001b[1;32m      6\u001b[0m     batch \u001b[38;5;241m=\u001b[39m batch\u001b[38;5;241m.\u001b[39mto(device)\n\u001b[1;32m      7\u001b[0m     optimizer\u001b[38;5;241m.\u001b[39mzero_grad()\n",
      "File \u001b[0;32m~/Cecil/PhD/news-outlets/venv/lib/python3.10/site-packages/torch/utils/data/dataloader.py:630\u001b[0m, in \u001b[0;36m_BaseDataLoaderIter.__next__\u001b[0;34m(self)\u001b[0m\n\u001b[1;32m    627\u001b[0m \u001b[38;5;28;01mif\u001b[39;00m \u001b[38;5;28mself\u001b[39m\u001b[38;5;241m.\u001b[39m_sampler_iter \u001b[38;5;129;01mis\u001b[39;00m \u001b[38;5;28;01mNone\u001b[39;00m:\n\u001b[1;32m    628\u001b[0m     \u001b[38;5;66;03m# TODO(https://github.com/pytorch/pytorch/issues/76750)\u001b[39;00m\n\u001b[1;32m    629\u001b[0m     \u001b[38;5;28mself\u001b[39m\u001b[38;5;241m.\u001b[39m_reset()  \u001b[38;5;66;03m# type: ignore[call-arg]\u001b[39;00m\n\u001b[0;32m--> 630\u001b[0m data \u001b[38;5;241m=\u001b[39m \u001b[38;5;28;43mself\u001b[39;49m\u001b[38;5;241;43m.\u001b[39;49m\u001b[43m_next_data\u001b[49m\u001b[43m(\u001b[49m\u001b[43m)\u001b[49m\n\u001b[1;32m    631\u001b[0m \u001b[38;5;28mself\u001b[39m\u001b[38;5;241m.\u001b[39m_num_yielded \u001b[38;5;241m+\u001b[39m\u001b[38;5;241m=\u001b[39m \u001b[38;5;241m1\u001b[39m\n\u001b[1;32m    632\u001b[0m \u001b[38;5;28;01mif\u001b[39;00m \u001b[38;5;28mself\u001b[39m\u001b[38;5;241m.\u001b[39m_dataset_kind \u001b[38;5;241m==\u001b[39m _DatasetKind\u001b[38;5;241m.\u001b[39mIterable \u001b[38;5;129;01mand\u001b[39;00m \\\n\u001b[1;32m    633\u001b[0m         \u001b[38;5;28mself\u001b[39m\u001b[38;5;241m.\u001b[39m_IterableDataset_len_called \u001b[38;5;129;01mis\u001b[39;00m \u001b[38;5;129;01mnot\u001b[39;00m \u001b[38;5;28;01mNone\u001b[39;00m \u001b[38;5;129;01mand\u001b[39;00m \\\n\u001b[1;32m    634\u001b[0m         \u001b[38;5;28mself\u001b[39m\u001b[38;5;241m.\u001b[39m_num_yielded \u001b[38;5;241m>\u001b[39m \u001b[38;5;28mself\u001b[39m\u001b[38;5;241m.\u001b[39m_IterableDataset_len_called:\n",
      "File \u001b[0;32m~/Cecil/PhD/news-outlets/venv/lib/python3.10/site-packages/torch/utils/data/dataloader.py:674\u001b[0m, in \u001b[0;36m_SingleProcessDataLoaderIter._next_data\u001b[0;34m(self)\u001b[0m\n\u001b[1;32m    672\u001b[0m \u001b[38;5;28;01mdef\u001b[39;00m \u001b[38;5;21m_next_data\u001b[39m(\u001b[38;5;28mself\u001b[39m):\n\u001b[1;32m    673\u001b[0m     index \u001b[38;5;241m=\u001b[39m \u001b[38;5;28mself\u001b[39m\u001b[38;5;241m.\u001b[39m_next_index()  \u001b[38;5;66;03m# may raise StopIteration\u001b[39;00m\n\u001b[0;32m--> 674\u001b[0m     data \u001b[38;5;241m=\u001b[39m \u001b[38;5;28;43mself\u001b[39;49m\u001b[38;5;241;43m.\u001b[39;49m\u001b[43m_dataset_fetcher\u001b[49m\u001b[38;5;241;43m.\u001b[39;49m\u001b[43mfetch\u001b[49m\u001b[43m(\u001b[49m\u001b[43mindex\u001b[49m\u001b[43m)\u001b[49m  \u001b[38;5;66;03m# may raise StopIteration\u001b[39;00m\n\u001b[1;32m    675\u001b[0m     \u001b[38;5;28;01mif\u001b[39;00m \u001b[38;5;28mself\u001b[39m\u001b[38;5;241m.\u001b[39m_pin_memory:\n\u001b[1;32m    676\u001b[0m         data \u001b[38;5;241m=\u001b[39m _utils\u001b[38;5;241m.\u001b[39mpin_memory\u001b[38;5;241m.\u001b[39mpin_memory(data, \u001b[38;5;28mself\u001b[39m\u001b[38;5;241m.\u001b[39m_pin_memory_device)\n",
      "File \u001b[0;32m~/Cecil/PhD/news-outlets/venv/lib/python3.10/site-packages/torch/utils/data/_utils/fetch.py:54\u001b[0m, in \u001b[0;36m_MapDatasetFetcher.fetch\u001b[0;34m(self, possibly_batched_index)\u001b[0m\n\u001b[1;32m     52\u001b[0m \u001b[38;5;28;01melse\u001b[39;00m:\n\u001b[1;32m     53\u001b[0m     data \u001b[38;5;241m=\u001b[39m \u001b[38;5;28mself\u001b[39m\u001b[38;5;241m.\u001b[39mdataset[possibly_batched_index]\n\u001b[0;32m---> 54\u001b[0m \u001b[38;5;28;01mreturn\u001b[39;00m \u001b[38;5;28;43mself\u001b[39;49m\u001b[38;5;241;43m.\u001b[39;49m\u001b[43mcollate_fn\u001b[49m\u001b[43m(\u001b[49m\u001b[43mdata\u001b[49m\u001b[43m)\u001b[49m\n",
      "File \u001b[0;32m~/Cecil/PhD/news-outlets/venv/lib/python3.10/site-packages/torch_geometric/loader/link_loader.py:201\u001b[0m, in \u001b[0;36mLinkLoader.collate_fn\u001b[0;34m(self, index)\u001b[0m\n\u001b[1;32m    198\u001b[0m \u001b[38;5;250m\u001b[39m\u001b[38;5;124mr\u001b[39m\u001b[38;5;124;03m\"\"\"Samples a subgraph from a batch of input edges.\"\"\"\u001b[39;00m\n\u001b[1;32m    199\u001b[0m input_data: EdgeSamplerInput \u001b[38;5;241m=\u001b[39m \u001b[38;5;28mself\u001b[39m\u001b[38;5;241m.\u001b[39minput_data[index]\n\u001b[0;32m--> 201\u001b[0m out \u001b[38;5;241m=\u001b[39m \u001b[38;5;28;43mself\u001b[39;49m\u001b[38;5;241;43m.\u001b[39;49m\u001b[43mlink_sampler\u001b[49m\u001b[38;5;241;43m.\u001b[39;49m\u001b[43msample_from_edges\u001b[49m\u001b[43m(\u001b[49m\n\u001b[1;32m    202\u001b[0m \u001b[43m    \u001b[49m\u001b[43minput_data\u001b[49m\u001b[43m,\u001b[49m\u001b[43m \u001b[49m\u001b[43mneg_sampling\u001b[49m\u001b[38;5;241;43m=\u001b[39;49m\u001b[38;5;28;43mself\u001b[39;49m\u001b[38;5;241;43m.\u001b[39;49m\u001b[43mneg_sampling\u001b[49m\u001b[43m)\u001b[49m\n\u001b[1;32m    204\u001b[0m \u001b[38;5;28;01mif\u001b[39;00m \u001b[38;5;28mself\u001b[39m\u001b[38;5;241m.\u001b[39mfilter_per_worker:  \u001b[38;5;66;03m# Execute `filter_fn` in the worker process\u001b[39;00m\n\u001b[1;32m    205\u001b[0m     out \u001b[38;5;241m=\u001b[39m \u001b[38;5;28mself\u001b[39m\u001b[38;5;241m.\u001b[39mfilter_fn(out)\n",
      "File \u001b[0;32m~/Cecil/PhD/news-outlets/venv/lib/python3.10/site-packages/torch_geometric/sampler/neighbor_sampler.py:258\u001b[0m, in \u001b[0;36mNeighborSampler.sample_from_edges\u001b[0;34m(self, inputs, neg_sampling)\u001b[0m\n\u001b[1;32m    253\u001b[0m \u001b[38;5;28;01mdef\u001b[39;00m \u001b[38;5;21msample_from_edges\u001b[39m(\n\u001b[1;32m    254\u001b[0m     \u001b[38;5;28mself\u001b[39m,\n\u001b[1;32m    255\u001b[0m     inputs: EdgeSamplerInput,\n\u001b[1;32m    256\u001b[0m     neg_sampling: Optional[NegativeSampling] \u001b[38;5;241m=\u001b[39m \u001b[38;5;28;01mNone\u001b[39;00m,\n\u001b[1;32m    257\u001b[0m ) \u001b[38;5;241m-\u001b[39m\u001b[38;5;241m>\u001b[39m Union[SamplerOutput, HeteroSamplerOutput]:\n\u001b[0;32m--> 258\u001b[0m     out \u001b[38;5;241m=\u001b[39m \u001b[43medge_sample\u001b[49m\u001b[43m(\u001b[49m\u001b[43minputs\u001b[49m\u001b[43m,\u001b[49m\u001b[43m \u001b[49m\u001b[38;5;28;43mself\u001b[39;49m\u001b[38;5;241;43m.\u001b[39;49m\u001b[43m_sample\u001b[49m\u001b[43m,\u001b[49m\u001b[43m \u001b[49m\u001b[38;5;28;43mself\u001b[39;49m\u001b[38;5;241;43m.\u001b[39;49m\u001b[43mnum_nodes\u001b[49m\u001b[43m,\u001b[49m\u001b[43m \u001b[49m\u001b[38;5;28;43mself\u001b[39;49m\u001b[38;5;241;43m.\u001b[39;49m\u001b[43mdisjoint\u001b[49m\u001b[43m,\u001b[49m\n\u001b[1;32m    259\u001b[0m \u001b[43m                      \u001b[49m\u001b[38;5;28;43mself\u001b[39;49m\u001b[38;5;241;43m.\u001b[39;49m\u001b[43mnode_time\u001b[49m\u001b[43m,\u001b[49m\u001b[43m \u001b[49m\u001b[43mneg_sampling\u001b[49m\u001b[43m)\u001b[49m\n\u001b[1;32m    260\u001b[0m     \u001b[38;5;28;01mif\u001b[39;00m \u001b[38;5;28mself\u001b[39m\u001b[38;5;241m.\u001b[39msubgraph_type \u001b[38;5;241m==\u001b[39m SubgraphType\u001b[38;5;241m.\u001b[39mbidirectional:\n\u001b[1;32m    261\u001b[0m         out \u001b[38;5;241m=\u001b[39m out\u001b[38;5;241m.\u001b[39mto_bidirectional()\n",
      "File \u001b[0;32m~/Cecil/PhD/news-outlets/venv/lib/python3.10/site-packages/torch_geometric/sampler/neighbor_sampler.py:701\u001b[0m, in \u001b[0;36medge_sample\u001b[0;34m(inputs, sample_fn, num_nodes, disjoint, node_time, neg_sampling)\u001b[0m\n\u001b[1;32m    698\u001b[0m \u001b[38;5;28;01mif\u001b[39;00m edge_label_time \u001b[38;5;129;01mis\u001b[39;00m \u001b[38;5;129;01mnot\u001b[39;00m \u001b[38;5;28;01mNone\u001b[39;00m:  \u001b[38;5;66;03m# Always disjoint.\u001b[39;00m\n\u001b[1;32m    699\u001b[0m     seed_time \u001b[38;5;241m=\u001b[39m torch\u001b[38;5;241m.\u001b[39mcat([src_time, dst_time])\n\u001b[0;32m--> 701\u001b[0m out \u001b[38;5;241m=\u001b[39m \u001b[43msample_fn\u001b[49m\u001b[43m(\u001b[49m\u001b[43mseed\u001b[49m\u001b[43m,\u001b[49m\u001b[43m \u001b[49m\u001b[43mseed_time\u001b[49m\u001b[43m)\u001b[49m\n\u001b[1;32m    703\u001b[0m \u001b[38;5;66;03m# Enhance `out` by label information ##################################\u001b[39;00m\n\u001b[1;32m    704\u001b[0m \u001b[38;5;28;01mif\u001b[39;00m neg_sampling \u001b[38;5;129;01mis\u001b[39;00m \u001b[38;5;28;01mNone\u001b[39;00m \u001b[38;5;129;01mor\u001b[39;00m neg_sampling\u001b[38;5;241m.\u001b[39mis_binary():\n",
      "File \u001b[0;32m~/Cecil/PhD/news-outlets/venv/lib/python3.10/site-packages/torch_geometric/sampler/neighbor_sampler.py:421\u001b[0m, in \u001b[0;36mNeighborSampler._sample\u001b[0;34m(self, seed, seed_time, **kwargs)\u001b[0m\n\u001b[1;32m    418\u001b[0m     num_sampled_nodes \u001b[38;5;241m=\u001b[39m num_sampled_edges \u001b[38;5;241m=\u001b[39m \u001b[38;5;28;01mNone\u001b[39;00m\n\u001b[1;32m    420\u001b[0m \u001b[38;5;28;01melse\u001b[39;00m:\n\u001b[0;32m--> 421\u001b[0m     \u001b[38;5;28;01mraise\u001b[39;00m \u001b[38;5;167;01mImportError\u001b[39;00m(\u001b[38;5;124mf\u001b[39m\u001b[38;5;124m\"\u001b[39m\u001b[38;5;124m'\u001b[39m\u001b[38;5;132;01m{\u001b[39;00m\u001b[38;5;28mself\u001b[39m\u001b[38;5;241m.\u001b[39m\u001b[38;5;18m__class__\u001b[39m\u001b[38;5;241m.\u001b[39m\u001b[38;5;18m__name__\u001b[39m\u001b[38;5;132;01m}\u001b[39;00m\u001b[38;5;124m'\u001b[39m\u001b[38;5;124m requires \u001b[39m\u001b[38;5;124m\"\u001b[39m\n\u001b[1;32m    422\u001b[0m                       \u001b[38;5;124mf\u001b[39m\u001b[38;5;124m\"\u001b[39m\u001b[38;5;124meither \u001b[39m\u001b[38;5;124m'\u001b[39m\u001b[38;5;124mpyg-lib\u001b[39m\u001b[38;5;124m'\u001b[39m\u001b[38;5;124m or \u001b[39m\u001b[38;5;124m'\u001b[39m\u001b[38;5;124mtorch-sparse\u001b[39m\u001b[38;5;124m'\u001b[39m\u001b[38;5;124m\"\u001b[39m)\n\u001b[1;32m    424\u001b[0m \u001b[38;5;28;01mreturn\u001b[39;00m SamplerOutput(\n\u001b[1;32m    425\u001b[0m     node\u001b[38;5;241m=\u001b[39mnode,\n\u001b[1;32m    426\u001b[0m     row\u001b[38;5;241m=\u001b[39mrow,\n\u001b[0;32m   (...)\u001b[0m\n\u001b[1;32m    431\u001b[0m     num_sampled_edges\u001b[38;5;241m=\u001b[39mnum_sampled_edges,\n\u001b[1;32m    432\u001b[0m )\n",
      "\u001b[0;31mImportError\u001b[0m: 'NeighborSampler' requires either 'pyg-lib' or 'torch-sparse'"
     ]
    }
   ],
   "source": [
    "times = []\n",
    "for epoch in range(1, 5):\n",
    "    start = time.time()\n",
    "    loss = train()\n",
    "    print(f'Epoch: {epoch:03d}, Loss: {loss:.4f}, ')\n",
    "    times.append(time.time() - start)\n",
    "print(f\"Median time per epoch: {torch.tensor(times).median():.4f}s\")"
   ]
  },
  {
   "cell_type": "code",
   "execution_count": null,
   "id": "b48bd3ec-46ba-45ac-93ba-bcc90c54e875",
   "metadata": {},
   "outputs": [],
   "source": []
  }
 ],
 "metadata": {
  "kernelspec": {
   "display_name": "Python 3 (ipykernel)",
   "language": "python",
   "name": "python3"
  },
  "language_info": {
   "codemirror_mode": {
    "name": "ipython",
    "version": 3
   },
   "file_extension": ".py",
   "mimetype": "text/x-python",
   "name": "python",
   "nbconvert_exporter": "python",
   "pygments_lexer": "ipython3",
   "version": "3.10.8"
  }
 },
 "nbformat": 4,
 "nbformat_minor": 5
}
