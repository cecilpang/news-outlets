{
 "cells": [
  {
   "cell_type": "code",
   "execution_count": 1,
   "id": "94ca0572-c500-43f8-9ec2-04d1cb5d0bc8",
   "metadata": {
    "ExecuteTime": {
     "end_time": "2023-12-02T22:44:28.289575Z",
     "start_time": "2023-12-02T22:44:24.477273Z"
    }
   },
   "outputs": [],
   "source": [
    "from google.cloud import bigquery\n",
    "import pandas as pd\n",
    "import numpy as np\n",
    "import matplotlib.pyplot as plt\n",
    "import os\n",
    "import torch\n",
    "from torch_geometric.data import HeteroData\n",
    "import torch_geometric.transforms as T"
   ]
  },
  {
   "cell_type": "markdown",
   "id": "c0851016-f23d-458a-a286-a85ee222d9f3",
   "metadata": {},
   "source": [
    "# 1. Data pre-processing in BigQuery\n",
    "1. Get one week of data from this public available BiqQuery table: gdelt-bq.gdeltv2.geg_gcnlapi\n",
    "2. Create hosts table, articles table and entities table, with node ids assigned\n",
    "3. Create 2 edge index tables: host to article and article to entity\n"
   ]
  },
  {
   "cell_type": "markdown",
   "id": "fd8f99d2-d26f-4bb9-95da-2a2cb5facfa9",
   "metadata": {},
   "source": [
    "# 2. Read pre-processed data from BigQuery into Dataframes\n",
    "Hosts table, article table, entities table, and edge indices between them."
   ]
  },
  {
   "cell_type": "code",
   "execution_count": 2,
   "id": "5d48edd0-830c-4764-b82d-90f0ae20c79c",
   "metadata": {},
   "outputs": [],
   "source": [
    "# BigQuery api client\n",
    "bq = bigquery.Client(location=\"US\")\n"
   ]
  },
  {
   "cell_type": "code",
   "execution_count": 3,
   "id": "4160f0eb-1035-48d2-8eb1-97a23807c365",
   "metadata": {},
   "outputs": [],
   "source": [
    "def nodes_tables_from_bq(bq):\n",
    "    host_query = \"\"\"  \n",
    "        SELECT * \n",
    "        FROM `gannett-datarevenue.zz_test_pang.hosts_table` \n",
    "        \"\"\"\n",
    "    article_query = \"\"\"  \n",
    "        SELECT * \n",
    "        FROM `gannett-datarevenue.zz_test_pang.articles_table` \n",
    "        \"\"\"\n",
    "    entity_query = \"\"\"  \n",
    "        SELECT * \n",
    "        FROM `gannett-datarevenue.zz_test_pang.entities_table` \n",
    "        \"\"\"\n",
    "    query_job = bq.query(host_query, location=\"US\") \n",
    "    hosts = query_job.to_dataframe() \n",
    "    query_job = bq.query(article_query, location=\"US\") \n",
    "    articles = query_job.to_dataframe() \n",
    "    query_job = bq.query(entity_query, location=\"US\") \n",
    "    entities = query_job.to_dataframe() \n",
    "    return hosts, articles, entities"
   ]
  },
  {
   "cell_type": "code",
   "execution_count": 4,
   "id": "bb793a18-daba-4ea7-b4fd-f3ea65a05017",
   "metadata": {},
   "outputs": [],
   "source": [
    "# use local csv files when possible \n",
    "def load_nodes_tables(bq):\n",
    "    exists_hosts = os.path.isfile('data/hosts_table.csv')\n",
    "    exists_articles = os.path.isfile('data/articles_table.csv')\n",
    "    exists_entities = os.path.isfile('data/entities_table.csv')\n",
    "    if exists_hosts and exists_articles and exists_entities:\n",
    "        print(\"Read from local csv files.\")\n",
    "        hosts = pd.read_csv('data/hosts_table.csv')\n",
    "        articles = pd.read_csv('data/articles_table.csv')\n",
    "        entities = pd.read_csv('data/entities_table.csv')\n",
    "    else:\n",
    "        print(\"Read from BigQuery.\")\n",
    "        hosts, articles, entities = nodes_tables_from_bq(bq)\n",
    "        hosts.to_csv('data/hosts_table.csv')\n",
    "        articles.to_csv('data/articles_table.csv')\n",
    "        entities.to_csv('data/entities_table.csv')\n",
    "    \n",
    "    return hosts, articles, entities"
   ]
  },
  {
   "cell_type": "code",
   "execution_count": 5,
   "id": "d1e4e4fb-f4c3-4756-a984-38d2647ba909",
   "metadata": {},
   "outputs": [
    {
     "name": "stdout",
     "output_type": "stream",
     "text": [
      "Read from local csv files.\n",
      "(20033, 3) (1048852, 7) (1289112, 4)\n"
     ]
    }
   ],
   "source": [
    "# load nodes tables into dataframes\n",
    "hosts_table, articles_table, entities_table = load_nodes_tables(bq)\n",
    "print(hosts_table.shape, articles_table.shape, entities_table.shape)\n"
   ]
  },
  {
   "cell_type": "code",
   "execution_count": 6,
   "id": "9a28d25b-ebe3-4af2-bdcc-1f88628fa9cb",
   "metadata": {},
   "outputs": [
    {
     "name": "stdout",
     "output_type": "stream",
     "text": [
      "(20033, 3) (1048852, 7) (1289112, 4)\n"
     ]
    }
   ],
   "source": [
    "print(hosts_table.shape, articles_table.shape, entities_table.shape)"
   ]
  },
  {
   "cell_type": "code",
   "execution_count": 7,
   "id": "6f0fc1d3-c978-4f9c-bb42-372101a40c58",
   "metadata": {},
   "outputs": [],
   "source": [
    "# sort the dataframes by node ids\n",
    "hosts_table = hosts_table.sort_values(by=['host_node_id'], ascending=True).reset_index(drop=True)\n",
    "articles_table = articles_table.sort_values(by=['article_node_id'], ascending=True).reset_index(drop=True)\n",
    "entities_table = entities_table.sort_values(by=['entity_node_id'], ascending=True).reset_index(drop=True)\n"
   ]
  },
  {
   "cell_type": "code",
   "execution_count": 8,
   "id": "2c3740a9-200b-4479-bd80-01ec19210f1d",
   "metadata": {},
   "outputs": [
    {
     "data": {
      "text/html": [
       "<div>\n",
       "<style scoped>\n",
       "    .dataframe tbody tr th:only-of-type {\n",
       "        vertical-align: middle;\n",
       "    }\n",
       "\n",
       "    .dataframe tbody tr th {\n",
       "        vertical-align: top;\n",
       "    }\n",
       "\n",
       "    .dataframe thead th {\n",
       "        text-align: right;\n",
       "    }\n",
       "</style>\n",
       "<table border=\"1\" class=\"dataframe\">\n",
       "  <thead>\n",
       "    <tr style=\"text-align: right;\">\n",
       "      <th></th>\n",
       "      <th>Unnamed: 0</th>\n",
       "      <th>host_node_id</th>\n",
       "      <th>host</th>\n",
       "    </tr>\n",
       "  </thead>\n",
       "  <tbody>\n",
       "    <tr>\n",
       "      <th>0</th>\n",
       "      <td>3605</td>\n",
       "      <td>0</td>\n",
       "      <td>www.berchtesgadener-anzeiger.de</td>\n",
       "    </tr>\n",
       "    <tr>\n",
       "      <th>1</th>\n",
       "      <td>18421</td>\n",
       "      <td>1</td>\n",
       "      <td>www.toponline.ch</td>\n",
       "    </tr>\n",
       "    <tr>\n",
       "      <th>2</th>\n",
       "      <td>14060</td>\n",
       "      <td>2</td>\n",
       "      <td>news.yahoo.com</td>\n",
       "    </tr>\n",
       "  </tbody>\n",
       "</table>\n",
       "</div>"
      ],
      "text/plain": [
       "   Unnamed: 0  host_node_id                             host\n",
       "0        3605             0  www.berchtesgadener-anzeiger.de\n",
       "1       18421             1                 www.toponline.ch\n",
       "2       14060             2                   news.yahoo.com"
      ]
     },
     "metadata": {},
     "output_type": "display_data"
    },
    {
     "data": {
      "text/html": [
       "<div>\n",
       "<style scoped>\n",
       "    .dataframe tbody tr th:only-of-type {\n",
       "        vertical-align: middle;\n",
       "    }\n",
       "\n",
       "    .dataframe tbody tr th {\n",
       "        vertical-align: top;\n",
       "    }\n",
       "\n",
       "    .dataframe thead th {\n",
       "        text-align: right;\n",
       "    }\n",
       "</style>\n",
       "<table border=\"1\" class=\"dataframe\">\n",
       "  <thead>\n",
       "    <tr style=\"text-align: right;\">\n",
       "      <th></th>\n",
       "      <th>Unnamed: 0</th>\n",
       "      <th>article_node_id</th>\n",
       "      <th>host</th>\n",
       "      <th>url</th>\n",
       "      <th>lang</th>\n",
       "      <th>magnitude</th>\n",
       "      <th>score</th>\n",
       "    </tr>\n",
       "  </thead>\n",
       "  <tbody>\n",
       "    <tr>\n",
       "      <th>0</th>\n",
       "      <td>63332</td>\n",
       "      <td>0</td>\n",
       "      <td>www.workersliberty.org</td>\n",
       "      <td>https://www.workersliberty.org/index.php/audio</td>\n",
       "      <td>en</td>\n",
       "      <td>15.9</td>\n",
       "      <td>0.0</td>\n",
       "    </tr>\n",
       "    <tr>\n",
       "      <th>1</th>\n",
       "      <td>695255</td>\n",
       "      <td>1</td>\n",
       "      <td>www.wkyc.com</td>\n",
       "      <td>https://www.wkyc.com/article/news/nation-world...</td>\n",
       "      <td>en</td>\n",
       "      <td>24.6</td>\n",
       "      <td>-0.4</td>\n",
       "    </tr>\n",
       "    <tr>\n",
       "      <th>2</th>\n",
       "      <td>678766</td>\n",
       "      <td>2</td>\n",
       "      <td>townhall.com</td>\n",
       "      <td>https://townhall.com/tipsheet/mattvespa/2023/1...</td>\n",
       "      <td>en</td>\n",
       "      <td>13.2</td>\n",
       "      <td>-0.4</td>\n",
       "    </tr>\n",
       "  </tbody>\n",
       "</table>\n",
       "</div>"
      ],
      "text/plain": [
       "   Unnamed: 0  article_node_id                    host  \\\n",
       "0       63332                0  www.workersliberty.org   \n",
       "1      695255                1            www.wkyc.com   \n",
       "2      678766                2            townhall.com   \n",
       "\n",
       "                                                 url lang  magnitude  score  \n",
       "0     https://www.workersliberty.org/index.php/audio   en       15.9    0.0  \n",
       "1  https://www.wkyc.com/article/news/nation-world...   en       24.6   -0.4  \n",
       "2  https://townhall.com/tipsheet/mattvespa/2023/1...   en       13.2   -0.4  "
      ]
     },
     "metadata": {},
     "output_type": "display_data"
    },
    {
     "data": {
      "text/html": [
       "<div>\n",
       "<style scoped>\n",
       "    .dataframe tbody tr th:only-of-type {\n",
       "        vertical-align: middle;\n",
       "    }\n",
       "\n",
       "    .dataframe tbody tr th {\n",
       "        vertical-align: top;\n",
       "    }\n",
       "\n",
       "    .dataframe thead th {\n",
       "        text-align: right;\n",
       "    }\n",
       "</style>\n",
       "<table border=\"1\" class=\"dataframe\">\n",
       "  <thead>\n",
       "    <tr style=\"text-align: right;\">\n",
       "      <th></th>\n",
       "      <th>Unnamed: 0</th>\n",
       "      <th>entity_node_id</th>\n",
       "      <th>mid</th>\n",
       "      <th>type</th>\n",
       "    </tr>\n",
       "  </thead>\n",
       "  <tbody>\n",
       "    <tr>\n",
       "      <th>0</th>\n",
       "      <td>710406</td>\n",
       "      <td>0</td>\n",
       "      <td>/m/0138vk</td>\n",
       "      <td>LOCATION</td>\n",
       "    </tr>\n",
       "    <tr>\n",
       "      <th>1</th>\n",
       "      <td>239295</td>\n",
       "      <td>1</td>\n",
       "      <td>/m/02phmc9</td>\n",
       "      <td>LOCATION</td>\n",
       "    </tr>\n",
       "    <tr>\n",
       "      <th>2</th>\n",
       "      <td>1224603</td>\n",
       "      <td>2</td>\n",
       "      <td>/m/04gsnk1</td>\n",
       "      <td>ORGANIZATION</td>\n",
       "    </tr>\n",
       "  </tbody>\n",
       "</table>\n",
       "</div>"
      ],
      "text/plain": [
       "   Unnamed: 0  entity_node_id         mid          type\n",
       "0      710406               0   /m/0138vk      LOCATION\n",
       "1      239295               1  /m/02phmc9      LOCATION\n",
       "2     1224603               2  /m/04gsnk1  ORGANIZATION"
      ]
     },
     "metadata": {},
     "output_type": "display_data"
    }
   ],
   "source": [
    "display(hosts_table.head(3))\n",
    "display(articles_table.head(3))\n",
    "display(entities_table.head(3))\n"
   ]
  },
  {
   "cell_type": "markdown",
   "id": "d8ab4ce1-75b9-4935-92a6-f0da9c912d54",
   "metadata": {},
   "source": [
    "## 2.1 Nodes\n",
    "Nodes Features:\n",
    "1. Hosts (News Outlets) - News Outlet (identified by host) - use random node feature for host, because hosts do not have rich features\n",
    "2. Articles (identified by url) - lang, magnitude, score\n",
    "3. Entity (identified by mid) - type\n"
   ]
  },
  {
   "cell_type": "code",
   "execution_count": 9,
   "id": "6ad09e8b-bdde-45d3-9df4-f782918038c2",
   "metadata": {},
   "outputs": [
    {
     "data": {
      "text/plain": [
       "torch.Size([20033, 32])"
      ]
     },
     "execution_count": 9,
     "metadata": {},
     "output_type": "execute_result"
    }
   ],
   "source": [
    "# use random node feature for host, because hosts do not have rich features\n",
    "random_feature_dim = 32\n",
    "host_features = torch.randn(hosts_table.shape[0], random_feature_dim)  # Random features for each node\n",
    "host_features.shape"
   ]
  },
  {
   "cell_type": "code",
   "execution_count": 10,
   "id": "260f1a79-642a-458b-9b79-aabd9131101e",
   "metadata": {},
   "outputs": [
    {
     "data": {
      "text/plain": [
       "torch.Size([1048852, 12])"
      ]
     },
     "execution_count": 10,
     "metadata": {},
     "output_type": "execute_result"
    }
   ],
   "source": [
    "# features for article: lang, magnitude, score\n",
    "unique_langs, article_langs = np.unique(articles_table['lang'].values, return_inverse=True)\n",
    "article_features = pd.get_dummies(article_langs)\n",
    "article_features['magniture'] = articles_table['magnitude']\n",
    "article_features['score'] = articles_table['score']\n",
    "article_features = torch.from_numpy(article_features.values).to(torch.float)\n",
    "article_features.shape"
   ]
  },
  {
   "cell_type": "code",
   "execution_count": 11,
   "id": "d41edb64-da9c-4698-9a05-5cae2f7e96b5",
   "metadata": {},
   "outputs": [
    {
     "data": {
      "text/plain": [
       "torch.Size([1289112, 7])"
      ]
     },
     "execution_count": 11,
     "metadata": {},
     "output_type": "execute_result"
    }
   ],
   "source": [
    "# features for entities: type\n",
    "unique_types, entity_types = np.unique(entities_table['type'].values, return_inverse=True)\n",
    "entity_features = pd.get_dummies(entity_types)\n",
    "entity_features = torch.from_numpy(entity_features.values).to(torch.float)\n",
    "entity_features.shape"
   ]
  },
  {
   "cell_type": "markdown",
   "id": "e22efa36-2c2b-4ded-a8d8-10a41c985f6b",
   "metadata": {},
   "source": [
    "## 2.2 Edge Indices\n",
    "Two types of edges: \n",
    "1. host to article\n",
    "2. article to entity\n"
   ]
  },
  {
   "cell_type": "code",
   "execution_count": 12,
   "id": "8d06d1c4-64b7-45a3-b9d5-0a09285f5739",
   "metadata": {},
   "outputs": [],
   "source": [
    "def edge_indices_from_bq(bq):\n",
    "    host_article_query = \"\"\"  \n",
    "        SELECT * \n",
    "        FROM `gannett-datarevenue.zz_test_pang.edge_index_host_to_article` \n",
    "        \"\"\"\n",
    "    article_entity_query = \"\"\"  \n",
    "        SELECT * \n",
    "        FROM `gannett-datarevenue.zz_test_pang.edge_index_article_to_entity` \n",
    "        \"\"\"\n",
    "    query_job = bq.query(host_article_query, location=\"US\") \n",
    "    host_article = query_job.to_dataframe() \n",
    "    query_job = bq.query(article_entity_query, location=\"US\") \n",
    "    article_entity = query_job.to_dataframe() \n",
    "\n",
    "    return host_article, article_entity\n",
    "    "
   ]
  },
  {
   "cell_type": "code",
   "execution_count": 13,
   "id": "a638d667-ec21-4bf9-b0e9-9fbe07e21b26",
   "metadata": {},
   "outputs": [],
   "source": [
    "# use local csv files when possible \n",
    "def load_edge_indices(bq):\n",
    "    exists_host_article = os.path.isfile('data/edge_index_host_to_article.csv')\n",
    "    exists_article_entity = os.path.isfile('data/edge_index_article_to_entity.csv')\n",
    "\n",
    "    if exists_host_article and exists_article_entity:\n",
    "        print(\"Read from local csv files.\")\n",
    "        host_article = pd.read_csv('data/edge_index_host_to_article.csv')\n",
    "        article_entity = pd.read_csv('data/edge_index_article_to_entity.csv')\n",
    "    else:\n",
    "        print(\"Read from BigQuery.\")\n",
    "        host_article, article_entity = edge_indices_from_bq(bq)\n",
    "        host_article.to_csv('data/edge_index_host_to_article.csv')\n",
    "        article_entity.to_csv('data/edge_index_article_to_entity.csv')\n",
    "    \n",
    "    return host_article, article_entity"
   ]
  },
  {
   "cell_type": "code",
   "execution_count": 15,
   "id": "b66f0a35-e65c-48d3-9af6-6cc40d504e31",
   "metadata": {},
   "outputs": [
    {
     "name": "stdout",
     "output_type": "stream",
     "text": [
      "Read from local csv files.\n",
      "(1048852, 2) (39171153, 2)\n"
     ]
    }
   ],
   "source": [
    "# load edge indices into dataframes\n",
    "host_article, article_entity = load_edge_indices(bq)\n",
    "print(host_article.shape, article_entity.shape)"
   ]
  },
  {
   "cell_type": "code",
   "execution_count": 22,
   "id": "156a1b55-4c76-40e0-8d3c-afb25d87f876",
   "metadata": {},
   "outputs": [
    {
     "name": "stdout",
     "output_type": "stream",
     "text": [
      "torch.Size([2, 1048852]) torch.Size([2, 39171153])\n"
     ]
    }
   ],
   "source": [
    "# construct `edge_index` in COO format\n",
    "# host - article\n",
    "host_index = torch.from_numpy(host_article['host_node_id'].values)\n",
    "article_index = torch.from_numpy(host_article['article_node_id'].values)\n",
    "edge_index_host_to_article = torch.stack([host_index, article_index], dim=0)\n",
    "assert edge_index_host_to_article.size() == (2, host_article.shape[0])\n",
    "\n",
    "# article - entity\n",
    "article_index = torch.from_numpy(article_entity['article_node_id'].values)\n",
    "entity_index = torch.from_numpy(article_entity['entity_node_id'].values)\n",
    "edge_index_article_to_entity = torch.stack([article_index, entity_index], dim=0)\n",
    "assert edge_index_article_to_entity.size() == (2, article_entity.shape[0])\n",
    "\n",
    "print(edge_index_host_to_article.shape, edge_index_article_to_entity.shape)"
   ]
  },
  {
   "cell_type": "markdown",
   "id": "b0acedc1-5a66-4afd-b917-72044ad934e9",
   "metadata": {},
   "source": [
    "# 3. Create HeteroData object"
   ]
  },
  {
   "cell_type": "code",
   "execution_count": 23,
   "id": "da601f2c-d5da-4434-a8ad-1daa1246e295",
   "metadata": {},
   "outputs": [
    {
     "data": {
      "text/plain": [
       "HeteroData(\n",
       "  host={\n",
       "    node_id=[20033],\n",
       "    x=[20033, 32],\n",
       "  },\n",
       "  article={\n",
       "    node_id=[1048852],\n",
       "    x=[1048852, 12],\n",
       "  },\n",
       "  entity={\n",
       "    node_id=[1289112],\n",
       "    x=[1289112, 7],\n",
       "  },\n",
       "  (host, publishes, article)={ edge_index=[2, 1048852] },\n",
       "  (article, mentions, entity)={ edge_index=[2, 39171153] }\n",
       ")"
      ]
     },
     "execution_count": 23,
     "metadata": {},
     "output_type": "execute_result"
    }
   ],
   "source": [
    "hetero_data = HeteroData()\n",
    "# Save node indices:\n",
    "hetero_data['host'].node_id = torch.arange(hosts_table.shape[0])\n",
    "hetero_data['article'].node_id = torch.arange(articles_table.shape[0])\n",
    "hetero_data['entity'].node_id = torch.arange(entities_table.shape[0])\n",
    "# Add the node features and edge indices:\n",
    "hetero_data['host'].x = host_features\n",
    "hetero_data['article'].x = article_features\n",
    "hetero_data['entity'].x = entity_features\n",
    "# edges\n",
    "hetero_data['host', 'publishes', 'article'].edge_index = edge_index_host_to_article\n",
    "hetero_data['article', 'mentions', 'entity'].edge_index = edge_index_article_to_entity\n",
    "hetero_data"
   ]
  },
  {
   "cell_type": "code",
   "execution_count": 24,
   "id": "64adc368-e153-409b-b3ba-5438273bf24d",
   "metadata": {},
   "outputs": [
    {
     "data": {
      "text/plain": [
       "HeteroData(\n",
       "  host={\n",
       "    node_id=[20033],\n",
       "    x=[20033, 32],\n",
       "  },\n",
       "  article={\n",
       "    node_id=[1048852],\n",
       "    x=[1048852, 12],\n",
       "  },\n",
       "  entity={\n",
       "    node_id=[1289112],\n",
       "    x=[1289112, 7],\n",
       "  },\n",
       "  (host, publishes, article)={ edge_index=[2, 1048852] },\n",
       "  (article, mentions, entity)={ edge_index=[2, 39171153] },\n",
       "  (article, rev_publishes, host)={ edge_index=[2, 1048852] },\n",
       "  (entity, rev_mentions, article)={ edge_index=[2, 39171153] }\n",
       ")"
      ]
     },
     "execution_count": 24,
     "metadata": {},
     "output_type": "execute_result"
    }
   ],
   "source": [
    "T.ToUndirected()(hetero_data)"
   ]
  },
  {
   "cell_type": "code",
   "execution_count": null,
   "id": "9760a597ecc5d594",
   "metadata": {
    "ExecuteTime": {
     "end_time": "2023-12-02T22:44:29.116619Z",
     "start_time": "2023-12-02T22:44:29.111835Z"
    },
    "collapsed": false,
    "jupyter": {
     "outputs_hidden": false
    }
   },
   "outputs": [],
   "source": [
    "def read_geg_from_bq(dataset='week'):\n",
    "    bq = bigquery.Client(location=\"US\")\n",
    "    dataset_1_month = \"\"\"  \n",
    "        SELECT * \n",
    "        FROM `gannett-datarevenue.zz_test_pang.geg_with_mid` \n",
    "        WHERE date between TIMESTAMP(\"2023-11-01\") and TIMESTAMP(\"2023-11-30\")\n",
    "        \"\"\"\n",
    "    dataset_1_week = \"\"\"  \n",
    "        SELECT * \n",
    "        FROM `gannett-datarevenue.zz_test_pang.geg_with_mid` \n",
    "        WHERE date between TIMESTAMP(\"2023-11-19\") and TIMESTAMP(\"2023-11-25\")\n",
    "        \"\"\"\n",
    "    \n",
    "    query = dataset_1_month if dataset == 'month' else dataset_1_week\n",
    "\n",
    "    query_job = bq.query(query, location=\"US\") \n",
    "    df = query_job.to_dataframe() \n",
    "    return df\n",
    "    "
   ]
  },
  {
   "cell_type": "code",
   "execution_count": null,
   "id": "b008b1081552d671",
   "metadata": {
    "ExecuteTime": {
     "end_time": "2023-12-02T22:44:30.406737Z",
     "start_time": "2023-12-02T22:44:30.402346Z"
    },
    "collapsed": false,
    "jupyter": {
     "outputs_hidden": false
    }
   },
   "outputs": [],
   "source": [
    "def load_one_week_data():\n",
    "    df = None\n",
    "    exists = os.path.isfile('data/geg_1_week.csv')\n",
    "    if exists:\n",
    "        print(\"read from local file data/geg_1_week.csv\")\n",
    "        df = pd.read_csv('data/geg_1_week.csv')\n",
    "    else:\n",
    "        print(\"read from BigQuery\")\n",
    "        df = read_geg_from_bq('week')\n",
    "        df.to_csv('data/geg_1_week.csv')\n",
    "    \n",
    "    return df\n",
    "    "
   ]
  },
  {
   "cell_type": "code",
   "execution_count": null,
   "id": "6efeeea195fccb3e",
   "metadata": {
    "ExecuteTime": {
     "end_time": "2023-12-02T22:45:17.029365Z",
     "start_time": "2023-12-02T22:44:32.493076Z"
    },
    "collapsed": false,
    "jupyter": {
     "outputs_hidden": false
    }
   },
   "outputs": [],
   "source": [
    "geg = load_one_week_data()\n",
    "\n",
    "print(geg.shape)"
   ]
  },
  {
   "cell_type": "code",
   "execution_count": null,
   "id": "7ab5e9f1c7ddb417",
   "metadata": {
    "ExecuteTime": {
     "end_time": "2023-12-02T22:49:38.476286Z",
     "start_time": "2023-12-02T22:49:38.468478Z"
    },
    "collapsed": false,
    "jupyter": {
     "outputs_hidden": false
    }
   },
   "outputs": [],
   "source": [
    "geg.sample(5)"
   ]
  },
  {
   "cell_type": "code",
   "execution_count": null,
   "id": "067798d3-649b-4eb0-8481-395aec8325cf",
   "metadata": {},
   "outputs": [],
   "source": [
    "# Create a mapping from unique news outlet (host) to range (0, num_news_outlets):\n",
    "unique_news_outlets = geg['host'].unique()\n",
    "unique_news_outlets = pd.DataFrame(data={\n",
    "    'host': unique_news_outlets,\n",
    "    'node_id': pd.RangeIndex(len(unique_news_outlets)),\n",
    "})\n",
    "\n",
    "print(\"Mapping of hosts to node ids:\")\n",
    "print(\"==========================================\")\n",
    "print(unique_news_outlets.head())\n",
    "print()"
   ]
  },
  {
   "cell_type": "code",
   "execution_count": null,
   "id": "7e0f7753-2838-4467-a841-27505d5c358a",
   "metadata": {},
   "outputs": [],
   "source": [
    "# Assign unique node ids to hosts\n",
    "unique_hosts, host_node_ids = np.unique(geg['host'].values, return_inverse=True)\n",
    "geg['host_node_id'] = host_node_ids\n"
   ]
  },
  {
   "cell_type": "code",
   "execution_count": null,
   "id": "397a5ab6-1ca6-443c-822a-ab9fb67b135e",
   "metadata": {},
   "outputs": [],
   "source": [
    "# Assign unique node ids to articles, which are identified by urls\n",
    "unique_articles, article_node_ids = np.unique(geg['url'].values, return_inverse=True)\n",
    "geg['article_node_id'] = article_node_ids"
   ]
  },
  {
   "cell_type": "code",
   "execution_count": null,
   "id": "51a492e6-bba6-4954-bbff-ff4b6ad96016",
   "metadata": {},
   "outputs": [],
   "source": [
    "# Assign unique node ids to entities, which are identified by mids\n",
    "unique_entities, entity_node_ids = np.unique(geg['mid'].values, return_inverse=True)\n",
    "geg['entity_node_id'] = entity_node_ids"
   ]
  },
  {
   "cell_type": "code",
   "execution_count": null,
   "id": "cce21527-ecbc-4910-ab39-e3ec6ec76b01",
   "metadata": {},
   "outputs": [],
   "source": [
    "print(len(unique_hosts), len(unique_articles), len(unique_entities))\n",
    "\n",
    "unique_hosts"
   ]
  },
  {
   "cell_type": "code",
   "execution_count": null,
   "id": "9c3fcde5-c990-4348-ac36-52a11807dba0",
   "metadata": {},
   "outputs": [],
   "source": [
    "geg.head()"
   ]
  },
  {
   "cell_type": "code",
   "execution_count": null,
   "id": "b336a6fa-773a-4b2f-a663-849ae9a747a8",
   "metadata": {},
   "outputs": [],
   "source": [
    "host_features.shape"
   ]
  },
  {
   "cell_type": "code",
   "execution_count": null,
   "id": "565460da-f505-4caf-9115-63e70d140a94",
   "metadata": {},
   "outputs": [],
   "source": [
    "geg.shape"
   ]
  },
  {
   "cell_type": "code",
   "execution_count": null,
   "id": "4b9882a7d1516f8",
   "metadata": {
    "ExecuteTime": {
     "end_time": "2023-12-02T22:50:32.425156Z",
     "start_time": "2023-12-02T22:50:29.353449Z"
    },
    "collapsed": false,
    "jupyter": {
     "outputs_hidden": false
    }
   },
   "outputs": [],
   "source": [
    "usa_today = geg[geg['host'].str.contains('usatoday')]\n"
   ]
  },
  {
   "cell_type": "code",
   "execution_count": null,
   "id": "861f6102bfd776d5",
   "metadata": {
    "ExecuteTime": {
     "end_time": "2023-12-03T16:00:34.306073Z",
     "start_time": "2023-12-03T16:00:34.298407Z"
    },
    "collapsed": false,
    "jupyter": {
     "outputs_hidden": false
    }
   },
   "outputs": [],
   "source": [
    "usa_today.shape"
   ]
  },
  {
   "cell_type": "code",
   "execution_count": null,
   "id": "36c3c799288834eb",
   "metadata": {
    "ExecuteTime": {
     "end_time": "2023-12-03T16:01:06.533900Z",
     "start_time": "2023-12-03T16:00:59.606431Z"
    },
    "collapsed": false,
    "jupyter": {
     "outputs_hidden": false
    }
   },
   "outputs": [],
   "source": [
    "nytimes = geg[geg['host'].str.contains('nytimes')]"
   ]
  },
  {
   "cell_type": "code",
   "execution_count": null,
   "id": "14897e73a4fe75b8",
   "metadata": {
    "ExecuteTime": {
     "end_time": "2023-12-03T16:01:09.495511Z",
     "start_time": "2023-12-03T16:01:09.488579Z"
    },
    "collapsed": false,
    "jupyter": {
     "outputs_hidden": false
    }
   },
   "outputs": [],
   "source": [
    "nytimes.shape"
   ]
  },
  {
   "cell_type": "code",
   "execution_count": null,
   "id": "7391d74c4c837afc",
   "metadata": {
    "collapsed": false,
    "jupyter": {
     "outputs_hidden": false
    }
   },
   "outputs": [],
   "source": []
  }
 ],
 "metadata": {
  "kernelspec": {
   "display_name": "Python 3 (ipykernel)",
   "language": "python",
   "name": "python3"
  },
  "language_info": {
   "codemirror_mode": {
    "name": "ipython",
    "version": 3
   },
   "file_extension": ".py",
   "mimetype": "text/x-python",
   "name": "python",
   "nbconvert_exporter": "python",
   "pygments_lexer": "ipython3",
   "version": "3.11.6"
  }
 },
 "nbformat": 4,
 "nbformat_minor": 5
}
