{
 "cells": [
  {
   "cell_type": "code",
   "execution_count": 1,
   "id": "94ca0572-c500-43f8-9ec2-04d1cb5d0bc8",
   "metadata": {
    "ExecuteTime": {
     "end_time": "2023-12-02T22:44:28.289575Z",
     "start_time": "2023-12-02T22:44:24.477273Z"
    }
   },
   "outputs": [],
   "source": [
    "from google.cloud import bigquery\n",
    "import pandas as pd\n",
    "import numpy as np\n",
    "import matplotlib.pyplot as plt\n",
    "import os\n",
    "import torch\n",
    "from torch_geometric.data import HeteroData\n",
    "import torch_geometric.transforms as T\n",
    "from torch_geometric.loader import LinkNeighborLoader\n",
    "from torch_geometric.nn import GraphSAGE"
   ]
  },
  {
   "cell_type": "markdown",
   "id": "c0851016-f23d-458a-a286-a85ee222d9f3",
   "metadata": {},
   "source": [
    "# 1. Data pre-processing in BigQuery\n",
    "1. Get one week of data from this public available BiqQuery table: gdelt-bq.gdeltv2.geg_gcnlapi\n",
    "2. Create hosts table, articles table and entities table, with node ids assigned\n",
    "3. Create 2 edge index tables: host to article and article to entity\n"
   ]
  },
  {
   "cell_type": "markdown",
   "id": "fd8f99d2-d26f-4bb9-95da-2a2cb5facfa9",
   "metadata": {},
   "source": [
    "# 2. Read pre-processed data from BigQuery into Dataframes\n",
    "Hosts table, article table, entities table, and edge indices between them."
   ]
  },
  {
   "cell_type": "code",
   "execution_count": 2,
   "id": "5d48edd0-830c-4764-b82d-90f0ae20c79c",
   "metadata": {},
   "outputs": [],
   "source": [
    "# BigQuery api client\n",
    "bq = bigquery.Client(location=\"US\")\n"
   ]
  },
  {
   "cell_type": "code",
   "execution_count": 3,
   "id": "4160f0eb-1035-48d2-8eb1-97a23807c365",
   "metadata": {},
   "outputs": [],
   "source": [
    "def nodes_tables_from_bq(bq):\n",
    "    host_query = \"\"\"  \n",
    "        SELECT * \n",
    "        FROM `gannett-datarevenue.zz_test_pang.hosts_table` \n",
    "        \"\"\"\n",
    "    article_query = \"\"\"  \n",
    "        SELECT * \n",
    "        FROM `gannett-datarevenue.zz_test_pang.articles_table` \n",
    "        \"\"\"\n",
    "    entity_query = \"\"\"  \n",
    "        SELECT * \n",
    "        FROM `gannett-datarevenue.zz_test_pang.entities_table` \n",
    "        \"\"\"\n",
    "    query_job = bq.query(host_query, location=\"US\") \n",
    "    hosts = query_job.to_dataframe() \n",
    "    query_job = bq.query(article_query, location=\"US\") \n",
    "    articles = query_job.to_dataframe() \n",
    "    query_job = bq.query(entity_query, location=\"US\") \n",
    "    entities = query_job.to_dataframe() \n",
    "    return hosts, articles, entities"
   ]
  },
  {
   "cell_type": "code",
   "execution_count": 4,
   "id": "bb793a18-daba-4ea7-b4fd-f3ea65a05017",
   "metadata": {},
   "outputs": [],
   "source": [
    "# use local csv files when possible \n",
    "def load_nodes_tables(bq):\n",
    "    exists_hosts = os.path.isfile('data/hosts_table.csv')\n",
    "    exists_articles = os.path.isfile('data/articles_table.csv')\n",
    "    exists_entities = os.path.isfile('data/entities_table.csv')\n",
    "    if exists_hosts and exists_articles and exists_entities:\n",
    "        print(\"Read from local csv files.\")\n",
    "        hosts = pd.read_csv('data/hosts_table.csv')\n",
    "        articles = pd.read_csv('data/articles_table.csv')\n",
    "        entities = pd.read_csv('data/entities_table.csv')\n",
    "    else:\n",
    "        print(\"Read from BigQuery.\")\n",
    "        hosts, articles, entities = nodes_tables_from_bq(bq)\n",
    "        hosts.to_csv('data/hosts_table.csv')\n",
    "        articles.to_csv('data/articles_table.csv')\n",
    "        entities.to_csv('data/entities_table.csv')\n",
    "    \n",
    "    return hosts, articles, entities"
   ]
  },
  {
   "cell_type": "code",
   "execution_count": 5,
   "id": "d1e4e4fb-f4c3-4756-a984-38d2647ba909",
   "metadata": {},
   "outputs": [
    {
     "name": "stdout",
     "output_type": "stream",
     "text": [
      "Read from local csv files.\n",
      "(20033, 3) (1048852, 7) (1289112, 4)\n"
     ]
    },
    {
     "data": {
      "text/html": [
       "<div>\n",
       "<style scoped>\n",
       "    .dataframe tbody tr th:only-of-type {\n",
       "        vertical-align: middle;\n",
       "    }\n",
       "\n",
       "    .dataframe tbody tr th {\n",
       "        vertical-align: top;\n",
       "    }\n",
       "\n",
       "    .dataframe thead th {\n",
       "        text-align: right;\n",
       "    }\n",
       "</style>\n",
       "<table border=\"1\" class=\"dataframe\">\n",
       "  <thead>\n",
       "    <tr style=\"text-align: right;\">\n",
       "      <th></th>\n",
       "      <th>Unnamed: 0</th>\n",
       "      <th>host_node_id</th>\n",
       "      <th>host</th>\n",
       "    </tr>\n",
       "  </thead>\n",
       "  <tbody>\n",
       "    <tr>\n",
       "      <th>0</th>\n",
       "      <td>3605</td>\n",
       "      <td>0</td>\n",
       "      <td>www.berchtesgadener-anzeiger.de</td>\n",
       "    </tr>\n",
       "    <tr>\n",
       "      <th>1</th>\n",
       "      <td>18421</td>\n",
       "      <td>1</td>\n",
       "      <td>www.toponline.ch</td>\n",
       "    </tr>\n",
       "    <tr>\n",
       "      <th>2</th>\n",
       "      <td>14060</td>\n",
       "      <td>2</td>\n",
       "      <td>news.yahoo.com</td>\n",
       "    </tr>\n",
       "  </tbody>\n",
       "</table>\n",
       "</div>"
      ],
      "text/plain": [
       "   Unnamed: 0  host_node_id                             host\n",
       "0        3605             0  www.berchtesgadener-anzeiger.de\n",
       "1       18421             1                 www.toponline.ch\n",
       "2       14060             2                   news.yahoo.com"
      ]
     },
     "metadata": {},
     "output_type": "display_data"
    },
    {
     "data": {
      "text/html": [
       "<div>\n",
       "<style scoped>\n",
       "    .dataframe tbody tr th:only-of-type {\n",
       "        vertical-align: middle;\n",
       "    }\n",
       "\n",
       "    .dataframe tbody tr th {\n",
       "        vertical-align: top;\n",
       "    }\n",
       "\n",
       "    .dataframe thead th {\n",
       "        text-align: right;\n",
       "    }\n",
       "</style>\n",
       "<table border=\"1\" class=\"dataframe\">\n",
       "  <thead>\n",
       "    <tr style=\"text-align: right;\">\n",
       "      <th></th>\n",
       "      <th>Unnamed: 0</th>\n",
       "      <th>article_node_id</th>\n",
       "      <th>host</th>\n",
       "      <th>url</th>\n",
       "      <th>lang</th>\n",
       "      <th>magnitude</th>\n",
       "      <th>score</th>\n",
       "    </tr>\n",
       "  </thead>\n",
       "  <tbody>\n",
       "    <tr>\n",
       "      <th>0</th>\n",
       "      <td>63332</td>\n",
       "      <td>0</td>\n",
       "      <td>www.workersliberty.org</td>\n",
       "      <td>https://www.workersliberty.org/index.php/audio</td>\n",
       "      <td>en</td>\n",
       "      <td>15.9</td>\n",
       "      <td>0.0</td>\n",
       "    </tr>\n",
       "    <tr>\n",
       "      <th>1</th>\n",
       "      <td>695255</td>\n",
       "      <td>1</td>\n",
       "      <td>www.wkyc.com</td>\n",
       "      <td>https://www.wkyc.com/article/news/nation-world...</td>\n",
       "      <td>en</td>\n",
       "      <td>24.6</td>\n",
       "      <td>-0.4</td>\n",
       "    </tr>\n",
       "    <tr>\n",
       "      <th>2</th>\n",
       "      <td>678766</td>\n",
       "      <td>2</td>\n",
       "      <td>townhall.com</td>\n",
       "      <td>https://townhall.com/tipsheet/mattvespa/2023/1...</td>\n",
       "      <td>en</td>\n",
       "      <td>13.2</td>\n",
       "      <td>-0.4</td>\n",
       "    </tr>\n",
       "  </tbody>\n",
       "</table>\n",
       "</div>"
      ],
      "text/plain": [
       "   Unnamed: 0  article_node_id                    host  \\\n",
       "0       63332                0  www.workersliberty.org   \n",
       "1      695255                1            www.wkyc.com   \n",
       "2      678766                2            townhall.com   \n",
       "\n",
       "                                                 url lang  magnitude  score  \n",
       "0     https://www.workersliberty.org/index.php/audio   en       15.9    0.0  \n",
       "1  https://www.wkyc.com/article/news/nation-world...   en       24.6   -0.4  \n",
       "2  https://townhall.com/tipsheet/mattvespa/2023/1...   en       13.2   -0.4  "
      ]
     },
     "metadata": {},
     "output_type": "display_data"
    },
    {
     "data": {
      "text/html": [
       "<div>\n",
       "<style scoped>\n",
       "    .dataframe tbody tr th:only-of-type {\n",
       "        vertical-align: middle;\n",
       "    }\n",
       "\n",
       "    .dataframe tbody tr th {\n",
       "        vertical-align: top;\n",
       "    }\n",
       "\n",
       "    .dataframe thead th {\n",
       "        text-align: right;\n",
       "    }\n",
       "</style>\n",
       "<table border=\"1\" class=\"dataframe\">\n",
       "  <thead>\n",
       "    <tr style=\"text-align: right;\">\n",
       "      <th></th>\n",
       "      <th>Unnamed: 0</th>\n",
       "      <th>entity_node_id</th>\n",
       "      <th>mid</th>\n",
       "      <th>type</th>\n",
       "    </tr>\n",
       "  </thead>\n",
       "  <tbody>\n",
       "    <tr>\n",
       "      <th>0</th>\n",
       "      <td>710406</td>\n",
       "      <td>0</td>\n",
       "      <td>/m/0138vk</td>\n",
       "      <td>LOCATION</td>\n",
       "    </tr>\n",
       "    <tr>\n",
       "      <th>1</th>\n",
       "      <td>239295</td>\n",
       "      <td>1</td>\n",
       "      <td>/m/02phmc9</td>\n",
       "      <td>LOCATION</td>\n",
       "    </tr>\n",
       "    <tr>\n",
       "      <th>2</th>\n",
       "      <td>1224603</td>\n",
       "      <td>2</td>\n",
       "      <td>/m/04gsnk1</td>\n",
       "      <td>ORGANIZATION</td>\n",
       "    </tr>\n",
       "  </tbody>\n",
       "</table>\n",
       "</div>"
      ],
      "text/plain": [
       "   Unnamed: 0  entity_node_id         mid          type\n",
       "0      710406               0   /m/0138vk      LOCATION\n",
       "1      239295               1  /m/02phmc9      LOCATION\n",
       "2     1224603               2  /m/04gsnk1  ORGANIZATION"
      ]
     },
     "metadata": {},
     "output_type": "display_data"
    }
   ],
   "source": [
    "# load nodes tables into dataframes\n",
    "hosts_table, articles_table, entities_table = load_nodes_tables(bq)\n",
    "\n",
    "# sort the dataframes by node ids\n",
    "hosts_table = hosts_table.sort_values(by=['host_node_id'], ascending=True).reset_index(drop=True)\n",
    "articles_table = articles_table.sort_values(by=['article_node_id'], ascending=True).reset_index(drop=True)\n",
    "entities_table = entities_table.sort_values(by=['entity_node_id'], ascending=True).reset_index(drop=True)\n",
    "\n",
    "print(hosts_table.shape, articles_table.shape, entities_table.shape)\n",
    "\n",
    "# sort the dataframes by node ids, this is not necessary but makes a niceer view of the df\n",
    "hosts_table = hosts_table.sort_values(by=['host_node_id'], ascending=True).reset_index(drop=True)\n",
    "articles_table = articles_table.sort_values(by=['article_node_id'], ascending=True).reset_index(drop=True)\n",
    "entities_table = entities_table.sort_values(by=['entity_node_id'], ascending=True).reset_index(drop=True)\n",
    "\n",
    "# Display the first 3 rows\n",
    "display(hosts_table.head(3))\n",
    "display(articles_table.head(3))\n",
    "display(entities_table.head(3))\n"
   ]
  },
  {
   "cell_type": "markdown",
   "id": "d8ab4ce1-75b9-4935-92a6-f0da9c912d54",
   "metadata": {},
   "source": [
    "## 2.1 Nodes\n",
    "Nodes Features:\n",
    "1. Hosts (News Outlets) - News Outlet (identified by host) - use random node feature for host, because hosts do not have rich features\n",
    "2. Articles (identified by url) - lang, magnitude, score\n",
    "3. Entity (identified by mid) - type\n"
   ]
  },
  {
   "cell_type": "code",
   "execution_count": 6,
   "id": "6ad09e8b-bdde-45d3-9df4-f782918038c2",
   "metadata": {},
   "outputs": [
    {
     "data": {
      "text/plain": [
       "torch.Size([20033, 32])"
      ]
     },
     "execution_count": 6,
     "metadata": {},
     "output_type": "execute_result"
    }
   ],
   "source": [
    "# use random node feature for host, because hosts do not have rich features\n",
    "random_feature_dim = 32\n",
    "host_features = torch.randn(hosts_table.shape[0], random_feature_dim)  # Random features for each node\n",
    "host_features.shape"
   ]
  },
  {
   "cell_type": "code",
   "execution_count": 7,
   "id": "260f1a79-642a-458b-9b79-aabd9131101e",
   "metadata": {},
   "outputs": [
    {
     "data": {
      "text/plain": [
       "torch.Size([1048852, 12])"
      ]
     },
     "execution_count": 7,
     "metadata": {},
     "output_type": "execute_result"
    }
   ],
   "source": [
    "# features for article: lang, magnitude, score\n",
    "unique_langs, article_langs = np.unique(articles_table['lang'].values, return_inverse=True)\n",
    "article_features = pd.get_dummies(article_langs)\n",
    "article_features['magniture'] = articles_table['magnitude']\n",
    "article_features['score'] = articles_table['score']\n",
    "article_features = torch.from_numpy(article_features.values).to(torch.float)\n",
    "article_features.shape"
   ]
  },
  {
   "cell_type": "code",
   "execution_count": 8,
   "id": "d41edb64-da9c-4698-9a05-5cae2f7e96b5",
   "metadata": {},
   "outputs": [
    {
     "data": {
      "text/plain": [
       "torch.Size([1289112, 7])"
      ]
     },
     "execution_count": 8,
     "metadata": {},
     "output_type": "execute_result"
    }
   ],
   "source": [
    "# features for entities: type\n",
    "unique_types, entity_types = np.unique(entities_table['type'].values, return_inverse=True)\n",
    "entity_features = pd.get_dummies(entity_types)\n",
    "entity_features = torch.from_numpy(entity_features.values).to(torch.float)\n",
    "entity_features.shape"
   ]
  },
  {
   "cell_type": "markdown",
   "id": "e22efa36-2c2b-4ded-a8d8-10a41c985f6b",
   "metadata": {},
   "source": [
    "## 2.2 Edge Indices\n",
    "Two types of edges: \n",
    "1. host to article\n",
    "2. article to entity\n"
   ]
  },
  {
   "cell_type": "code",
   "execution_count": 9,
   "id": "8d06d1c4-64b7-45a3-b9d5-0a09285f5739",
   "metadata": {},
   "outputs": [],
   "source": [
    "def edge_indices_from_bq(bq):\n",
    "    host_article_query = \"\"\"  \n",
    "        SELECT * \n",
    "        FROM `gannett-datarevenue.zz_test_pang.edge_index_host_to_article` \n",
    "        \"\"\"\n",
    "    article_entity_query = \"\"\"  \n",
    "        SELECT * \n",
    "        FROM `gannett-datarevenue.zz_test_pang.edge_index_article_to_entity` \n",
    "        \"\"\"\n",
    "    query_job = bq.query(host_article_query, location=\"US\") \n",
    "    host_article = query_job.to_dataframe() \n",
    "    query_job = bq.query(article_entity_query, location=\"US\") \n",
    "    article_entity = query_job.to_dataframe() \n",
    "\n",
    "    return host_article, article_entity\n",
    "    "
   ]
  },
  {
   "cell_type": "code",
   "execution_count": 10,
   "id": "a638d667-ec21-4bf9-b0e9-9fbe07e21b26",
   "metadata": {},
   "outputs": [],
   "source": [
    "# use local csv files when possible \n",
    "def load_edge_indices(bq):\n",
    "    exists_host_article = os.path.isfile('data/edge_index_host_to_article.csv')\n",
    "    exists_article_entity = os.path.isfile('data/edge_index_article_to_entity.csv')\n",
    "\n",
    "    if exists_host_article and exists_article_entity:\n",
    "        print(\"Read from local csv files.\")\n",
    "        host_article = pd.read_csv('data/edge_index_host_to_article.csv')\n",
    "        article_entity = pd.read_csv('data/edge_index_article_to_entity.csv')\n",
    "    else:\n",
    "        print(\"Read from BigQuery.\")\n",
    "        host_article, article_entity = edge_indices_from_bq(bq)\n",
    "        host_article.to_csv('data/edge_index_host_to_article.csv')\n",
    "        article_entity.to_csv('data/edge_index_article_to_entity.csv')\n",
    "    \n",
    "    return host_article, article_entity"
   ]
  },
  {
   "cell_type": "code",
   "execution_count": 11,
   "id": "b66f0a35-e65c-48d3-9af6-6cc40d504e31",
   "metadata": {},
   "outputs": [
    {
     "name": "stdout",
     "output_type": "stream",
     "text": [
      "Read from local csv files.\n",
      "(1048852, 2) (39171153, 2)\n"
     ]
    },
    {
     "data": {
      "text/html": [
       "<div>\n",
       "<style scoped>\n",
       "    .dataframe tbody tr th:only-of-type {\n",
       "        vertical-align: middle;\n",
       "    }\n",
       "\n",
       "    .dataframe tbody tr th {\n",
       "        vertical-align: top;\n",
       "    }\n",
       "\n",
       "    .dataframe thead th {\n",
       "        text-align: right;\n",
       "    }\n",
       "</style>\n",
       "<table border=\"1\" class=\"dataframe\">\n",
       "  <thead>\n",
       "    <tr style=\"text-align: right;\">\n",
       "      <th></th>\n",
       "      <th>host_node_id</th>\n",
       "      <th>article_node_id</th>\n",
       "    </tr>\n",
       "  </thead>\n",
       "  <tbody>\n",
       "    <tr>\n",
       "      <th>182005</th>\n",
       "      <td>4433</td>\n",
       "      <td>273620</td>\n",
       "    </tr>\n",
       "    <tr>\n",
       "      <th>715605</th>\n",
       "      <td>18004</td>\n",
       "      <td>827094</td>\n",
       "    </tr>\n",
       "    <tr>\n",
       "      <th>743666</th>\n",
       "      <td>18275</td>\n",
       "      <td>439421</td>\n",
       "    </tr>\n",
       "  </tbody>\n",
       "</table>\n",
       "</div>"
      ],
      "text/plain": [
       "        host_node_id  article_node_id\n",
       "182005          4433           273620\n",
       "715605         18004           827094\n",
       "743666         18275           439421"
      ]
     },
     "metadata": {},
     "output_type": "display_data"
    },
    {
     "data": {
      "text/html": [
       "<div>\n",
       "<style scoped>\n",
       "    .dataframe tbody tr th:only-of-type {\n",
       "        vertical-align: middle;\n",
       "    }\n",
       "\n",
       "    .dataframe tbody tr th {\n",
       "        vertical-align: top;\n",
       "    }\n",
       "\n",
       "    .dataframe thead th {\n",
       "        text-align: right;\n",
       "    }\n",
       "</style>\n",
       "<table border=\"1\" class=\"dataframe\">\n",
       "  <thead>\n",
       "    <tr style=\"text-align: right;\">\n",
       "      <th></th>\n",
       "      <th>article_node_id</th>\n",
       "      <th>entity_node_id</th>\n",
       "    </tr>\n",
       "  </thead>\n",
       "  <tbody>\n",
       "    <tr>\n",
       "      <th>22734018</th>\n",
       "      <td>366832</td>\n",
       "      <td>409098</td>\n",
       "    </tr>\n",
       "    <tr>\n",
       "      <th>17221842</th>\n",
       "      <td>1017377</td>\n",
       "      <td>391671</td>\n",
       "    </tr>\n",
       "    <tr>\n",
       "      <th>37306578</th>\n",
       "      <td>643197</td>\n",
       "      <td>373312</td>\n",
       "    </tr>\n",
       "  </tbody>\n",
       "</table>\n",
       "</div>"
      ],
      "text/plain": [
       "          article_node_id  entity_node_id\n",
       "22734018           366832          409098\n",
       "17221842          1017377          391671\n",
       "37306578           643197          373312"
      ]
     },
     "metadata": {},
     "output_type": "display_data"
    }
   ],
   "source": [
    "# load edge indices into dataframes\n",
    "host_article, article_entity = load_edge_indices(bq)\n",
    "print(host_article.shape, article_entity.shape)\n",
    "\n",
    "# Sample 3 edges and display them\n",
    "display(host_article.sample(3))\n",
    "display(article_entity.sample(3))"
   ]
  },
  {
   "cell_type": "code",
   "execution_count": 12,
   "id": "156a1b55-4c76-40e0-8d3c-afb25d87f876",
   "metadata": {},
   "outputs": [
    {
     "name": "stdout",
     "output_type": "stream",
     "text": [
      "torch.Size([2, 1048852]) torch.Size([2, 39171153])\n"
     ]
    }
   ],
   "source": [
    "# construct `edge_index` in COO format\n",
    "# host - article\n",
    "host_index = torch.from_numpy(host_article['host_node_id'].values)\n",
    "article_index = torch.from_numpy(host_article['article_node_id'].values)\n",
    "edge_index_host_to_article = torch.stack([host_index, article_index], dim=0)\n",
    "assert edge_index_host_to_article.size() == (2, host_article.shape[0])\n",
    "\n",
    "# article - entity\n",
    "article_index = torch.from_numpy(article_entity['article_node_id'].values)\n",
    "entity_index = torch.from_numpy(article_entity['entity_node_id'].values)\n",
    "edge_index_article_to_entity = torch.stack([article_index, entity_index], dim=0)\n",
    "assert edge_index_article_to_entity.size() == (2, article_entity.shape[0])\n",
    "\n",
    "print(edge_index_host_to_article.shape, edge_index_article_to_entity.shape)"
   ]
  },
  {
   "cell_type": "markdown",
   "id": "b0acedc1-5a66-4afd-b917-72044ad934e9",
   "metadata": {},
   "source": [
    "# 3. Create HeteroData object"
   ]
  },
  {
   "cell_type": "code",
   "execution_count": 13,
   "id": "da601f2c-d5da-4434-a8ad-1daa1246e295",
   "metadata": {},
   "outputs": [
    {
     "data": {
      "text/plain": [
       "HeteroData(\n",
       "  host={\n",
       "    node_id=[20033],\n",
       "    x=[20033, 32],\n",
       "  },\n",
       "  article={\n",
       "    node_id=[1048852],\n",
       "    x=[1048852, 12],\n",
       "  },\n",
       "  entity={\n",
       "    node_id=[1289112],\n",
       "    x=[1289112, 7],\n",
       "  },\n",
       "  (host, publishes, article)={ edge_index=[2, 1048852] },\n",
       "  (article, mentions, entity)={ edge_index=[2, 39171153] },\n",
       "  (article, rev_publishes, host)={ edge_index=[2, 1048852] },\n",
       "  (entity, rev_mentions, article)={ edge_index=[2, 39171153] }\n",
       ")"
      ]
     },
     "execution_count": 13,
     "metadata": {},
     "output_type": "execute_result"
    }
   ],
   "source": [
    "hetero_data = HeteroData()\n",
    "# Save node indices:\n",
    "hetero_data['host'].node_id = torch.arange(hosts_table.shape[0])\n",
    "hetero_data['article'].node_id = torch.arange(articles_table.shape[0])\n",
    "hetero_data['entity'].node_id = torch.arange(entities_table.shape[0])\n",
    "# Add the node features and edge indices:\n",
    "hetero_data['host'].x = host_features\n",
    "hetero_data['article'].x = article_features\n",
    "hetero_data['entity'].x = entity_features\n",
    "# edges\n",
    "hetero_data['host', 'publishes', 'article'].edge_index = edge_index_host_to_article\n",
    "hetero_data['article', 'mentions', 'entity'].edge_index = edge_index_article_to_entity\n",
    "# let a GNN pass messages in both directions.\n",
    "hetero_data = T.ToUndirected()(hetero_data)\n",
    "hetero_data"
   ]
  },
  {
   "cell_type": "markdown",
   "id": "06fa5368-24ba-487c-89ac-b94831fe032c",
   "metadata": {},
   "source": [
    "## 4. GraphSAGE Model"
   ]
  },
  {
   "cell_type": "code",
   "execution_count": 16,
   "id": "3a052a00-467c-465e-b8cf-22c947eeddf6",
   "metadata": {},
   "outputs": [],
   "source": [
    "device = torch.device('cuda' if torch.cuda.is_available() else 'cpu')\n",
    "\n",
    "model = GraphSAGE(\n",
    "    -1,\n",
    "    hidden_channels=64,\n",
    "    num_layers=2,\n",
    ").to(device)\n",
    "\n",
    "optimizer = torch.optim.Adam(model.parameters(), lr=0.01)"
   ]
  },
  {
   "cell_type": "code",
   "execution_count": 17,
   "id": "233cf2fc-59c6-4de5-bc86-60dcc4edcf06",
   "metadata": {},
   "outputs": [],
   "source": [
    "def train():\n",
    "    model.train()\n",
    "\n",
    "    total_loss = 0\n",
    "    for batch in train_loader:\n",
    "        batch = batch.to(device)\n",
    "        optimizer.zero_grad()\n",
    "        h = model(batch.x, batch.edge_index)\n",
    "        h_src = h[batch.edge_label_index[0]]\n",
    "        h_dst = h[batch.edge_label_index[1]]\n",
    "        pred = (h_src * h_dst).sum(dim=-1)\n",
    "        loss = F.binary_cross_entropy_with_logits(pred, batch.edge_label)\n",
    "        loss.backward()\n",
    "        optimizer.step()\n",
    "        total_loss += float(loss) * pred.size(0)\n",
    "\n",
    "    return total_loss / data.num_nodes"
   ]
  },
  {
   "cell_type": "code",
   "execution_count": 19,
   "id": "1b228d76-6784-4594-8485-0f56cc1b9293",
   "metadata": {},
   "outputs": [
    {
     "data": {
      "text/plain": [
       "{('host',\n",
       "  'publishes',\n",
       "  'article'): tensor([[     0,      0,      0,  ...,  19455,  19455,  19967],\n",
       "         [803826, 628669, 475284,  ..., 220179, 169840,  57478]]),\n",
       " ('article',\n",
       "  'mentions',\n",
       "  'entity'): tensor([[337813, 940065, 547560,  ..., 501897, 189535, 327345],\n",
       "         [262144, 524288, 524288,  ..., 654847, 131071, 917503]]),\n",
       " ('article',\n",
       "  'rev_publishes',\n",
       "  'host'): tensor([[803826, 628669, 475284,  ..., 220179, 169840,  57478],\n",
       "         [     0,      0,      0,  ...,  19455,  19455,  19967]]),\n",
       " ('entity',\n",
       "  'rev_mentions',\n",
       "  'article'): tensor([[262144, 524288, 524288,  ..., 654847, 131071, 917503],\n",
       "         [337813, 940065, 547560,  ..., 501897, 189535, 327345]])}"
      ]
     },
     "execution_count": 19,
     "metadata": {},
     "output_type": "execute_result"
    }
   ],
   "source": [
    "hetero_data.edge_index_dict"
   ]
  },
  {
   "cell_type": "code",
   "execution_count": 22,
   "id": "9ddaf276-5379-43d1-9f72-87a60031a47f",
   "metadata": {},
   "outputs": [
    {
     "ename": "AttributeError",
     "evalue": "'HeteroData' has no attribute 'edge_label'",
     "output_type": "error",
     "traceback": [
      "\u001b[0;31m---------------------------------------------------------------------------\u001b[0m",
      "\u001b[0;31mAttributeError\u001b[0m                            Traceback (most recent call last)",
      "Cell \u001b[0;32mIn[22], line 1\u001b[0m\n\u001b[0;32m----> 1\u001b[0m \u001b[43mhetero_data\u001b[49m\u001b[38;5;241;43m.\u001b[39;49m\u001b[43medge_label\u001b[49m\n",
      "File \u001b[0;32m~/miniforge3/envs/news-outlets/lib/python3.11/site-packages/torch_geometric/data/hetero_data.py:156\u001b[0m, in \u001b[0;36mHeteroData.__getattr__\u001b[0;34m(self, key)\u001b[0m\n\u001b[1;32m    154\u001b[0m \u001b[38;5;28;01melif\u001b[39;00m \u001b[38;5;28mbool\u001b[39m(re\u001b[38;5;241m.\u001b[39msearch(\u001b[38;5;124m'\u001b[39m\u001b[38;5;124m_dict$\u001b[39m\u001b[38;5;124m'\u001b[39m, key)):\n\u001b[1;32m    155\u001b[0m     \u001b[38;5;28;01mreturn\u001b[39;00m \u001b[38;5;28mself\u001b[39m\u001b[38;5;241m.\u001b[39mcollect(key[:\u001b[38;5;241m-\u001b[39m\u001b[38;5;241m5\u001b[39m])\n\u001b[0;32m--> 156\u001b[0m \u001b[38;5;28;01mraise\u001b[39;00m \u001b[38;5;167;01mAttributeError\u001b[39;00m(\u001b[38;5;124mf\u001b[39m\u001b[38;5;124m\"\u001b[39m\u001b[38;5;124m'\u001b[39m\u001b[38;5;132;01m{\u001b[39;00m\u001b[38;5;28mself\u001b[39m\u001b[38;5;241m.\u001b[39m\u001b[38;5;18m__class__\u001b[39m\u001b[38;5;241m.\u001b[39m\u001b[38;5;18m__name__\u001b[39m\u001b[38;5;132;01m}\u001b[39;00m\u001b[38;5;124m'\u001b[39m\u001b[38;5;124m has no \u001b[39m\u001b[38;5;124m\"\u001b[39m\n\u001b[1;32m    157\u001b[0m                      \u001b[38;5;124mf\u001b[39m\u001b[38;5;124m\"\u001b[39m\u001b[38;5;124mattribute \u001b[39m\u001b[38;5;124m'\u001b[39m\u001b[38;5;132;01m{\u001b[39;00mkey\u001b[38;5;132;01m}\u001b[39;00m\u001b[38;5;124m'\u001b[39m\u001b[38;5;124m\"\u001b[39m)\n",
      "\u001b[0;31mAttributeError\u001b[0m: 'HeteroData' has no attribute 'edge_label'"
     ]
    }
   ],
   "source": [
    "hetero_data.edge_label"
   ]
  },
  {
   "cell_type": "code",
   "execution_count": null,
   "id": "4f4a3c18-1409-4fbe-bd1f-3de1bb339434",
   "metadata": {},
   "outputs": [],
   "source": []
  }
 ],
 "metadata": {
  "kernelspec": {
   "display_name": "Python 3 (ipykernel)",
   "language": "python",
   "name": "python3"
  },
  "language_info": {
   "codemirror_mode": {
    "name": "ipython",
    "version": 3
   },
   "file_extension": ".py",
   "mimetype": "text/x-python",
   "name": "python",
   "nbconvert_exporter": "python",
   "pygments_lexer": "ipython3",
   "version": "3.11.6"
  }
 },
 "nbformat": 4,
 "nbformat_minor": 5
}
