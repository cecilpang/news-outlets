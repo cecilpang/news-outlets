{
 "cells": [
  {
   "cell_type": "code",
   "execution_count": 1,
   "id": "94ca0572-c500-43f8-9ec2-04d1cb5d0bc8",
   "metadata": {
    "ExecuteTime": {
     "end_time": "2023-12-02T22:44:28.289575Z",
     "start_time": "2023-12-02T22:44:24.477273Z"
    }
   },
   "outputs": [],
   "source": [
    "from google.cloud import bigquery\n",
    "import pandas as pd\n",
    "import numpy as np\n",
    "import matplotlib.pyplot as plt\n",
    "import os\n",
    "import torch\n",
    "from torch_geometric.data import HeteroData\n",
    "import torch_geometric.transforms as T"
   ]
  },
  {
   "cell_type": "markdown",
   "id": "c0851016-f23d-458a-a286-a85ee222d9f3",
   "metadata": {},
   "source": [
    "### 1. Data processing in BigQuery\n",
    "1. Get one week of data from this public available BiqQuery table: gdelt-bq.gdeltv2.geg_gcnlapi\n",
    "2. Create hosts table, articles table and entities table, with node ids assigned\n",
    "3. Create 2 edge index tables: host to article and article to entity\n"
   ]
  },
  {
   "cell_type": "markdown",
   "id": "fd8f99d2-d26f-4bb9-95da-2a2cb5facfa9",
   "metadata": {},
   "source": [
    "### 2. Read pre-processed data from BigQuery into Dataframes\n",
    "Hosts table, article table, entities table, and edge indices between them."
   ]
  },
  {
   "cell_type": "code",
   "execution_count": 2,
   "id": "5d48edd0-830c-4764-b82d-90f0ae20c79c",
   "metadata": {},
   "outputs": [],
   "source": [
    "# BigQuery api client\n",
    "bq = bigquery.Client(location=\"US\")\n"
   ]
  },
  {
   "cell_type": "code",
   "execution_count": 3,
   "id": "4160f0eb-1035-48d2-8eb1-97a23807c365",
   "metadata": {},
   "outputs": [],
   "source": [
    "def nodes_tables_from_bq(bq):\n",
    "    host_query = \"\"\"  \n",
    "        SELECT * \n",
    "        FROM `gannett-datarevenue.zz_test_pang.hosts_table` \n",
    "        \"\"\"\n",
    "    article_query = \"\"\"  \n",
    "        SELECT * \n",
    "        FROM `gannett-datarevenue.zz_test_pang.articles_table` \n",
    "        \"\"\"\n",
    "    entity_query = \"\"\"  \n",
    "        SELECT * \n",
    "        FROM `gannett-datarevenue.zz_test_pang.entities_table` \n",
    "        \"\"\"\n",
    "    query_job = bq.query(host_query, location=\"US\") \n",
    "    hosts = query_job.to_dataframe() \n",
    "    query_job = bq.query(article_query, location=\"US\") \n",
    "    articles = query_job.to_dataframe() \n",
    "    query_job = bq.query(entity_query, location=\"US\") \n",
    "    entities = query_job.to_dataframe() \n",
    "    return hosts, articles, entities"
   ]
  },
  {
   "cell_type": "code",
   "execution_count": 4,
   "id": "bb793a18-daba-4ea7-b4fd-f3ea65a05017",
   "metadata": {},
   "outputs": [],
   "source": [
    "def load_nodes_tables(bq):\n",
    "    exists_hosts = os.path.isfile('data/hosts_table.csv')\n",
    "    exists_articles = os.path.isfile('data/articles_table.csv')\n",
    "    exists_entities = os.path.isfile('data/entities_table.csv')\n",
    "    if exists_hosts and exists_articles and exists_entities:\n",
    "        print(\"Read from local csv files.\")\n",
    "        hosts = pd.read_csv('data/hosts_table.csv')\n",
    "        articles = pd.read_csv('data/articles_table.csv')\n",
    "        entities = pd.read_csv('data/entities_table.csv')\n",
    "    else:\n",
    "        print(\"Read from BigQuery.\")\n",
    "        hosts, articles, entities = nodes_tables_from_bq(bq)\n",
    "        hosts.to_csv('data/hosts_table.csv')\n",
    "        articles.to_csv('data/articles_table.csv')\n",
    "        entities.to_csv('data/entities_table.csv')\n",
    "    \n",
    "    return hosts, articles, entities"
   ]
  },
  {
   "cell_type": "code",
   "execution_count": 5,
   "id": "d1e4e4fb-f4c3-4756-a984-38d2647ba909",
   "metadata": {},
   "outputs": [
    {
     "name": "stdout",
     "output_type": "stream",
     "text": [
      "Read from BigQuery.\n"
     ]
    }
   ],
   "source": [
    "# load nodes tables into dataframes\n",
    "hosts_table, articles_table, entities_table = load_nodes_tables(bq)\n",
    "print(hosts_table.shape, articles_table.shape, entities_table.shape)\n"
   ]
  },
  {
   "cell_type": "code",
   "execution_count": 7,
   "id": "9a28d25b-ebe3-4af2-bdcc-1f88628fa9cb",
   "metadata": {},
   "outputs": [
    {
     "name": "stdout",
     "output_type": "stream",
     "text": [
      "(20033, 2) (1048852, 6) (1289112, 3)\n"
     ]
    }
   ],
   "source": [
    "print(hosts_table.shape, articles_table.shape, entities_table.shape)"
   ]
  },
  {
   "cell_type": "code",
   "execution_count": 26,
   "id": "6f0fc1d3-c978-4f9c-bb42-372101a40c58",
   "metadata": {},
   "outputs": [],
   "source": [
    "# sort the dataframes by node ids\n",
    "hosts_table = hosts_table.sort_values(by=['host_node_id'], ascending=True).reset_index(drop=True)\n",
    "articles_table = articles_table.sort_values(by=['article_node_id'], ascending=True).reset_index(drop=True)\n",
    "entities_table = entities_table.sort_values(by=['entity_node_id'], ascending=True).reset_index(drop=True)\n"
   ]
  },
  {
   "cell_type": "code",
   "execution_count": 28,
   "id": "2c3740a9-200b-4479-bd80-01ec19210f1d",
   "metadata": {},
   "outputs": [
    {
     "data": {
      "text/html": [
       "<div>\n",
       "<style scoped>\n",
       "    .dataframe tbody tr th:only-of-type {\n",
       "        vertical-align: middle;\n",
       "    }\n",
       "\n",
       "    .dataframe tbody tr th {\n",
       "        vertical-align: top;\n",
       "    }\n",
       "\n",
       "    .dataframe thead th {\n",
       "        text-align: right;\n",
       "    }\n",
       "</style>\n",
       "<table border=\"1\" class=\"dataframe\">\n",
       "  <thead>\n",
       "    <tr style=\"text-align: right;\">\n",
       "      <th></th>\n",
       "      <th>host_node_id</th>\n",
       "      <th>host</th>\n",
       "    </tr>\n",
       "  </thead>\n",
       "  <tbody>\n",
       "    <tr>\n",
       "      <th>0</th>\n",
       "      <td>0</td>\n",
       "      <td>www.berchtesgadener-anzeiger.de</td>\n",
       "    </tr>\n",
       "    <tr>\n",
       "      <th>1</th>\n",
       "      <td>1</td>\n",
       "      <td>www.toponline.ch</td>\n",
       "    </tr>\n",
       "    <tr>\n",
       "      <th>2</th>\n",
       "      <td>2</td>\n",
       "      <td>news.yahoo.com</td>\n",
       "    </tr>\n",
       "    <tr>\n",
       "      <th>3</th>\n",
       "      <td>3</td>\n",
       "      <td>abcnews.go.com</td>\n",
       "    </tr>\n",
       "    <tr>\n",
       "      <th>4</th>\n",
       "      <td>4</td>\n",
       "      <td>www.dailyliberal.com.au</td>\n",
       "    </tr>\n",
       "  </tbody>\n",
       "</table>\n",
       "</div>"
      ],
      "text/plain": [
       "   host_node_id                             host\n",
       "0             0  www.berchtesgadener-anzeiger.de\n",
       "1             1                 www.toponline.ch\n",
       "2             2                   news.yahoo.com\n",
       "3             3                   abcnews.go.com\n",
       "4             4          www.dailyliberal.com.au"
      ]
     },
     "metadata": {},
     "output_type": "display_data"
    },
    {
     "data": {
      "text/html": [
       "<div>\n",
       "<style scoped>\n",
       "    .dataframe tbody tr th:only-of-type {\n",
       "        vertical-align: middle;\n",
       "    }\n",
       "\n",
       "    .dataframe tbody tr th {\n",
       "        vertical-align: top;\n",
       "    }\n",
       "\n",
       "    .dataframe thead th {\n",
       "        text-align: right;\n",
       "    }\n",
       "</style>\n",
       "<table border=\"1\" class=\"dataframe\">\n",
       "  <thead>\n",
       "    <tr style=\"text-align: right;\">\n",
       "      <th></th>\n",
       "      <th>article_node_id</th>\n",
       "      <th>host</th>\n",
       "      <th>url</th>\n",
       "      <th>lang</th>\n",
       "      <th>magnitude</th>\n",
       "      <th>score</th>\n",
       "    </tr>\n",
       "  </thead>\n",
       "  <tbody>\n",
       "    <tr>\n",
       "      <th>0</th>\n",
       "      <td>0</td>\n",
       "      <td>www.workersliberty.org</td>\n",
       "      <td>https://www.workersliberty.org/index.php/audio</td>\n",
       "      <td>en</td>\n",
       "      <td>15.9</td>\n",
       "      <td>0.0</td>\n",
       "    </tr>\n",
       "    <tr>\n",
       "      <th>1</th>\n",
       "      <td>1</td>\n",
       "      <td>www.wkyc.com</td>\n",
       "      <td>https://www.wkyc.com/article/news/nation-world...</td>\n",
       "      <td>en</td>\n",
       "      <td>24.6</td>\n",
       "      <td>-0.4</td>\n",
       "    </tr>\n",
       "    <tr>\n",
       "      <th>2</th>\n",
       "      <td>2</td>\n",
       "      <td>townhall.com</td>\n",
       "      <td>https://townhall.com/tipsheet/mattvespa/2023/1...</td>\n",
       "      <td>en</td>\n",
       "      <td>13.2</td>\n",
       "      <td>-0.4</td>\n",
       "    </tr>\n",
       "    <tr>\n",
       "      <th>3</th>\n",
       "      <td>3</td>\n",
       "      <td>www.crowdfundinsider.com</td>\n",
       "      <td>https://www.crowdfundinsider.com/2023/10/21440...</td>\n",
       "      <td>en</td>\n",
       "      <td>5.9</td>\n",
       "      <td>0.2</td>\n",
       "    </tr>\n",
       "    <tr>\n",
       "      <th>4</th>\n",
       "      <td>4</td>\n",
       "      <td>www.ktep.org</td>\n",
       "      <td>https://www.ktep.org/u-s-news/2023-10-17/once-...</td>\n",
       "      <td>en</td>\n",
       "      <td>5.2</td>\n",
       "      <td>0.0</td>\n",
       "    </tr>\n",
       "  </tbody>\n",
       "</table>\n",
       "</div>"
      ],
      "text/plain": [
       "   article_node_id                      host  \\\n",
       "0                0    www.workersliberty.org   \n",
       "1                1              www.wkyc.com   \n",
       "2                2              townhall.com   \n",
       "3                3  www.crowdfundinsider.com   \n",
       "4                4              www.ktep.org   \n",
       "\n",
       "                                                 url lang  magnitude  score  \n",
       "0     https://www.workersliberty.org/index.php/audio   en       15.9    0.0  \n",
       "1  https://www.wkyc.com/article/news/nation-world...   en       24.6   -0.4  \n",
       "2  https://townhall.com/tipsheet/mattvespa/2023/1...   en       13.2   -0.4  \n",
       "3  https://www.crowdfundinsider.com/2023/10/21440...   en        5.9    0.2  \n",
       "4  https://www.ktep.org/u-s-news/2023-10-17/once-...   en        5.2    0.0  "
      ]
     },
     "metadata": {},
     "output_type": "display_data"
    },
    {
     "data": {
      "text/html": [
       "<div>\n",
       "<style scoped>\n",
       "    .dataframe tbody tr th:only-of-type {\n",
       "        vertical-align: middle;\n",
       "    }\n",
       "\n",
       "    .dataframe tbody tr th {\n",
       "        vertical-align: top;\n",
       "    }\n",
       "\n",
       "    .dataframe thead th {\n",
       "        text-align: right;\n",
       "    }\n",
       "</style>\n",
       "<table border=\"1\" class=\"dataframe\">\n",
       "  <thead>\n",
       "    <tr style=\"text-align: right;\">\n",
       "      <th></th>\n",
       "      <th>entity_node_id</th>\n",
       "      <th>mid</th>\n",
       "      <th>type</th>\n",
       "    </tr>\n",
       "  </thead>\n",
       "  <tbody>\n",
       "    <tr>\n",
       "      <th>0</th>\n",
       "      <td>0</td>\n",
       "      <td>/m/0138vk</td>\n",
       "      <td>LOCATION</td>\n",
       "    </tr>\n",
       "    <tr>\n",
       "      <th>1</th>\n",
       "      <td>1</td>\n",
       "      <td>/m/02phmc9</td>\n",
       "      <td>LOCATION</td>\n",
       "    </tr>\n",
       "    <tr>\n",
       "      <th>2</th>\n",
       "      <td>2</td>\n",
       "      <td>/m/04gsnk1</td>\n",
       "      <td>ORGANIZATION</td>\n",
       "    </tr>\n",
       "    <tr>\n",
       "      <th>3</th>\n",
       "      <td>3</td>\n",
       "      <td>/m/02d1f0</td>\n",
       "      <td>PERSON</td>\n",
       "    </tr>\n",
       "    <tr>\n",
       "      <th>4</th>\n",
       "      <td>4</td>\n",
       "      <td>/m/011hrk</td>\n",
       "      <td>LOCATION</td>\n",
       "    </tr>\n",
       "  </tbody>\n",
       "</table>\n",
       "</div>"
      ],
      "text/plain": [
       "   entity_node_id         mid          type\n",
       "0               0   /m/0138vk      LOCATION\n",
       "1               1  /m/02phmc9      LOCATION\n",
       "2               2  /m/04gsnk1  ORGANIZATION\n",
       "3               3   /m/02d1f0        PERSON\n",
       "4               4   /m/011hrk      LOCATION"
      ]
     },
     "metadata": {},
     "output_type": "display_data"
    }
   ],
   "source": [
    "display(hosts_table.head(5))\n",
    "display(articles_table.head(5))\n",
    "display(entities_table.head(5))\n"
   ]
  },
  {
   "cell_type": "code",
   "execution_count": 13,
   "id": "6ad09e8b-bdde-45d3-9df4-f782918038c2",
   "metadata": {},
   "outputs": [
    {
     "data": {
      "text/plain": [
       "torch.Size([20033, 32])"
      ]
     },
     "execution_count": 13,
     "metadata": {},
     "output_type": "execute_result"
    }
   ],
   "source": [
    "# use random node feature for host, because hosts do not have rich features\n",
    "random_feature_dim = 32\n",
    "host_features = torch.randn(hosts_table.shape[0], random_feature_dim)  # Random features for each node\n",
    "host_features.shape"
   ]
  },
  {
   "cell_type": "code",
   "execution_count": null,
   "id": "260f1a79-642a-458b-9b79-aabd9131101e",
   "metadata": {},
   "outputs": [],
   "source": [
    "# features for article: lang, magnitude, score\n",
    "unique_langs, article_langs = np.unique(geg['lang'].values, return_inverse=True)\n",
    "article_features = pd.get_dummies(article_langs)\n",
    "article_features['magniture'] = geg['magnitude']\n",
    "article_features['score'] = geg['score']\n",
    "article_features = torch.from_numpy(article_features.values).to(torch.float)"
   ]
  },
  {
   "cell_type": "code",
   "execution_count": null,
   "id": "9760a597ecc5d594",
   "metadata": {
    "ExecuteTime": {
     "end_time": "2023-12-02T22:44:29.116619Z",
     "start_time": "2023-12-02T22:44:29.111835Z"
    },
    "collapsed": false,
    "jupyter": {
     "outputs_hidden": false
    }
   },
   "outputs": [],
   "source": [
    "def read_geg_from_bq(dataset='week'):\n",
    "    bq = bigquery.Client(location=\"US\")\n",
    "    dataset_1_month = \"\"\"  \n",
    "        SELECT * \n",
    "        FROM `gannett-datarevenue.zz_test_pang.geg_with_mid` \n",
    "        WHERE date between TIMESTAMP(\"2023-11-01\") and TIMESTAMP(\"2023-11-30\")\n",
    "        \"\"\"\n",
    "    dataset_1_week = \"\"\"  \n",
    "        SELECT * \n",
    "        FROM `gannett-datarevenue.zz_test_pang.geg_with_mid` \n",
    "        WHERE date between TIMESTAMP(\"2023-11-19\") and TIMESTAMP(\"2023-11-25\")\n",
    "        \"\"\"\n",
    "    \n",
    "    query = dataset_1_month if dataset == 'month' else dataset_1_week\n",
    "\n",
    "    query_job = bq.query(query, location=\"US\") \n",
    "    df = query_job.to_dataframe() \n",
    "    return df\n",
    "    "
   ]
  },
  {
   "cell_type": "code",
   "execution_count": null,
   "id": "b008b1081552d671",
   "metadata": {
    "ExecuteTime": {
     "end_time": "2023-12-02T22:44:30.406737Z",
     "start_time": "2023-12-02T22:44:30.402346Z"
    },
    "collapsed": false,
    "jupyter": {
     "outputs_hidden": false
    }
   },
   "outputs": [],
   "source": [
    "def load_one_week_data():\n",
    "    df = None\n",
    "    exists = os.path.isfile('data/geg_1_week.csv')\n",
    "    if exists:\n",
    "        print(\"read from local file data/geg_1_week.csv\")\n",
    "        df = pd.read_csv('data/geg_1_week.csv')\n",
    "    else:\n",
    "        print(\"read from BigQuery\")\n",
    "        df = read_geg_from_bq('week')\n",
    "        df.to_csv('data/geg_1_week.csv')\n",
    "    \n",
    "    return df\n",
    "    "
   ]
  },
  {
   "cell_type": "code",
   "execution_count": null,
   "id": "6efeeea195fccb3e",
   "metadata": {
    "ExecuteTime": {
     "end_time": "2023-12-02T22:45:17.029365Z",
     "start_time": "2023-12-02T22:44:32.493076Z"
    },
    "collapsed": false,
    "jupyter": {
     "outputs_hidden": false
    }
   },
   "outputs": [],
   "source": [
    "geg = load_one_week_data()\n",
    "\n",
    "print(geg.shape)"
   ]
  },
  {
   "cell_type": "code",
   "execution_count": null,
   "id": "7ab5e9f1c7ddb417",
   "metadata": {
    "ExecuteTime": {
     "end_time": "2023-12-02T22:49:38.476286Z",
     "start_time": "2023-12-02T22:49:38.468478Z"
    },
    "collapsed": false,
    "jupyter": {
     "outputs_hidden": false
    }
   },
   "outputs": [],
   "source": [
    "geg.sample(5)"
   ]
  },
  {
   "cell_type": "markdown",
   "id": "d8ab4ce1-75b9-4935-92a6-f0da9c912d54",
   "metadata": {},
   "source": [
    "### Node features:\n",
    "1. Node Type - News Outlet (identified by host url), Article (identified by url), Entity (identified by mid)\n",
    "2. Node Subtype - \"News Outlet\" for News Outlet nodes, \"Article\" for Article nodes, and value of mid for Entity nodes.  \n",
    "3. Magnitude - 0 for news outlets and entities, value of magnitude for articles\n",
    "4. Score - 0 for news outlets and entities, value of score for articles\n"
   ]
  },
  {
   "cell_type": "code",
   "execution_count": null,
   "id": "067798d3-649b-4eb0-8481-395aec8325cf",
   "metadata": {},
   "outputs": [],
   "source": [
    "# Create a mapping from unique news outlet (host) to range (0, num_news_outlets):\n",
    "unique_news_outlets = geg['host'].unique()\n",
    "unique_news_outlets = pd.DataFrame(data={\n",
    "    'host': unique_news_outlets,\n",
    "    'node_id': pd.RangeIndex(len(unique_news_outlets)),\n",
    "})\n",
    "\n",
    "print(\"Mapping of hosts to node ids:\")\n",
    "print(\"==========================================\")\n",
    "print(unique_news_outlets.head())\n",
    "print()"
   ]
  },
  {
   "cell_type": "code",
   "execution_count": null,
   "id": "7e0f7753-2838-4467-a841-27505d5c358a",
   "metadata": {},
   "outputs": [],
   "source": [
    "# Assign unique node ids to hosts\n",
    "unique_hosts, host_node_ids = np.unique(geg['host'].values, return_inverse=True)\n",
    "geg['host_node_id'] = host_node_ids\n"
   ]
  },
  {
   "cell_type": "code",
   "execution_count": null,
   "id": "397a5ab6-1ca6-443c-822a-ab9fb67b135e",
   "metadata": {},
   "outputs": [],
   "source": [
    "# Assign unique node ids to articles, which are identified by urls\n",
    "unique_articles, article_node_ids = np.unique(geg['url'].values, return_inverse=True)\n",
    "geg['article_node_id'] = article_node_ids"
   ]
  },
  {
   "cell_type": "code",
   "execution_count": null,
   "id": "51a492e6-bba6-4954-bbff-ff4b6ad96016",
   "metadata": {},
   "outputs": [],
   "source": [
    "# Assign unique node ids to entities, which are identified by mids\n",
    "unique_entities, entity_node_ids = np.unique(geg['mid'].values, return_inverse=True)\n",
    "geg['entity_node_id'] = entity_node_ids"
   ]
  },
  {
   "cell_type": "code",
   "execution_count": null,
   "id": "cce21527-ecbc-4910-ab39-e3ec6ec76b01",
   "metadata": {},
   "outputs": [],
   "source": [
    "print(len(unique_hosts), len(unique_articles), len(unique_entities))\n",
    "\n",
    "unique_hosts"
   ]
  },
  {
   "cell_type": "code",
   "execution_count": null,
   "id": "9c3fcde5-c990-4348-ac36-52a11807dba0",
   "metadata": {},
   "outputs": [],
   "source": [
    "geg.head()"
   ]
  },
  {
   "cell_type": "code",
   "execution_count": null,
   "id": "24548187-e6ee-46d2-adce-7c757931a84d",
   "metadata": {},
   "outputs": [],
   "source": [
    "# features for article: lang, magnitude, score\n",
    "\n",
    "# \n",
    "\n",
    "unique_langs, article_langs = np.unique(geg['lang'].values, return_inverse=True)\n",
    "article_features = pd.get_dummies(article_langs)\n",
    "article_features['magniture'] = geg['magnitude']\n",
    "article_features['score'] = geg['score']\n",
    "article_features = torch.from_numpy(article_features.values).to(torch.float)\n"
   ]
  },
  {
   "cell_type": "code",
   "execution_count": null,
   "id": "78cb5cd8-a77f-444c-afed-b04f82c9f60a",
   "metadata": {},
   "outputs": [],
   "source": [
    "# features for entity: type\n",
    "unique_entity_types, entity_types = np.unique(geg['type'].values, return_inverse=True)\n",
    "entity_features = pd.get_dummies(entity_types)\n",
    "entity_features = torch.from_numpy(entity_features.values).to(torch.float)"
   ]
  },
  {
   "cell_type": "code",
   "execution_count": null,
   "id": "da601f2c-d5da-4434-a8ad-1daa1246e295",
   "metadata": {},
   "outputs": [],
   "source": [
    "data = HeteroData()\n",
    "# Save node indices:\n",
    "data[\"host\"].node_id = torch.arange(len(unique_hosts))\n",
    "data[\"article\"].node_id = torch.arange(len(unique_articles))\n",
    "data[\"entity\"].node_id = torch.arange(len(unique_entities))\n",
    "# Add the node features and edge indices:\n",
    "data[\"host\"].x = movie_feat\n",
    "data"
   ]
  },
  {
   "cell_type": "code",
   "execution_count": null,
   "id": "b336a6fa-773a-4b2f-a663-849ae9a747a8",
   "metadata": {},
   "outputs": [],
   "source": [
    "host_features.shape"
   ]
  },
  {
   "cell_type": "code",
   "execution_count": null,
   "id": "565460da-f505-4caf-9115-63e70d140a94",
   "metadata": {},
   "outputs": [],
   "source": [
    "geg.shape"
   ]
  },
  {
   "cell_type": "code",
   "execution_count": null,
   "id": "4b9882a7d1516f8",
   "metadata": {
    "ExecuteTime": {
     "end_time": "2023-12-02T22:50:32.425156Z",
     "start_time": "2023-12-02T22:50:29.353449Z"
    },
    "collapsed": false,
    "jupyter": {
     "outputs_hidden": false
    }
   },
   "outputs": [],
   "source": [
    "usa_today = geg[geg['host'].str.contains('usatoday')]\n"
   ]
  },
  {
   "cell_type": "code",
   "execution_count": null,
   "id": "861f6102bfd776d5",
   "metadata": {
    "ExecuteTime": {
     "end_time": "2023-12-03T16:00:34.306073Z",
     "start_time": "2023-12-03T16:00:34.298407Z"
    },
    "collapsed": false,
    "jupyter": {
     "outputs_hidden": false
    }
   },
   "outputs": [],
   "source": [
    "usa_today.shape"
   ]
  },
  {
   "cell_type": "code",
   "execution_count": null,
   "id": "36c3c799288834eb",
   "metadata": {
    "ExecuteTime": {
     "end_time": "2023-12-03T16:01:06.533900Z",
     "start_time": "2023-12-03T16:00:59.606431Z"
    },
    "collapsed": false,
    "jupyter": {
     "outputs_hidden": false
    }
   },
   "outputs": [],
   "source": [
    "nytimes = geg[geg['host'].str.contains('nytimes')]"
   ]
  },
  {
   "cell_type": "code",
   "execution_count": null,
   "id": "14897e73a4fe75b8",
   "metadata": {
    "ExecuteTime": {
     "end_time": "2023-12-03T16:01:09.495511Z",
     "start_time": "2023-12-03T16:01:09.488579Z"
    },
    "collapsed": false,
    "jupyter": {
     "outputs_hidden": false
    }
   },
   "outputs": [],
   "source": [
    "nytimes.shape"
   ]
  },
  {
   "cell_type": "code",
   "execution_count": null,
   "id": "7391d74c4c837afc",
   "metadata": {
    "collapsed": false,
    "jupyter": {
     "outputs_hidden": false
    }
   },
   "outputs": [],
   "source": []
  }
 ],
 "metadata": {
  "kernelspec": {
   "display_name": "Python 3 (ipykernel)",
   "language": "python",
   "name": "python3"
  },
  "language_info": {
   "codemirror_mode": {
    "name": "ipython",
    "version": 3
   },
   "file_extension": ".py",
   "mimetype": "text/x-python",
   "name": "python",
   "nbconvert_exporter": "python",
   "pygments_lexer": "ipython3",
   "version": "3.11.6"
  }
 },
 "nbformat": 4,
 "nbformat_minor": 5
}
